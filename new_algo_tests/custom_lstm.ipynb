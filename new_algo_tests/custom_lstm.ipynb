{
 "cells": [
  {
   "cell_type": "code",
   "execution_count": 15,
   "id": "ff635531-1f22-41be-8fd5-563c85bc54a9",
   "metadata": {},
   "outputs": [],
   "source": [
    "from tqdm.auto import tqdm\n",
    "import numba as numba\n",
    "import numpy as np\n",
    "\n",
    "import tensorflow as tf\n",
    "from tensorflow.keras import layers\n",
    "from tensorflow.keras.datasets import imdb\n",
    "from tensorflow.keras.preprocessing.sequence import pad_sequences\n",
    "from tensorflow.keras.models import Sequential\n",
    "from tensorflow.keras.layers import Embedding, Dense, LSTM\n",
    "from tensorflow.keras.losses import BinaryCrossentropy\n",
    "from tensorflow.keras.optimizers import Adam"
   ]
  },
  {
   "cell_type": "code",
   "execution_count": 25,
   "id": "ea6601a6-0c50-4222-8054-2f7ad0e3a36f",
   "metadata": {},
   "outputs": [],
   "source": [
    "# class CustomLSTMCell(layers.Layer):\n",
    "\n",
    "#     def __init__(self, units, **kwargs):\n",
    "#         self.units = units\n",
    "#         self.state_size = [units, units, units]  # Added third state\n",
    "#         super(CustomLSTMCell, self).__init__(**kwargs)\n",
    "\n",
    "#     def build(self, input_shape):\n",
    "#         self.kernel = self.add_weight(shape=(input_shape[-1], self.units * 5),  # Changed from 4 to 5\n",
    "#                                       initializer='glorot_uniform',\n",
    "#                                       name='kernel')\n",
    "#         self.recurrent_kernel = self.add_weight(\n",
    "#             shape=(self.units, self.units * 5),  # Changed from 4 to 5\n",
    "#             initializer='orthogonal',\n",
    "#             name='recurrent_kernel')\n",
    "#         self.bias = self.add_weight(shape=(self.units * 5,),  # Changed from 4 to 5\n",
    "#                                     initializer='zeros',\n",
    "#                                     name='bias')\n",
    "\n",
    "#     def call(self, inputs, states):\n",
    "#         h_tm1 = states[0]  # previous memory state\n",
    "#         c_tm1 = states[1]  # previous carry state\n",
    "#         l_tm1 = states[2]  # new long-term state\n",
    "\n",
    "#         z = tf.matmul(inputs, self.kernel) + tf.matmul(h_tm1, self.recurrent_kernel) + self.bias\n",
    "\n",
    "#         z0, z1, z2, z3, z4 = tf.split(z, 5, axis=-1)  # Changed from 4 to 5\n",
    "\n",
    "#         f = tf.nn.sigmoid(z0)\n",
    "#         i = tf.nn.sigmoid(z1 + 1.)\n",
    "#         c = f * c_tm1 + i * tf.nn.tanh(z2)\n",
    "#         o = tf.nn.sigmoid(z3)\n",
    "\n",
    "#         l = l_tm1 + tf.nn.sigmoid(z4)  # Update the long-term state based on the new gate\n",
    "\n",
    "#         h = o * tf.nn.tanh(c + l)  # Output depends on the long-term state as well as the cell state\n",
    "\n",
    "#         return h, [h, c, l]  # Return the long-term state along with the other states\n",
    "    \n",
    "class CustomLSTMCell(layers.Layer):\n",
    "    def __init__(self, units, **kwargs):\n",
    "        self.units = units\n",
    "        self.state_size = [units, units, units]\n",
    "        super(CustomLSTMCell, self).__init__(**kwargs)\n",
    "\n",
    "    def build(self, input_shape):\n",
    "        self.kernel = self.add_weight(shape=(input_shape[-1], self.units * 5),\n",
    "                                      initializer='uniform',\n",
    "                                      name='kernel')\n",
    "        self.recurrent_kernel = self.add_weight(\n",
    "            shape=(self.units, self.units * 5),\n",
    "            initializer='uniform',\n",
    "            name='recurrent_kernel')\n",
    "        self.built = True\n",
    "\n",
    "    def call(self, inputs, states):\n",
    "        h_tm1 = states[0]  # previous memory state\n",
    "        c_tm1 = states[1]  # previous carry state\n",
    "        l_tm1 = states[2]  # previous long-term state\n",
    "\n",
    "        z = tf.matmul(inputs, self.kernel)\n",
    "        z += tf.matmul(h_tm1, self.recurrent_kernel)\n",
    "        z0, z1, z2, z3, z4 = tf.split(z, num_or_size_splits=5, axis=1)\n",
    "\n",
    "        i = tf.nn.sigmoid(z0)\n",
    "        f = tf.nn.sigmoid(z1)\n",
    "        o = tf.nn.sigmoid(z2)\n",
    "        z4 = tf.nn.tanh(z4)\n",
    "\n",
    "        c = f * c_tm1 + i * tf.nn.tanh(z3)\n",
    "        l = l_tm1 + c * z4  # update l using the current cell state as well\n",
    "        h = o * tf.nn.tanh(c)\n",
    "\n",
    "        return h, [h, c, l]\n",
    "\n"
   ]
  },
  {
   "cell_type": "code",
   "execution_count": 13,
   "id": "dac1b23a-d11a-4564-9517-84c191869caa",
   "metadata": {},
   "outputs": [],
   "source": [
    "class CustomLSTMLayer(layers.Layer):\n",
    "\n",
    "    def __init__(self, units, **kwargs):\n",
    "        self.units = units\n",
    "        self.state_size = [units, units]\n",
    "        self.return_sequences = kwargs.pop('return_sequences', False)\n",
    "        self.custom_lstm_cell = CustomLSTMCell(units)\n",
    "        self.rnn_layer = layers.RNN(self.custom_lstm_cell, \n",
    "                                    return_sequences=self.return_sequences,\n",
    "                                    **kwargs)\n",
    "        super(CustomLSTMLayer, self).__init__(**kwargs)\n",
    "\n",
    "    def call(self, inputs):\n",
    "        return self.rnn_layer(inputs)"
   ]
  },
  {
   "cell_type": "code",
   "execution_count": 4,
   "id": "3fd4e5d8-8b34-41e8-b2da-9e01afe74168",
   "metadata": {},
   "outputs": [],
   "source": [
    "# Load the IMDB dataset\n",
    "num_words = 10000\n",
    "maxlen = 500\n",
    "(x_train, y_train), (x_test, y_test) = imdb.load_data(num_words=num_words)\n",
    "x_train = pad_sequences(x_train, maxlen=maxlen)\n",
    "x_test = pad_sequences(x_test, maxlen=maxlen)"
   ]
  },
  {
   "cell_type": "code",
   "execution_count": 5,
   "id": "f643ad77-fbe6-4a52-ac19-bc00181b3162",
   "metadata": {},
   "outputs": [],
   "source": [
    "def build_and_train_model(recurrent_layer, x_train, y_train, x_test, y_test):\n",
    "    # Build the model\n",
    "    model = Sequential([\n",
    "        Embedding(num_words, 32),\n",
    "        recurrent_layer,\n",
    "        Dense(1, activation='sigmoid')\n",
    "    ])\n",
    "\n",
    "    # Compile the model\n",
    "    model.compile(loss=BinaryCrossentropy(), optimizer=Adam(), metrics=['accuracy'])\n",
    "\n",
    "    # Train the model\n",
    "    early_stopping = tf.keras.callbacks.EarlyStopping(monitor='val_loss', patience=3)\n",
    "    history = model.fit(\n",
    "        x_train, \n",
    "        y_train, \n",
    "        epochs=25,\n",
    "        use_multiprocessing=True,\n",
    "        batch_size=32,\n",
    "        validation_data=(x_test, y_test),\n",
    "        callbacks=[early_stopping]\n",
    "    )\n",
    "\n",
    "    # Return the history object for later comparison\n",
    "    return history"
   ]
  },
  {
   "cell_type": "code",
   "execution_count": 6,
   "id": "d661ec53-1e87-43a4-98a4-5dcaabeaa0fe",
   "metadata": {},
   "outputs": [
    {
     "name": "stderr",
     "output_type": "stream",
     "text": [
      "2023-06-30 14:25:21.794646: I tensorflow/compiler/xla/stream_executor/cuda/cuda_gpu_executor.cc:996] successful NUMA node read from SysFS had negative value (-1), but there must be at least one NUMA node, so returning NUMA node zero. See more at https://github.com/torvalds/linux/blob/v6.0/Documentation/ABI/testing/sysfs-bus-pci#L344-L355\n",
      "2023-06-30 14:25:21.869096: W tensorflow/core/common_runtime/gpu/gpu_device.cc:1956] Cannot dlopen some GPU libraries. Please make sure the missing libraries mentioned above are installed properly if you would like to use GPU. Follow the guide at https://www.tensorflow.org/install/gpu for how to download and setup the required libraries for your platform.\n",
      "Skipping registering GPU devices...\n",
      "2023-06-30 14:25:22.067038: I tensorflow/core/common_runtime/executor.cc:1197] [/device:CPU:0] (DEBUG INFO) Executor start aborting (this does not indicate an error and you can ignore this message): INVALID_ARGUMENT: You must feed a value for placeholder tensor 'gradients/split_2_grad/concat/split_2/split_dim' with dtype int32\n",
      "\t [[{{node gradients/split_2_grad/concat/split_2/split_dim}}]]\n",
      "2023-06-30 14:25:22.068556: I tensorflow/core/common_runtime/executor.cc:1197] [/device:CPU:0] (DEBUG INFO) Executor start aborting (this does not indicate an error and you can ignore this message): INVALID_ARGUMENT: You must feed a value for placeholder tensor 'gradients/split_grad/concat/split/split_dim' with dtype int32\n",
      "\t [[{{node gradients/split_grad/concat/split/split_dim}}]]\n",
      "2023-06-30 14:25:22.069448: I tensorflow/core/common_runtime/executor.cc:1197] [/device:CPU:0] (DEBUG INFO) Executor start aborting (this does not indicate an error and you can ignore this message): INVALID_ARGUMENT: You must feed a value for placeholder tensor 'gradients/split_1_grad/concat/split_1/split_dim' with dtype int32\n",
      "\t [[{{node gradients/split_1_grad/concat/split_1/split_dim}}]]\n"
     ]
    },
    {
     "name": "stdout",
     "output_type": "stream",
     "text": [
      "Epoch 1/25\n"
     ]
    },
    {
     "name": "stderr",
     "output_type": "stream",
     "text": [
      "2023-06-30 14:25:22.377107: I tensorflow/core/common_runtime/executor.cc:1197] [/device:CPU:0] (DEBUG INFO) Executor start aborting (this does not indicate an error and you can ignore this message): INVALID_ARGUMENT: You must feed a value for placeholder tensor 'gradients/split_2_grad/concat/split_2/split_dim' with dtype int32\n",
      "\t [[{{node gradients/split_2_grad/concat/split_2/split_dim}}]]\n",
      "2023-06-30 14:25:22.378762: I tensorflow/core/common_runtime/executor.cc:1197] [/device:CPU:0] (DEBUG INFO) Executor start aborting (this does not indicate an error and you can ignore this message): INVALID_ARGUMENT: You must feed a value for placeholder tensor 'gradients/split_grad/concat/split/split_dim' with dtype int32\n",
      "\t [[{{node gradients/split_grad/concat/split/split_dim}}]]\n",
      "2023-06-30 14:25:22.379657: I tensorflow/core/common_runtime/executor.cc:1197] [/device:CPU:0] (DEBUG INFO) Executor start aborting (this does not indicate an error and you can ignore this message): INVALID_ARGUMENT: You must feed a value for placeholder tensor 'gradients/split_1_grad/concat/split_1/split_dim' with dtype int32\n",
      "\t [[{{node gradients/split_1_grad/concat/split_1/split_dim}}]]\n",
      "2023-06-30 14:25:23.055179: I tensorflow/core/common_runtime/executor.cc:1197] [/device:CPU:0] (DEBUG INFO) Executor start aborting (this does not indicate an error and you can ignore this message): INVALID_ARGUMENT: You must feed a value for placeholder tensor 'gradients/split_2_grad/concat/split_2/split_dim' with dtype int32\n",
      "\t [[{{node gradients/split_2_grad/concat/split_2/split_dim}}]]\n",
      "2023-06-30 14:25:23.056902: I tensorflow/core/common_runtime/executor.cc:1197] [/device:CPU:0] (DEBUG INFO) Executor start aborting (this does not indicate an error and you can ignore this message): INVALID_ARGUMENT: You must feed a value for placeholder tensor 'gradients/split_grad/concat/split/split_dim' with dtype int32\n",
      "\t [[{{node gradients/split_grad/concat/split/split_dim}}]]\n",
      "2023-06-30 14:25:23.058158: I tensorflow/core/common_runtime/executor.cc:1197] [/device:CPU:0] (DEBUG INFO) Executor start aborting (this does not indicate an error and you can ignore this message): INVALID_ARGUMENT: You must feed a value for placeholder tensor 'gradients/split_1_grad/concat/split_1/split_dim' with dtype int32\n",
      "\t [[{{node gradients/split_1_grad/concat/split_1/split_dim}}]]\n"
     ]
    },
    {
     "name": "stdout",
     "output_type": "stream",
     "text": [
      "782/782 [==============================] - ETA: 0s - loss: 0.4481 - accuracy: 0.7839"
     ]
    },
    {
     "name": "stderr",
     "output_type": "stream",
     "text": [
      "2023-06-30 14:27:36.135236: I tensorflow/core/common_runtime/executor.cc:1197] [/device:CPU:0] (DEBUG INFO) Executor start aborting (this does not indicate an error and you can ignore this message): INVALID_ARGUMENT: You must feed a value for placeholder tensor 'gradients/split_2_grad/concat/split_2/split_dim' with dtype int32\n",
      "\t [[{{node gradients/split_2_grad/concat/split_2/split_dim}}]]\n",
      "2023-06-30 14:27:36.136611: I tensorflow/core/common_runtime/executor.cc:1197] [/device:CPU:0] (DEBUG INFO) Executor start aborting (this does not indicate an error and you can ignore this message): INVALID_ARGUMENT: You must feed a value for placeholder tensor 'gradients/split_grad/concat/split/split_dim' with dtype int32\n",
      "\t [[{{node gradients/split_grad/concat/split/split_dim}}]]\n",
      "2023-06-30 14:27:36.137575: I tensorflow/core/common_runtime/executor.cc:1197] [/device:CPU:0] (DEBUG INFO) Executor start aborting (this does not indicate an error and you can ignore this message): INVALID_ARGUMENT: You must feed a value for placeholder tensor 'gradients/split_1_grad/concat/split_1/split_dim' with dtype int32\n",
      "\t [[{{node gradients/split_1_grad/concat/split_1/split_dim}}]]\n"
     ]
    },
    {
     "name": "stdout",
     "output_type": "stream",
     "text": [
      "782/782 [==============================] - 169s 214ms/step - loss: 0.4481 - accuracy: 0.7839 - val_loss: 0.3700 - val_accuracy: 0.8423\n",
      "Epoch 2/25\n",
      "782/782 [==============================] - 168s 215ms/step - loss: 0.3750 - accuracy: 0.8431 - val_loss: 0.3717 - val_accuracy: 0.8386\n",
      "Epoch 3/25\n",
      "782/782 [==============================] - 174s 222ms/step - loss: 0.2367 - accuracy: 0.9095 - val_loss: 0.3573 - val_accuracy: 0.8516\n",
      "Epoch 4/25\n",
      "782/782 [==============================] - 173s 221ms/step - loss: 0.1886 - accuracy: 0.9296 - val_loss: 0.3405 - val_accuracy: 0.8705\n",
      "Epoch 5/25\n",
      "782/782 [==============================] - 176s 225ms/step - loss: 0.1602 - accuracy: 0.9409 - val_loss: 0.3651 - val_accuracy: 0.8666\n",
      "Epoch 6/25\n",
      "782/782 [==============================] - 173s 221ms/step - loss: 0.1114 - accuracy: 0.9619 - val_loss: 0.4333 - val_accuracy: 0.8531\n",
      "Epoch 7/25\n",
      "782/782 [==============================] - 184s 236ms/step - loss: 0.0884 - accuracy: 0.9701 - val_loss: 0.5876 - val_accuracy: 0.8563\n"
     ]
    }
   ],
   "source": [
    "# Train a model with a standard LSTM layer\n",
    "lstm_history = build_and_train_model(LSTM(100), x_train, y_train, x_test, y_test)  "
   ]
  },
  {
   "cell_type": "code",
   "execution_count": null,
   "id": "fc80edee-8a10-4825-8366-0af9da026f41",
   "metadata": {},
   "outputs": [
    {
     "name": "stdout",
     "output_type": "stream",
     "text": [
      "Epoch 1/25\n",
      "782/782 [==============================] - 183s 233ms/step - loss: 0.4960 - accuracy: 0.7663 - val_loss: 0.4424 - val_accuracy: 0.8317\n",
      "Epoch 2/25\n",
      "782/782 [==============================] - 192s 246ms/step - loss: 0.4150 - accuracy: 0.8073 - val_loss: 0.5259 - val_accuracy: 0.7333\n",
      "Epoch 3/25\n",
      "782/782 [==============================] - 190s 243ms/step - loss: 0.5127 - accuracy: 0.7456 - val_loss: 1.0014 - val_accuracy: 0.5411\n",
      "Epoch 4/25\n",
      "782/782 [==============================] - 190s 243ms/step - loss: 0.3164 - accuracy: 0.8689 - val_loss: 0.3467 - val_accuracy: 0.8684\n",
      "Epoch 5/25\n",
      "782/782 [==============================] - 187s 240ms/step - loss: 0.2301 - accuracy: 0.9119 - val_loss: 0.3405 - val_accuracy: 0.8652\n",
      "Epoch 6/25\n",
      "548/782 [====================>.........] - ETA: 41s - loss: 0.1752 - accuracy: 0.9336"
     ]
    }
   ],
   "source": [
    "# Train a model with a custom LSTM layer\n",
    "custom_lstm_history = build_and_train_model(CustomLSTMLayer(100), x_train, y_train, x_test, y_test)"
   ]
  },
  {
   "cell_type": "code",
   "execution_count": 10,
   "id": "f3e55b3b-cbc8-4d7a-9525-bd7e90968465",
   "metadata": {},
   "outputs": [
    {
     "data": {
      "image/png": "[encoded data removed]",
      "text/plain": [
       "<Figure size 1200x600 with 1 Axes>"
      ]
     },
     "metadata": {},
     "output_type": "display_data"
    }
   ],
   "source": [
    "import matplotlib.pyplot as plt\n",
    "\n",
    "# Plot the validation accuracy of both models\n",
    "plt.figure(figsize=(12, 6))\n",
    "plt.plot(lstm_history.history['val_accuracy'], label='LSTM')\n",
    "plt.plot(custom_lstm_history.history['val_accuracy'], label='Custom LSTM')\n",
    "plt.title('Validation Accuracy')\n",
    "plt.xlabel('Epochs')\n",
    "plt.ylabel('Accuracy')\n",
    "plt.legend()\n",
    "plt.show()"
   ]
  }
 ],
 "metadata": {
  "kernelspec": {
   "display_name": "Python 3 (ipykernel)",
   "language": "python",
   "name": "python3"
  },
  "language_info": {
   "codemirror_mode": {
    "name": "ipython",
    "version": 3
   },
   "file_extension": ".py",
   "mimetype": "text/x-python",
   "name": "python",
   "nbconvert_exporter": "python",
   "pygments_lexer": "ipython3",
   "version": "3.10.9"
  }
 },
 "nbformat": 4,
 "nbformat_minor": 5
}
