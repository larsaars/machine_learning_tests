{
 "cells": [
  {
   "cell_type": "code",
   "execution_count": 1,
   "id": "c18cee80-7e2f-4450-b1a8-ea10144c46fc",
   "metadata": {},
   "outputs": [],
   "source": [
    "%matplotlib inline\n",
    "import numpy as np\n",
    "from numpy import genfromtxt  \n",
    "from scipy.stats import norm\n",
    "import matplotlib.pyplot as plt\n",
    "from sklearn.mixture import GaussianMixture"
   ]
  },
  {
   "cell_type": "markdown",
   "id": "cecc785d-3ac3-4ee2-8f9e-0ce23622eb59",
   "metadata": {},
   "source": [
    "## Plotting functions"
   ]
  },
  {
   "cell_type": "code",
   "execution_count": 2,
   "id": "5475955a-1adf-450c-b206-cf2e0a4c0035",
   "metadata": {},
   "outputs": [],
   "source": [
    " def scatter(*data):\n",
    "    '''\n",
    "    scatter plot of 1dim data\n",
    "    \n",
    "    data list of 1 dim data\n",
    "    '''\n",
    "    \n",
    "    plt.figure(figsize=(9,2))\n",
    "    \n",
    "    for x in data:\n",
    "        plt.scatter(x, np.zeros((len(x), 1)))\n",
    "        \n",
    "    plt.yticks(())\n",
    "    plt.show()\n",
    "    \n",
    "def plt_with_gaussians(data, mean, variance):\n",
    "    '''\n",
    "    scatter the data,\n",
    "    and plot the given gaussian distributions\n",
    "    \n",
    "    data 1dim data to be scattered\n",
    "    mean means of the normal distributions\n",
    "    variance variances of the normal distributions\n",
    "    '''\n",
    "    \n",
    "    plt.figure(figsize=(14, 7))\n",
    "    \n",
    "      # generate x values with min and max of the data\n",
    "    x_values = np.linspace(data.min(), data.max(), 1001)\n",
    "    # show the gaussians \n",
    "    for mu, sig in zip(mean, variance):\n",
    "        plt.plot(x_values, gaussian(x_values, mu, sig))\n",
    "        \n",
    "    # scatter data points on x axis\n",
    "    plt.scatter(data, np.zeros((len(data), 1)))\n",
    "    \n",
    "    plt.yticks(())\n",
    "    plt.show()"
   ]
  },
  {
   "cell_type": "markdown",
   "id": "4fc0a468-087d-4dfd-aded-6ca938fac23a",
   "metadata": {},
   "source": [
    "## implementation of\n",
    "\n",
    "- Gaussian distribution function\n",
    "- Expectation Maximazation Algorithm\n",
    "- Akaike Information Criterion"
   ]
  },
  {
   "cell_type": "code",
   "execution_count": 3,
   "id": "8f3054a1-307d-485d-828c-d3c6f393fc1b",
   "metadata": {},
   "outputs": [],
   "source": [
    "def gaussian(x, mu, sig):\n",
    "    '''\n",
    "    returns the likelihood of a point in a one dimensional gaussian\n",
    "    \n",
    "    x x value(s)\n",
    "    mu mean of the gaussian\n",
    "    sig variance of the gaussian \n",
    "    '''\n",
    "    return (1 / np.sqrt(2 * np.pi * sig)) * np.exp(-((x - mu) ** 2) / (2 * sig))"
   ]
  },
  {
   "cell_type": "code",
   "execution_count": 4,
   "id": "c2ef8c8f-4afe-4e2a-94c9-79111bdb7bbb",
   "metadata": {},
   "outputs": [],
   "source": [
    "def kmeans(data, k, n=10):\n",
    "    '''\n",
    "    kmeans clustering algorithm\n",
    "    \n",
    "    data 1d array data\n",
    "    k number of clusters / means\n",
    "    n times to repeat algorithm\n",
    "    \n",
    "    returns means\n",
    "    '''\n",
    "    \n",
    "    # ensure data are 1d ndarray\n",
    "    data = np.array(data).flatten()\n",
    "    \n",
    "    # init means randomly\n",
    "    data_min, data_max = data.min(), data.max()\n",
    "    mu = np.random.uniform(low=data_min, high=data_max, size=k)\n",
    "     \n",
    "    # loop through algorithm n times \n",
    "    for i in range(n):\n",
    "        # augment data array k times, then calculate distances to means\n",
    "        dist = np.abs(data * np.ones(k).reshape(-1, 1) - mu.reshape(-1, 1))\n",
    "        # generate indices of which point belongs to which cluster\n",
    "        cluster_indices = dist.swapaxes(0, 1).argmin(axis=1)\n",
    "        # recalculate means\n",
    "        for j in range(k): \n",
    "            selection = data[cluster_indices == j]\n",
    "            if selection.shape[0] == 0:\n",
    "                # if selection is empty rather set random value\n",
    "                # instead of NaN which will mess with all future calculations\n",
    "                mu[j] = np.random.uniform(low=data_min, high=data_max) \n",
    "            else:\n",
    "                mu[j] = selection.mean()\n",
    "              \n",
    "    return mu "
   ]
  },
  {
   "cell_type": "code",
   "execution_count": 5,
   "id": "c32f1e23-719a-4c00-98f9-ab4c8c470138",
   "metadata": {},
   "outputs": [],
   "source": [
    "def em(data, k=1, n=1, init='kmeans', plot=False):\n",
    "    '''\n",
    "    1d expectation maximazation algorithm\n",
    "    \n",
    "    data 1d numpy array of data\n",
    "    k number of normal distributions\n",
    "    n number of em repetitions\n",
    "    init [default='random', 'kmeans'] how to initialize means and variances\n",
    "    plot If true, will plot every step\n",
    "    \n",
    "    returns mixing coefficients, means, variances\n",
    "    '''\n",
    "    \n",
    "    # ensure data are 1d ndarray\n",
    "    data = np.array(data).flatten()\n",
    "    \n",
    "    # list of means and variances of the k normal distributions to be fitted\n",
    "    # init randomly between min and max points of data\n",
    "    min_data, max_data = data.min(), data.max() \n",
    "    \n",
    "    prior = np.full(k, 1 / k)  # assume priors (mixing coefficents) are equal\n",
    "    variance = np.random.uniform(low=np.absolute(min_data / 2), high=np.absolute(max_data/2), size=k)\n",
    "     \n",
    "    if init == 'random':\n",
    "        mean = np.random.uniform(low=min_data, high=max_data, size=k)\n",
    "    elif init == 'kmeans':\n",
    "        # use kmeans implementation for mean initialization\n",
    "        mean = kmeans(data, k, 20)\n",
    "        print(mean)\n",
    "     \n",
    "    # repeat algorithm n times\n",
    "    for i in range(n):\n",
    "        \n",
    "        p_x_b = []\n",
    "        \n",
    "        # loop through each distribution j\n",
    "        for j in range(k):\n",
    "            # calcualate for each point the generative probability that it belongs to the distribution j\n",
    "            # P(x | b)\n",
    "            p_x_b.append(gaussian(data, mean[j], variance[j]))\n",
    "            \n",
    "        # convert to numpy array\n",
    "        p_x_b = np.array(p_x_b)\n",
    "         \n",
    "        # calculate for each point the probability that it belongs to a distribution,\n",
    "        # summing up to one ('colorings of the points')\n",
    "        # P(b|x)\n",
    "        p_wp = p_x_b * prior.reshape(-1, 1)\n",
    "        bi =  p_wp / p_wp.sum(axis=0)\n",
    "         \n",
    "        # reestimate means\n",
    "        mean = (bi * data).sum(axis=1) / bi.sum(axis=1)\n",
    "        \n",
    "        # reestimate variances\n",
    "        for j in range(k):\n",
    "            variance[j] = (bi[j] * (data - mean[j])**2).sum() / bi[j].sum()\n",
    "            \n",
    "        # reestimate priors\n",
    "        unique, counts = np.unique(bi.swapaxes(0, 1).argmax(axis=1), return_counts=True)\n",
    "        # counts array are in the correct order the counts of points that have the max likelihood\n",
    "        # if no point belongs to one of the distributions replace this index with a zero in counts\n",
    "        # compare with np.arange\n",
    "        unique, counts = unique.tolist(), counts.tolist()\n",
    "        for m in range(k):\n",
    "            if m == len(unique) or unique[m] != m:\n",
    "                unique.insert(m, -1)\n",
    "                # insert small epsilon so that prior is not zero (division by zero)\n",
    "                counts.insert(m, 1e-6)\n",
    "                \n",
    "                  \n",
    "        prior = np.array(counts) / data.shape[0]\n",
    "        \n",
    "        # plot if shall plot\n",
    "        if plot:\n",
    "            plt_with_gaussians(data, mean, variance)\n",
    "         \n",
    "        \n",
    "    # return means and variances\n",
    "    return prior, mean, variance "
   ]
  },
  {
   "cell_type": "code",
   "execution_count": 6,
   "id": "46e40664-3720-44f5-86b5-25226a21048a",
   "metadata": {},
   "outputs": [],
   "source": [
    "def aic(data, mixing_coefficent, mean, variance):\n",
    "    '''\n",
    "    return best model to the Akaike Information Criterion\n",
    "    \n",
    "    data 1dim data\n",
    "    mixing_coefficents mixing coefficients / priors pi\n",
    "    mean means of the gaussians mu \n",
    "    variance variances of the gaussians sigma\n",
    "    '''\n",
    "    \n",
    "    # ensure data are flat ndarray\n",
    "    data = np.array(data).flatten()\n",
    "    \n",
    "    # calculate K (number of parameters)\n",
    "    K = len(mean) * 3 - 1  # len of prior, mean and variance should be the same\n",
    "    \n",
    "    # calculate log-likelihoods\n",
    "    LL = 0 \n",
    "        \n",
    "    for pi, mu, sig in zip(mixing_coefficent, mean, variance):\n",
    "        LL += pi * gaussian(data, mu, sig)\n",
    "         \n",
    "    LL = np.log(LL).sum()\n",
    "         \n",
    "    return -2 * LL + 2 * K"
   ]
  },
  {
   "cell_type": "markdown",
   "id": "e438a668-c7c5-4a65-b608-67b874cd1a5e",
   "metadata": {
    "tags": []
   },
   "source": [
    "### load datasets"
   ]
  },
  {
   "cell_type": "code",
   "execution_count": 7,
   "id": "77b5e311-c822-43bd-9075-0cc4eeb55344",
   "metadata": {},
   "outputs": [],
   "source": [
    "def load_iris():\n",
    "    '''\n",
    "    Returns a column of all petal lengths.\n",
    "    '''\n",
    "    X = genfromtxt(\"./data/iris.csv\", delimiter=',', skip_header=1)\n",
    "    X = X[:,2]\n",
    "    X = X.reshape(-1, 1)\n",
    "    return X\n",
    "\n",
    "def load_bdp():\n",
    "    '''\n",
    "    Returns a column of systolic and diastolic blood pressure values.\n",
    "    '''\n",
    "    Z = genfromtxt(\"./data/bdp.csv\", delimiter=',', skip_header=1)\n",
    "    n = Z.shape[0]\n",
    "    X = np.zeros(2*n)\n",
    "    X[:n] = Z[:,2]\n",
    "    X[n:] = Z[:,3]\n",
    "    X = X.reshape(-1,1)\n",
    "    return X\n",
    "\n",
    "def sample(pi, mu, std, n):\n",
    "    '''\n",
    "    Returns a column of n values drawn from a normal mixture model.\n",
    "    \n",
    "    Parameter\n",
    "        pi  k mixing coefficients\n",
    "        mu  k means\n",
    "        std k standard deviations\n",
    "        n   number of data points\n",
    "        \n",
    "    Return\n",
    "        n data points randomly sampled from specified mixture. \n",
    "    '''\n",
    "    y = np.random.choice(len(pi), size=n, p=pi)\n",
    "    x = np.zeros((n,1))\n",
    "    for i, comp in enumerate(y):\n",
    "        x[i] = norm.rvs(mu[comp], std[comp])\n",
    "    return x\n"
   ]
  },
  {
   "cell_type": "markdown",
   "id": "bb0da46b-ef01-48dc-b1e7-10c0bd078f68",
   "metadata": {},
   "source": [
    "## Examples"
   ]
  },
  {
   "cell_type": "code",
   "execution_count": 8,
   "id": "8571b778-e734-4430-a64e-af6d56aab820",
   "metadata": {},
   "outputs": [
    {
     "name": "stdout",
     "output_type": "stream",
     "text": [
      "[200.2297934  100.18246821 149.78087473]\n"
     ]
    },
    {
     "data": {
      "image/png": "[encoded data removed]",
      "text/plain": [
       "<Figure size 1008x504 with 1 Axes>"
      ]
     },
     "metadata": {
      "needs_background": "light"
     },
     "output_type": "display_data"
    }
   ],
   "source": [
    "# generate n points from a mixture of fived normal distributions\n",
    "n = 1000\n",
    "mu = [100, 150, 200]\n",
    "std = 5 * np.ones(len(mu))\n",
    "pi = np.ones(len(mu))/ len(mu)\n",
    "sample_x = sample(pi, mu, std, n)\n",
    "\n",
    "priors, mu, sig = em(sample_x, 3, 10)\n",
    "plt_with_gaussians(sample_x, mu, sig)"
   ]
  },
  {
   "cell_type": "code",
   "execution_count": 9,
   "id": "477a0b83-918a-4dd9-bab6-b83dedaa9b9c",
   "metadata": {},
   "outputs": [
    {
     "name": "stdout",
     "output_type": "stream",
     "text": [
      "[1.49411765 4.92525253]\n"
     ]
    },
    {
     "data": {
      "image/png": "[encoded data removed]",
      "text/plain": [
       "<Figure size 1008x504 with 1 Axes>"
      ]
     },
     "metadata": {
      "needs_background": "light"
     },
     "output_type": "display_data"
    }
   ],
   "source": [
    "# load petal lengths of iris flowers\n",
    "iris_x = load_iris()\n",
    "priors, mu, sig = em(iris_x, 2, 10)\n",
    "plt_with_gaussians(iris_x, mu, sig)"
   ]
  },
  {
   "cell_type": "code",
   "execution_count": 10,
   "id": "89bdbfa4-2b14-4346-990c-2f82e2b303dd",
   "metadata": {},
   "outputs": [
    {
     "name": "stdout",
     "output_type": "stream",
     "text": [
      "[124.39735099  76.50993377]\n"
     ]
    },
    {
     "data": {
      "image/png": "[encoded data removed]",
      "text/plain": [
       "<Figure size 1008x504 with 1 Axes>"
      ]
     },
     "metadata": {
      "needs_background": "light"
     },
     "output_type": "display_data"
    }
   ],
   "source": [
    "# load blood pressures\n",
    "bdp_x = load_bdp()\n",
    "priors, mu, sig = em(bdp_x, 2, 10)\n",
    "plt_with_gaussians(bdp_x, mu, sig)"
   ]
  },
  {
   "cell_type": "markdown",
   "id": "f3fd6ea3-7f08-4d1e-af22-58ef0f1fdcef",
   "metadata": {},
   "source": [
    "### compare my algorithm with sklearn's GMM"
   ]
  },
  {
   "cell_type": "code",
   "execution_count": 11,
   "id": "fcbe6c3b-1bac-4598-b47a-c062e062bdc8",
   "metadata": {},
   "outputs": [
    {
     "name": "stdout",
     "output_type": "stream",
     "text": [
      "[150.5079294]\n",
      "\n",
      "1\n",
      "my mus = [150.5079294]\n",
      "sk mus = [150.5079294]\n",
      "my sig = [1654.85374039]\n",
      "sk sig = [1654.86374039]\n",
      "my aic = 10253.344975929502\n",
      "sk aic = 10253.34497594776\n",
      "[125.96095594 200.12099661]\n",
      "\n",
      "2\n",
      "my mus = [126.89511172 200.422941  ]\n",
      "sk mus = [182.25611551 116.59702601]\n",
      "my sig = [688.56538268  27.34318722]\n",
      "sk sig = [603.10623963 551.70894288]\n",
      "my aic = 9541.196689204748\n",
      "sk aic = 10104.245019789621\n",
      "[200.2297934  149.78087473 100.18246821]\n",
      "\n",
      "3\n",
      "my mus = [200.2297934  149.78087473 100.18246821]\n",
      "sk mus = [149.78087473 100.18246821 200.2297934 ]\n",
      "my sig = [29.31304465 26.5303656  21.52182765]\n",
      "sk sig = [26.5403656  21.53182765 29.32304465]\n",
      "my aic = 8293.925746572319\n",
      "sk aic = 8293.925825175298\n",
      "[100.18246821 144.87229077 200.2297934  153.31118635]\n",
      "\n",
      "4\n",
      "my mus = [100.18246821 144.9380044  200.2297934  149.78087475]\n",
      "sk mus = [149.78087473 196.9055749  100.18246821 203.70127818]\n",
      "my sig = [21.52182765 17.66385491 29.31304465 26.53036556]\n",
      "sk sig = [26.54036562 17.57333083 21.53182765 18.00210225]\n",
      "my aic = 8299.925744548498\n",
      "sk aic = 8301.524989507187\n",
      "[200.2297934   95.25107465 149.78087473 101.09367336 106.67311449]\n",
      "\n",
      "5\n",
      "my mus = [200.2297934  100.18246817 149.78087473 104.1889726  106.0108226 ]\n",
      "sk mus = [152.55310359 100.18246821 203.78605387 145.30795416 196.97088558]\n",
      "my sig = [29.31304465 21.52182751 26.5303656  21.38436475 14.98272808]\n",
      "sk sig = [14.49450418 21.53182765 17.83400392 13.56907792 17.64143706]\n",
      "my aic = 8305.925742498042\n",
      "sk aic = 8305.680998117496\n"
     ]
    }
   ],
   "source": [
    "for j in range(1, 6):\n",
    "    # sklearns EM / GMM\n",
    "    gmm = GaussianMixture(n_components=j, init_params='kmeans', max_iter=100, reg_covar=1e-2)\n",
    "    gmm.fit(sample_x)\n",
    "     \n",
    "    # my gmm \n",
    "    my_pi, my_mu, my_sig = em(sample_x, j, 10)\n",
    "    sk_mu, sk_sig = sk_pi = gmm.means_.flatten(), gmm.covariances_.flatten()\n",
    "    \n",
    "    # print difference\n",
    "    print(f'\\n{j}')\n",
    "    print(f'my mus = {my_mu}')\n",
    "    print(f'sk mus = {sk_mu}')\n",
    "    print(f'my sig = {my_sig}')\n",
    "    print(f'sk sig = {sk_sig}')\n",
    "    print(f'my aic = {aic(sample_x, my_pi, my_mu, my_sig)}')\n",
    "    print(f'sk aic = {gmm.aic(sample_x)}')"
   ]
  },
  {
   "cell_type": "markdown",
   "id": "1fcf354d-d09d-4f04-8f5c-a6dfc2856e14",
   "metadata": {
    "tags": []
   },
   "source": [
    "# conduct experiment of the assignment"
   ]
  },
  {
   "cell_type": "code",
   "execution_count": 12,
   "id": "9c205572-eacf-4665-b2f8-d43b171a24e4",
   "metadata": {},
   "outputs": [],
   "source": [
    "# conduct experiment\n",
    "def select_gmm(data, log='v', **emargs):\n",
    "    '''\n",
    "    selects the best model according to aic for k = {1..15}\n",
    "    \n",
    "    data 1dim data array\n",
    "    log [default='v(erbose)', 'vp (verbose-plot)', n(one)]\n",
    "    '''\n",
    "    \n",
    "    # best model and aic\n",
    "    best = None\n",
    "    \n",
    "    for k in range(1, 16):\n",
    "        # generate gmm\n",
    "        pi, mu, sig = em(data, k, **emargs)\n",
    "        \n",
    "        # calc aic\n",
    "        t_aic = aic(data, pi, mu, sig)\n",
    "        \n",
    "        # create model dict\n",
    "        model = {\n",
    "            'k': k,\n",
    "            'pi': pi, \n",
    "            'mu': mu, \n",
    "            'sig': sig, \n",
    "            'aic': t_aic\n",
    "        }\n",
    "        \n",
    "        # print model if is verbose\n",
    "        if log == 'v' or log == 'vp': \n",
    "            print(k, t_aic)\n",
    "        if log == 'vp':\n",
    "            plt_with_gaussians(data, mu, sig)\n",
    "        \n",
    "        # compare current looping model to best model\n",
    "        if best == None or t_aic < best['aic']:\n",
    "            best = model\n",
    "            \n",
    "            if log == 'v' or log == 'vp':\n",
    "                print('This is the new best model according to aic (above)!')\n",
    "        \n",
    "            \n",
    "    return best\n",
    "        \n",
    "def sel_plt(data, **emargs):\n",
    "    '''\n",
    "    select and plot best model according to aic\n",
    "    \n",
    "    data 1dim data array\n",
    "    '''\n",
    "    \n",
    "    model = select_gmm(data, 'vp', **emargs)\n",
    "    print('best model:')\n",
    "    plt_with_gaussians(data, model['mu'], model['sig'])"
   ]
  },
  {
   "cell_type": "code",
   "execution_count": null,
   "id": "2827724e-6e57-40b4-88c3-2de34bde9dfa",
   "metadata": {},
   "outputs": [],
   "source": []
  }
 ],
 "metadata": {
  "kernelspec": {
   "display_name": "Python 3",
   "language": "python",
   "name": "python3"
  },
  "language_info": {
   "codemirror_mode": {
    "name": "ipython",
    "version": 3
   },
   "file_extension": ".py",
   "mimetype": "text/x-python",
   "name": "python",
   "nbconvert_exporter": "python",
   "pygments_lexer": "ipython3",
   "version": "3.9.5"
  }
 },
 "nbformat": 4,
 "nbformat_minor": 5
}
