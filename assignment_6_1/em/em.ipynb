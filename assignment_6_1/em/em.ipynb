{
 "cells": [
  {
   "cell_type": "code",
   "execution_count": 72,
   "id": "c18cee80-7e2f-4450-b1a8-ea10144c46fc",
   "metadata": {},
   "outputs": [],
   "source": [
    "%matplotlib inline\n",
    "import numpy as np\n",
    "from numpy import genfromtxt  \n",
    "from scipy.stats import norm\n",
    "import matplotlib.pyplot as plt"
   ]
  },
  {
   "cell_type": "markdown",
   "id": "e438a668-c7c5-4a65-b608-67b874cd1a5e",
   "metadata": {},
   "source": [
    "### Datasets"
   ]
  },
  {
   "cell_type": "code",
   "execution_count": 73,
   "id": "77b5e311-c822-43bd-9075-0cc4eeb55344",
   "metadata": {},
   "outputs": [],
   "source": [
    "def load_iris():\n",
    "    '''\n",
    "    Returns a column of all petal lengths.\n",
    "    '''\n",
    "    X = genfromtxt(\"./data/iris.csv\", delimiter=',', skip_header=1)\n",
    "    X = X[:,2]\n",
    "    X = X.reshape(-1,1)\n",
    "    return X\n",
    "\n",
    "def load_bdp():\n",
    "    '''\n",
    "    Returns a column of systolic and diastolic blood pressure values.\n",
    "    '''\n",
    "    Z = genfromtxt(\"./data/bdp.csv\", delimiter=',', skip_header=1)\n",
    "    n = Z.shape[0]\n",
    "    X = np.zeros(2*n)\n",
    "    X[:n] = Z[:,2]\n",
    "    X[n:] = Z[:,3]\n",
    "    X = X.reshape(-1,1)\n",
    "    return X\n",
    "\n",
    "def sample(pi, mu, std, n):\n",
    "    '''\n",
    "    Returns a column of n values drawn from a normal mixture model.\n",
    "    \n",
    "    Parameter\n",
    "        pi  k mixing coefficients\n",
    "        mu  k means\n",
    "        std k standard deviations\n",
    "        n   number of data points\n",
    "        \n",
    "    Return\n",
    "        n data points randomly sampled from specified mixture. \n",
    "    '''\n",
    "    y = np.random.choice(len(pi), size=n, p=pi)\n",
    "    x = np.zeros((n,1))\n",
    "    for i, comp in enumerate(y):\n",
    "        x[i] = norm.rvs(mu[comp], std[comp])\n",
    "    return x\n"
   ]
  },
  {
   "cell_type": "markdown",
   "id": "bb0da46b-ef01-48dc-b1e7-10c0bd078f68",
   "metadata": {},
   "source": [
    "### Examples"
   ]
  },
  {
   "cell_type": "code",
   "execution_count": 78,
   "id": "8571b778-e734-4430-a64e-af6d56aab820",
   "metadata": {},
   "outputs": [],
   "source": [
    "# generate n points from a mixture of fived normal distributions\n",
    "n = 1000\n",
    "mu = [100, 150, 200]\n",
    "std = 5*np.ones(len(mu))\n",
    "pi = np.ones(len(mu))/len(mu)\n",
    "x = sample(pi, mu, std, n)"
   ]
  },
  {
   "cell_type": "code",
   "execution_count": 75,
   "id": "477a0b83-918a-4dd9-bab6-b83dedaa9b9c",
   "metadata": {},
   "outputs": [],
   "source": [
    "# load petal lengths of iris flowers\n",
    "x = load_iris()"
   ]
  },
  {
   "cell_type": "code",
   "execution_count": 76,
   "id": "89bdbfa4-2b14-4346-990c-2f82e2b303dd",
   "metadata": {},
   "outputs": [],
   "source": [
    "# load blood pressures\n",
    "x = load_bdp()"
   ]
  },
  {
   "cell_type": "markdown",
   "id": "66f2ce3b-8635-4749-981a-b770869a4340",
   "metadata": {},
   "source": [
    "### Distribution of Data"
   ]
  },
  {
   "cell_type": "code",
   "execution_count": 79,
   "id": "6ec2ea40-b33d-420d-860e-ef64e681dfc0",
   "metadata": {},
   "outputs": [
    {
     "data": {
      "image/png": "[encoded data removed]",
      "text/plain": [
       "<Figure size 720x144 with 1 Axes>"
      ]
     },
     "metadata": {
      "needs_background": "light"
     },
     "output_type": "display_data"
    }
   ],
   "source": [
    "# show data\n",
    "plt.subplots(figsize=(10,2))\n",
    "plt.scatter(x, np.zeros((len(x),1)))\n",
    "plt.yticks(())\n",
    "plt.show()"
   ]
  },
  {
   "cell_type": "code",
   "execution_count": null,
   "id": "42efa92a-a7be-4e3b-a2e5-7017214e9b36",
   "metadata": {},
   "outputs": [],
   "source": []
  }
 ],
 "metadata": {
  "kernelspec": {
   "display_name": "Python 3 (ipykernel)",
   "language": "python",
   "name": "python3"
  },
  "language_info": {
   "codemirror_mode": {
    "name": "ipython",
    "version": 3
   },
   "file_extension": ".py",
   "mimetype": "text/x-python",
   "name": "python",
   "nbconvert_exporter": "python",
   "pygments_lexer": "ipython3",
   "version": "3.8.12"
  }
 },
 "nbformat": 4,
 "nbformat_minor": 5
}
