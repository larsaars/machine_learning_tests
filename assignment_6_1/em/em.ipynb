{
 "cells": [
  {
   "cell_type": "code",
   "execution_count": 1,
   "id": "c18cee80-7e2f-4450-b1a8-ea10144c46fc",
   "metadata": {},
   "outputs": [],
   "source": [
    "%matplotlib inline\n",
    "import numpy as np\n",
    "from numpy import genfromtxt  \n",
    "from scipy.stats import norm\n",
    "import matplotlib.pyplot as plt"
   ]
  },
  {
   "cell_type": "code",
   "execution_count": 18,
   "id": "c32f1e23-719a-4c00-98f9-ab4c8c470138",
   "metadata": {},
   "outputs": [
    {
     "name": "stdout",
     "output_type": "stream",
     "text": [
      "[11.26821287  5.1233417  16.09725619 10.36847277] [1.55094114 8.45823803 8.01960298 7.05106229]\n"
     ]
    }
   ],
   "source": [
    "def em(data, k, n=10):\n",
    "    '''\n",
    "    vanilla 1d expectation maximazation algorithm\n",
    "    \n",
    "    data 1d numpy array of data\n",
    "    k number of normal distributions\n",
    "    n number of em repetitions\n",
    "    '''\n",
    "    \n",
    "    # ensure data are 1d\n",
    "    data = data.flatten()\n",
    "    \n",
    "    # list of means and variances of the k normal distributions to be fitted\n",
    "    # init randomly between min and max points of data\n",
    "    min_data, max_data = data.min(), data.max() \n",
    "    \n",
    "    mean = np.random.uniform(low=min_data, high=max_data, size=k)\n",
    "    variance = np.random.uniform(low=np.absolute(min_data / 2), high=np.absolute(max_data/2, size=k))\n",
    "    \n",
    "    # assume priors are equal\n",
    "    prior = 1 / k\n",
    "    \n",
    "    # repeat algorithm n times\n",
    "    for i in range(n):\n",
    "    \n",
    "        p_x_b = []\n",
    "        \n",
    "        # loop through each distribution j\n",
    "        for j in range(k):\n",
    "            # calcualate for each point the probability that it belongs to the distribution j\n",
    "            p_x_b.append((1 / np.sqrt(2 * np.pi * variance[j])) * np.exp(-((data - mean[j]) ** 2) / (2 * variance[j])))\n",
    "        \n",
    "        for j in range(k):\n",
    "            # calculate for each point the probability that it belongs to a distribution,\n",
    "            # summing up to one ('colorings of the points')\n",
    "            \n",
    "        \n",
    "    \n",
    "em(np.arange(20), 4) "
   ]
  },
  {
   "cell_type": "code",
   "execution_count": 27,
   "id": "6c369c31-0a0d-4661-a3a4-ea658b890423",
   "metadata": {},
   "outputs": [
    {
     "data": {
      "text/plain": [
       "(1,\n",
       " 1,\n",
       " array([0.39400276, 0.39518213, 0.24342295, 0.31461123, 0.05136829,\n",
       "        0.16580826, 0.2584552 , 0.31999725, 0.2004171 , 0.33504143,\n",
       "        0.39732853, 0.38382476, 0.27531536, 0.39422092, 0.24654536,\n",
       "        0.25764678, 0.39353201, 0.38897035, 0.19623569, 0.31335157,\n",
       "        0.3917728 , 0.22320274, 0.32537475, 0.12988029, 0.31069666,\n",
       "        0.39082201, 0.21466019, 0.31205935, 0.39359435, 0.23152042,\n",
       "        0.06624961, 0.29516369, 0.26591176, 0.25084063, 0.20997874,\n",
       "        0.38479987, 0.13484087, 0.13607707, 0.39537354, 0.12239252]))"
      ]
     },
     "execution_count": 27,
     "metadata": {},
     "output_type": "execute_result"
    }
   ],
   "source": [
    "data = norm.rvs(1, 1, 40)\n",
    " \n",
    "mu = 1  #data.mean()\n",
    "var = 1#data.var()\n",
    "p = (1 / np.sqrt(2 * np.pi * var) * np.exp(-((data - mu) ** 2) / (2 * var)))\n",
    "mu, var, p"
   ]
  },
  {
   "cell_type": "markdown",
   "id": "e438a668-c7c5-4a65-b608-67b874cd1a5e",
   "metadata": {},
   "source": [
    "### Datasets"
   ]
  },
  {
   "cell_type": "code",
   "execution_count": 3,
   "id": "77b5e311-c822-43bd-9075-0cc4eeb55344",
   "metadata": {},
   "outputs": [],
   "source": [
    "def load_iris():\n",
    "    '''\n",
    "    Returns a column of all petal lengths.\n",
    "    '''\n",
    "    X = genfromtxt(\"./data/iris.csv\", delimiter=',', skip_header=1)\n",
    "    X = X[:,2]\n",
    "    X = X.reshape(-1, 1)\n",
    "    return X\n",
    "\n",
    "def load_bdp():\n",
    "    '''\n",
    "    Returns a column of systolic and diastolic blood pressure values.\n",
    "    '''\n",
    "    Z = genfromtxt(\"./data/bdp.csv\", delimiter=',', skip_header=1)\n",
    "    n = Z.shape[0]\n",
    "    X = np.zeros(2*n)\n",
    "    X[:n] = Z[:,2]\n",
    "    X[n:] = Z[:,3]\n",
    "    X = X.reshape(-1,1)\n",
    "    return X\n",
    "\n",
    "def sample(pi, mu, std, n):\n",
    "    '''\n",
    "    Returns a column of n values drawn from a normal mixture model.\n",
    "    \n",
    "    Parameter\n",
    "        pi  k mixing coefficients\n",
    "        mu  k means\n",
    "        std k standard deviations\n",
    "        n   number of data points\n",
    "        \n",
    "    Return\n",
    "        n data points randomly sampled from specified mixture. \n",
    "    '''\n",
    "    y = np.random.choice(len(pi), size=n, p=pi)\n",
    "    x = np.zeros((n,1))\n",
    "    for i, comp in enumerate(y):\n",
    "        x[i] = norm.rvs(mu[comp], std[comp])\n",
    "    return x\n"
   ]
  },
  {
   "cell_type": "markdown",
   "id": "bb0da46b-ef01-48dc-b1e7-10c0bd078f68",
   "metadata": {},
   "source": [
    "### Examples"
   ]
  },
  {
   "cell_type": "code",
   "execution_count": 4,
   "id": "8571b778-e734-4430-a64e-af6d56aab820",
   "metadata": {},
   "outputs": [
    {
     "data": {
      "text/plain": [
       "(1000, 1)"
      ]
     },
     "execution_count": 4,
     "metadata": {},
     "output_type": "execute_result"
    }
   ],
   "source": [
    "# generate n points from a mixture of fived normal distributions\n",
    "n = 1000\n",
    "mu = [100, 150, 200]\n",
    "std = 5*np.ones(len(mu))\n",
    "pi = np.ones(len(mu))/len(mu)\n",
    "x = sample(pi, mu, std, n)\n",
    "x.shape"
   ]
  },
  {
   "cell_type": "code",
   "execution_count": 5,
   "id": "477a0b83-918a-4dd9-bab6-b83dedaa9b9c",
   "metadata": {},
   "outputs": [
    {
     "data": {
      "text/plain": [
       "(150, 1)"
      ]
     },
     "execution_count": 5,
     "metadata": {},
     "output_type": "execute_result"
    }
   ],
   "source": [
    "# load petal lengths of iris flowers\n",
    "x = load_iris()\n",
    "x.shape"
   ]
  },
  {
   "cell_type": "code",
   "execution_count": 6,
   "id": "89bdbfa4-2b14-4346-990c-2f82e2b303dd",
   "metadata": {},
   "outputs": [
    {
     "data": {
      "text/plain": [
       "(302, 1)"
      ]
     },
     "execution_count": 6,
     "metadata": {},
     "output_type": "execute_result"
    }
   ],
   "source": [
    "# load blood pressures\n",
    "x = load_bdp()\n",
    "x.shape"
   ]
  },
  {
   "cell_type": "markdown",
   "id": "66f2ce3b-8635-4749-981a-b770869a4340",
   "metadata": {},
   "source": [
    "### Distribution of Data"
   ]
  },
  {
   "cell_type": "code",
   "execution_count": 7,
   "id": "6ec2ea40-b33d-420d-860e-ef64e681dfc0",
   "metadata": {},
   "outputs": [
    {
     "data": {
      "image/png": "[encoded data removed]",
      "text/plain": [
       "<Figure size 720x144 with 1 Axes>"
      ]
     },
     "metadata": {
      "needs_background": "light"
     },
     "output_type": "display_data"
    }
   ],
   "source": [
    "# show data\n",
    "plt.subplots(figsize=(10,2))\n",
    "plt.scatter(x, np.zeros((len(x),1)))\n",
    "plt.yticks(())\n",
    "plt.show()"
   ]
  },
  {
   "cell_type": "code",
   "execution_count": null,
   "id": "9c205572-eacf-4665-b2f8-d43b171a24e4",
   "metadata": {},
   "outputs": [],
   "source": []
  }
 ],
 "metadata": {
  "kernelspec": {
   "display_name": "Python 3",
   "language": "python",
   "name": "python3"
  },
  "language_info": {
   "codemirror_mode": {
    "name": "ipython",
    "version": 3
   },
   "file_extension": ".py",
   "mimetype": "text/x-python",
   "name": "python",
   "nbconvert_exporter": "python",
   "pygments_lexer": "ipython3",
   "version": "3.9.5"
  }
 },
 "nbformat": 4,
 "nbformat_minor": 5
}
