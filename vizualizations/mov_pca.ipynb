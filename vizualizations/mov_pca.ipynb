{
 "cells": [
  {
   "cell_type": "code",
   "execution_count": 1,
   "id": "0fc9df0e-9615-4868-bfdc-fd8f1a7cb1d4",
   "metadata": {},
   "outputs": [],
   "source": [
    "import glob\n",
    "import os\n",
    "\n",
    "import cv2\n",
    "import matplotlib.pyplot as plt\n",
    "import numpy as np\n",
    "import pandas as pd\n",
    "import seaborn as sns\n",
    "from sklearn.decomposition import PCA\n",
    "from sklearn.preprocessing import StandardScaler"
   ]
  },
  {
   "cell_type": "code",
   "execution_count": 2,
   "id": "e451f7e1-034d-45d8-81a7-331f99a0b5bf",
   "metadata": {},
   "outputs": [],
   "source": [
    "# import train csv\n",
    "df = pd.read_csv('train.csv')"
   ]
  },
  {
   "cell_type": "code",
   "execution_count": null,
   "id": "8c66f34c-30bf-478a-b967-255cf3da9db1",
   "metadata": {},
   "outputs": [],
   "source": [
    "all_columns = list(df.columns.values)\n",
    "feature_columns = all_columns[3:]"
   ]
  },
  {
   "cell_type": "code",
   "execution_count": 6,
   "id": "93bf0271-981d-4755-a441-77617691094c",
   "metadata": {},
   "outputs": [],
   "source": [
    "scaler = StandardScaler()\n",
    "df[feature_columns] = scaler.fit_transform(df[feature_columns])"
   ]
  },
  {
   "cell_type": "code",
   "execution_count": 7,
   "id": "e98e96d8-6163-4bf6-b084-0e7de71d8b48",
   "metadata": {},
   "outputs": [],
   "source": [
    "data_selection = df.sample(\n",
    "    10000\n",
    ")  # reduce by sampling N random rows, plotting else takes forever"
   ]
  },
  {
   "cell_type": "code",
   "execution_count": 8,
   "id": "f1f2c270-6acc-491e-8314-db20521218d3",
   "metadata": {
    "tags": []
   },
   "outputs": [],
   "source": [
    "def plot_pca_and_create_anim(ft):\n",
    "    # get matching features for feature name (ft)\n",
    "    matching_features = [f for f in feature_columns if ft in f]\n",
    "    # get matching numpy data\n",
    "    X = data_selection[matching_features].values\n",
    "    # let a PCA run\n",
    "    X = PCA(n_components=3).fit_transform(X)\n",
    "\n",
    "    # create a 3d projection and scatter plot data\n",
    "    fig = plt.figure(1, figsize=(20, 14))\n",
    "    ax = fig.add_subplot(projection=\"3d\", elev=10, azim=0)\n",
    "    scatter = ax.scatter(\n",
    "        X[:, 0],\n",
    "        X[:, 1],\n",
    "        X[:, 2],\n",
    "        c=data_selection.Class,\n",
    "        cmap=plt.cm.nipy_spectral,\n",
    "        edgecolor=\"k\",\n",
    "    )\n",
    "    # show classes belonging to hues\n",
    "    ax.legend(*scatter.legend_elements())\n",
    "    ax.set_axis_off()\n",
    "\n",
    "    # show graphics\n",
    "    plt.show()\n",
    "\n",
    "    # create picture from every angle\n",
    "    # for animation\n",
    "    for angle in range(0, 360, 2):\n",
    "        # set angle\n",
    "        ax.azim = angle\n",
    "        # save figures in temp folder\n",
    "        fig.savefig(f'./tmp/{angle}.png')\n",
    "\n",
    "    # use opencv to read the files\n",
    "    img_array = []\n",
    "    for filename in sorted(glob.glob('./tmp/*.png'), key=os.path.getmtime):\n",
    "        img = cv2.imread(filename)\n",
    "        height, width, layers = img.shape\n",
    "        size = (width, height)\n",
    "        img_array.append(img)\n",
    "\n",
    "\n",
    "    # and then write them to a video\n",
    "    out = cv2.VideoWriter(f'./movs/{ft}.avi', cv2.VideoWriter_fourcc(*'DIVX'), 30, size)\n",
    "\n",
    "    for i in range(len(img_array)):\n",
    "        out.write(img_array[i])\n",
    "    out.release()\n"
   ]
  },
  {
   "cell_type": "code",
   "execution_count": null,
   "id": "1ea975d7-fccf-4701-89a2-33a1a718d41f",
   "metadata": {},
   "outputs": [],
   "source": []
  }
 ],
 "metadata": {
  "kernelspec": {
   "display_name": "Python 3 (ipykernel)",
   "language": "python",
   "name": "python3"
  },
  "language_info": {
   "codemirror_mode": {
    "name": "ipython",
    "version": 3
   },
   "file_extension": ".py",
   "mimetype": "text/x-python",
   "name": "python",
   "nbconvert_exporter": "python",
   "pygments_lexer": "ipython3",
   "version": "3.8.13"
  },
  "widgets": {
   "application/vnd.jupyter.widget-state+json": {
    "state": {},
    "version_major": 2,
    "version_minor": 0
   }
  }
 },
 "nbformat": 4,
 "nbformat_minor": 5
}
