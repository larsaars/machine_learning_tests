{
 "cells": [
  {
   "cell_type": "code",
   "execution_count": 1,
   "id": "84516796-79c0-4169-98af-488acdfea6de",
   "metadata": {},
   "outputs": [],
   "source": [
    "import matplotlib.pyplot as plt\n",
    "import matplotlib as mplt\n",
    "import numpy as np"
   ]
  },
  {
   "cell_type": "code",
   "execution_count": 2,
   "id": "c36aa4b9-1c2b-4882-bd98-fd1b7b1c5bc6",
   "metadata": {},
   "outputs": [],
   "source": [
    "plt.rcParams['figure.figsize'] = (6, 6)"
   ]
  },
  {
   "cell_type": "code",
   "execution_count": 6,
   "id": "c5865811-bb4d-4212-a17c-e9e8e3750ab5",
   "metadata": {},
   "outputs": [],
   "source": [
    "def plot_colored_grid(data, colors=['white', 'green'], bounds=[0, 0.5, 1], grid=True, labels=False, frame=False):\n",
    "    \"\"\"Plot 2d matrix with grid with well-defined colors for specific boundary values.\n",
    "    \n",
    "    :param data: 2d matrix\n",
    "    :param colors: colors\n",
    "    :param bounds: bounds between which the respective color will be plotted\n",
    "    :param grid: whether grid should be plotted\n",
    "    :param labels: whether labels should be plotted\n",
    "    :param frame: whether frame should be plotted\n",
    "    \"\"\"\n",
    "    \n",
    "    # create discrete colormap\n",
    "    cmap = mplt.colors.ListedColormap(colors)\n",
    "    norm = mplt.colors.BoundaryNorm(bounds, cmap.N)\n",
    "    \n",
    "    # enable or disable frame\n",
    "    plt.figure(frameon=frame)\n",
    "\n",
    "    # show grid\n",
    "    if grid:\n",
    "        plt.grid(axis='both', color='k', linewidth=2) \n",
    "        plt.xticks(np.arange(0.5, data.shape[0], 1))  # correct grid sizes\n",
    "        plt.yticks(np.arange(0.5, data.shape[1], 1))\n",
    "\n",
    "    # disable labels\n",
    "    if not labels:\n",
    "        plt.tick_params(bottom=False, top=False, left=False, right=False, labelbottom=False, labelleft=False) \n",
    "    # plot data matrix\n",
    "    plt.imshow(data, cmap=cmap, norm=norm)\n",
    "    \n",
    "    # display main axis \n",
    "    plt.show()"
   ]
  },
  {
   "cell_type": "code",
   "execution_count": 7,
   "id": "33841e36-5562-432c-9b4f-8b91271b94b4",
   "metadata": {},
   "outputs": [
    {
     "data": {
      "image/png": "[encoded data removed]",
      "text/plain": [
       "<Figure size 600x600 with 1 Axes>"
      ]
     },
     "metadata": {},
     "output_type": "display_data"
    }
   ],
   "source": [
    "plot_colored_grid(np.array([[True, False], [False, True]]))"
   ]
  },
  {
   "cell_type": "code",
   "execution_count": 8,
   "id": "db4e6564-5565-41b2-b0fc-bf65734bf5a0",
   "metadata": {},
   "outputs": [
    {
     "data": {
      "image/png": "[encoded data removed]",
      "text/plain": [
       "<Figure size 600x600 with 1 Axes>"
      ]
     },
     "metadata": {},
     "output_type": "display_data"
    }
   ],
   "source": [
    "data = np.array([\n",
    "    [9, 12, 24],\n",
    "    [5, 2, 33],\n",
    "    [27, 36, 15]\n",
    "])\n",
    "\n",
    "plot_colored_grid(data, colors=['white', 'green', 'purple', 'red'], bounds=[0, 10, 20, 30, 40])"
   ]
  },
  {
   "cell_type": "code",
   "execution_count": null,
   "id": "f053be0e-e02a-4f7c-9390-2225b19840ca",
   "metadata": {},
   "outputs": [],
   "source": []
  }
 ],
 "metadata": {
  "kernelspec": {
   "display_name": "Python 3 (ipykernel)",
   "language": "python",
   "name": "python3"
  },
  "language_info": {
   "codemirror_mode": {
    "name": "ipython",
    "version": 3
   },
   "file_extension": ".py",
   "mimetype": "text/x-python",
   "name": "python",
   "nbconvert_exporter": "python",
   "pygments_lexer": "ipython3",
   "version": "3.8.13"
  },
  "widgets": {
   "application/vnd.jupyter.widget-state+json": {
    "state": {},
    "version_major": 2,
    "version_minor": 0
   }
  }
 },
 "nbformat": 4,
 "nbformat_minor": 5
}
