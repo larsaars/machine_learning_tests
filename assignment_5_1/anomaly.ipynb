{
 "cells": [
  {
   "cell_type": "code",
   "execution_count": 2,
   "id": "096fcff2-6dd2-42e3-9325-0566ecc1d53b",
   "metadata": {},
   "outputs": [],
   "source": [
    "import numpy as np\n",
    "from numpy.linalg import inv\n",
    "from scipy.stats import multivariate_normal\n",
    "import matplotlib.pyplot as plt"
   ]
  },
  {
   "cell_type": "code",
   "execution_count": 15,
   "id": "90dc0a2c-c2f5-4096-b367-ad491ff2cfbe",
   "metadata": {},
   "outputs": [],
   "source": [
    "def get_theta(mu, cov, rho):\n",
    "    '''\n",
    "    Returns explicit threshold theta for a given percentage rho of anomalies in \n",
    "    data distributed as a Gaussian with mean mu and covariance matrix cov. \n",
    "    \n",
    "    Parameters\n",
    "        mu    mean of Gaussian distribution\n",
    "        cov   covariance matrix of Gaussian distribution\n",
    "        rho   percentage of anomalies, which must be between 0 and 100 inclusive\n",
    "    '''\n",
    "    # generate random variables (data)\n",
    "    X = multivariate_normal.rvs(mean=mu, cov=cov, size=5000000)\n",
    "    # center data (normalize) (for x_i - mu)\n",
    "    Z = X - mu\n",
    "    # calculate the mahalanobis distance\n",
    "    # d2M (xi, ˆμ) = (xi − ˆμ)T ˆΣ−1(xi − ˆμ)\n",
    "    d = np.sqrt(np.sum(Z.dot(inv(cov)) * Z, axis=1))\n",
    "    # thetha = \n",
    "    return np.percentile(d, 100-rho) \n",
    "\n",
    "# get_theta([0, 0], [[1, 0], [0, 1]], 5)"
   ]
  },
  {
   "cell_type": "code",
   "execution_count": 4,
   "id": "a5f8afa7-8011-44c1-90c5-d79807ecaab8",
   "metadata": {},
   "outputs": [],
   "source": [
    "# styling and fig siz\n",
    "plt.style.use('seaborn-dark')\n",
    "plt.rcParams['figure.figsize']= 16, 10  "
   ]
  },
  {
   "cell_type": "code",
   "execution_count": 16,
   "id": "235e3ee2-8865-44f1-b17c-d11d203d6d0b",
   "metadata": {},
   "outputs": [],
   "source": [
    "# utility functions for plotting etc\n",
    "\n",
    "def gen_data(mu, cov, n=1000):\n",
    "    '''\n",
    "    generate bivariate gaussian data\n",
    "    \n",
    "    mu mean of the gaussian distribution\n",
    "    cov covariance matrix\n",
    "    n size (number of points)\n",
    "    '''\n",
    "    return multivariate_normal.rvs(cov=cov, mean=mu, size=n)\n",
    "\n",
    "def plt_points(data):\n",
    "    '''\n",
    "    plot bivariate gaussian data as points\n",
    "    '''\n",
    "    # Plotting the generated samples\n",
    "    plt.plot(data[:,0], data[:,1], 'o', c='lime',\n",
    "             markeredgewidth = 0.5,\n",
    "             markeredgecolor = 'black')\n",
    "    # plt.title('covariance of distribution')\n",
    "    plt.xlabel('x1')\n",
    "    plt.ylabel('x2')\n",
    "    plt.axis('equal')\n",
    "     \n",
    "    plt.show()\n",
    "    \n",
    "def plt_pdf(mu, cov):\n",
    "    '''\n",
    "    plot the density function from a bivariate gaussian distribution\n",
    "    \n",
    "    mu mean\n",
    "    cov covariance matrix\n",
    "    '''\n",
    "    distr = multivariate_normal(cov=cov, mean=mu)\n",
    "     \n",
    "    # Generating a meshgrid complacent with\n",
    "    # the 3-sigma boundary\n",
    "    mean_1, mean_2 = mean[0], mean[1]\n",
    "    sigma_1, sigma_2 = cov[0,0], cov[1,1]\n",
    "     \n",
    "    x = np.linspace(-3*sigma_1, 3*sigma_1, num=100)\n",
    "    y = np.linspace(-3*sigma_2, 3*sigma_2, num=100)\n",
    "    X, Y = np.meshgrid(x, y)\n",
    "     \n",
    "    # Generating the density function\n",
    "    # for each point in the meshgrid\n",
    "    pdf = np.zeros(X.shape)\n",
    "    for i in range(X.shape[0]):\n",
    "        for j in range(X.shape[1]):\n",
    "            pdf[i,j] = distr.pdf([X[i,j], Y[i,j]])\n",
    "     \n",
    "    # Plotting the density function values\n",
    "    ax = plt.figure().add_subplot(111, projection = '3d')\n",
    "    ax.plot_surface(X, Y, pdf, cmap = 'viridis')\n",
    "    plt.xlabel(\"x1\")\n",
    "    plt.ylabel(\"x2\")\n",
    "    ax.axes.zaxis.set_ticks([])\n",
    "    \n",
    "    plt.show()"
   ]
  },
  {
   "cell_type": "markdown",
   "id": "402a9923-6d8c-4b78-9628-8b5ca9848b0a",
   "metadata": {},
   "source": [
    "# assignment\n",
    "1. Sample a data set D of size n from N (x; μ, Σ). Fix a percentage ρ.\n",
    "2. Use the function get_theta(mu, cov, rho) provided by the notebook to\n",
    "obtain an explicit threshold θ given the percentage ρ. Note that θ is part\n",
    "of the ground-truth and therefore considered as unknown.\n",
    "3. Determine the true anomalies of D. For this, use the explicit threshold θ\n",
    "together with the Mahalanobis distance d∗\n",
    "M defined by the true μ and Σ.\n",
    "4. Use the data D to estimate μ and Σ. Construct the Mahalanobis distance\n",
    "dM defined by the estimates ˆμ and ˆΣ.\n",
    "5. Predict the anomalies of D using the Mahalanobis distance dM and Eu-\n",
    "clidean distance dE . Anomalies are the ρ percent points xi ∈ D farthest\n",
    "from ˆμ (do not use θ). Assess precision and recall of both detectors."
   ]
  },
  {
   "cell_type": "code",
   "execution_count": 17,
   "id": "bacb0cf2-3dc4-4581-9214-19549490b346",
   "metadata": {},
   "outputs": [],
   "source": [
    "# fixate groundtruth mean and covariance matrix for the bivariate gaussian distribution\n",
    "# '_T' nominator stands for groundtruth variable\n",
    "# '_E' nominator stands for estimated variable\n",
    "mu_T = np.array([0, 0])  # mean at (0, 0)\n",
    "cov = np.array([[1, 0], [0, 1]])  # sigma / covariance matrix\n",
    "rho = 5  # preset percentage of outliers\n",
    "size = 5000  # number of data points    "
   ]
  },
  {
   "cell_type": "code",
   "execution_count": 18,
   "id": "78ab0970-b978-49bd-85ed-f02378346633",
   "metadata": {},
   "outputs": [],
   "source": [
    "# 1. generate dataset\n",
    "D = multivariate_normal.rvs(mean=mu, cov=cov, size=size)"
   ]
  },
  {
   "cell_type": "code",
   "execution_count": 19,
   "id": "616a626d-850d-45df-aa59-6736938d23c1",
   "metadata": {},
   "outputs": [],
   "source": [
    "# 2. use get_theta to get the 'groundtruth' explicit treshold\n",
    "theta = get_theta(mu, cov, rho)"
   ]
  },
  {
   "cell_type": "code",
   "execution_count": 21,
   "id": "5fd5e540-d605-4a23-b195-b336e4df1119",
   "metadata": {},
   "outputs": [
    {
     "data": {
      "text/plain": [
       "0.0466"
      ]
     },
     "execution_count": 21,
     "metadata": {},
     "output_type": "execute_result"
    }
   ],
   "source": [
    "# 3. determine subset of true anomalies of dataset D\n",
    "# start by calculating the mahalanobis distance of each point from the mean\n",
    "Z = D - mu\n",
    "d_star_M = np.sqrt(np.sum(Z.dot(inv(cov)) * Z, axis=1)) \n",
    "# filter out values (indices) over the groundtruth threshold theta (True / False array)\n",
    "T = d_star_M > theta  # indices of true anomalies\n",
    "# print number of as true determined inices\n",
    "len(T[T]) / len(T)"
   ]
  },
  {
   "cell_type": "code",
   "execution_count": 11,
   "id": "57d25774-aba0-4705-92da-b18c9ea52ac1",
   "metadata": {},
   "outputs": [
    {
     "data": {
      "text/plain": [
       "array([[-0.3317541 , -0.65547892],\n",
       "       [-0.24176314,  0.74385974],\n",
       "       [ 0.84266411, -0.29247938],\n",
       "       ...,\n",
       "       [ 0.79165354,  0.04219234],\n",
       "       [ 0.90316687, -2.18269991],\n",
       "       [-0.54494302, -0.67902587]])"
      ]
     },
     "execution_count": 11,
     "metadata": {},
     "output_type": "execute_result"
    }
   ],
   "source": [
    "# 4. Use the data D to estimate μ and Σ. Construct the Mahalanobis distance\n",
    "# dM defined by the estimates ˆμ and ˆΣ.\n",
    "\n",
    "D"
   ]
  },
  {
   "cell_type": "code",
   "execution_count": null,
   "id": "1dcd1ca3-ad4a-4391-a7ac-6805d43e814d",
   "metadata": {},
   "outputs": [],
   "source": []
  }
 ],
 "metadata": {
  "kernelspec": {
   "display_name": "Python 3",
   "language": "python",
   "name": "python3"
  },
  "language_info": {
   "codemirror_mode": {
    "name": "ipython",
    "version": 3
   },
   "file_extension": ".py",
   "mimetype": "text/x-python",
   "name": "python",
   "nbconvert_exporter": "python",
   "pygments_lexer": "ipython3",
   "version": "3.9.5"
  }
 },
 "nbformat": 4,
 "nbformat_minor": 5
}
