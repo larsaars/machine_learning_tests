{
 "cells": [
  {
   "cell_type": "code",
   "execution_count": 6,
   "id": "ff635531-1f22-41be-8fd5-563c85bc54a9",
   "metadata": {},
   "outputs": [],
   "source": [
    "from tqdm.auto import tqdm\n",
    "import numba as numba\n",
    "import numpy as np\n",
    "\n",
    "import tensorflow as tf\n",
    "from tensorflow.keras import layers"
   ]
  },
  {
   "cell_type": "code",
   "execution_count": 8,
   "id": "500d1113-8976-4bdd-aa65-8e56a665184e",
   "metadata": {},
   "outputs": [
    {
     "name": "stdout",
     "output_type": "stream",
     "text": [
      "Model: \"model_1\"\n",
      "_________________________________________________________________\n",
      " Layer (type)                Output Shape              Param #   \n",
      "=================================================================\n",
      " input_2 (InputLayer)        [(None, 28, 28, 1)]       0         \n",
      "                                                                 \n",
      " conv2d_2 (Conv2D)           (None, 26, 26, 32)        320       \n",
      "                                                                 \n",
      " max_pooling2d_2 (MaxPooling  (None, 13, 13, 32)       0         \n",
      " 2D)                                                             \n",
      "                                                                 \n",
      " conv2d_3 (Conv2D)           (None, 11, 11, 64)        18496     \n",
      "                                                                 \n",
      " max_pooling2d_3 (MaxPooling  (None, 5, 5, 64)         0         \n",
      " 2D)                                                             \n",
      "                                                                 \n",
      " reshape_1 (Reshape)         (None, 25, 64)            0         \n",
      "                                                                 \n",
      " flatten_1 (Flatten)         (None, 1600)              0         \n",
      "                                                                 \n",
      " dense_5 (Dense)             (None, 64)                102464    \n",
      "                                                                 \n",
      " dense_6 (Dense)             (None, 10)                650       \n",
      "                                                                 \n",
      "=================================================================\n",
      "Total params: 121,930\n",
      "Trainable params: 121,930\n",
      "Non-trainable params: 0\n",
      "_________________________________________________________________\n"
     ]
    }
   ],
   "source": [
    "# Define the combined model\n",
    "def create_model():\n",
    "    inputs = layers.Input(shape=(28, 28, 1))\n",
    "    x = layers.Conv2D(32, 3, activation='relu')(inputs)\n",
    "    x = layers.MaxPooling2D()(x)\n",
    "    x = layers.Conv2D(64, 3, activation='relu')(x)\n",
    "    x = layers.MaxPooling2D()(x)\n",
    "    x = layers.Reshape((-1, 64))(x)  # Reshape for the self-attention layer\n",
    "    x = layers.Flatten()(x)\n",
    "    x = layers.Dense(64, activation='relu')(x)\n",
    "    outputs = layers.Dense(10, activation='softmax')(x)\n",
    "    model = tf.keras.Model(inputs=inputs, outputs=outputs)\n",
    "    return model\n",
    "\n",
    "# Create and compile the model\n",
    "model = create_model()\n",
    "model.compile(optimizer='adam', loss='sparse_categorical_crossentropy', metrics=['accuracy'])\n",
    "\n",
    "model.summary()"
   ]
  },
  {
   "cell_type": "code",
   "execution_count": 9,
   "id": "9d63c03f-b681-4b54-8bd1-ba4e27d5e227",
   "metadata": {},
   "outputs": [],
   "source": [
    " # Load the MNIST dataset\n",
    "(x_train, y_train), (x_test, y_test) = tf.keras.datasets.mnist.load_data()\n",
    "x_train = x_train.reshape(-1, 28, 28, 1).astype('float32') / 255\n",
    "x_test = x_test.reshape(-1, 28, 28, 1).astype('float32') / 255  "
   ]
  },
  {
   "cell_type": "code",
   "execution_count": 10,
   "id": "5e6798c5-5061-480a-977a-855a3dd4275e",
   "metadata": {},
   "outputs": [
    {
     "name": "stdout",
     "output_type": "stream",
     "text": [
      "Epoch 1/120\n",
      "168/168 [==============================] - 18s 107ms/step - loss: 0.4343 - accuracy: 0.8736 - val_loss: 0.1278 - val_accuracy: 0.9637\n",
      "Epoch 2/120\n",
      "168/168 [==============================] - 18s 108ms/step - loss: 0.1005 - accuracy: 0.9693 - val_loss: 0.0859 - val_accuracy: 0.9738\n",
      "Epoch 3/120\n",
      "168/168 [==============================] - 18s 107ms/step - loss: 0.0683 - accuracy: 0.9795 - val_loss: 0.0682 - val_accuracy: 0.9800\n",
      "Epoch 4/120\n",
      "168/168 [==============================] - 18s 107ms/step - loss: 0.0525 - accuracy: 0.9838 - val_loss: 0.0587 - val_accuracy: 0.9822\n",
      "Epoch 5/120\n",
      "168/168 [==============================] - 17s 102ms/step - loss: 0.0446 - accuracy: 0.9864 - val_loss: 0.0605 - val_accuracy: 0.9819\n",
      "Epoch 6/120\n",
      "168/168 [==============================] - 20s 122ms/step - loss: 0.0383 - accuracy: 0.9884 - val_loss: 0.0570 - val_accuracy: 0.9831\n",
      "Epoch 7/120\n",
      "168/168 [==============================] - 17s 99ms/step - loss: 0.0334 - accuracy: 0.9902 - val_loss: 0.0502 - val_accuracy: 0.9858\n",
      "Epoch 8/120\n",
      "168/168 [==============================] - 18s 106ms/step - loss: 0.0294 - accuracy: 0.9911 - val_loss: 0.0516 - val_accuracy: 0.9848\n",
      "Epoch 9/120\n",
      "168/168 [==============================] - 19s 113ms/step - loss: 0.0254 - accuracy: 0.9916 - val_loss: 0.0502 - val_accuracy: 0.9846\n",
      "Epoch 10/120\n",
      "168/168 [==============================] - 17s 104ms/step - loss: 0.0218 - accuracy: 0.9930 - val_loss: 0.0436 - val_accuracy: 0.9874\n",
      "Epoch 11/120\n",
      "168/168 [==============================] - 17s 103ms/step - loss: 0.0194 - accuracy: 0.9936 - val_loss: 0.0454 - val_accuracy: 0.9869\n",
      "Epoch 12/120\n",
      "168/168 [==============================] - 18s 109ms/step - loss: 0.0179 - accuracy: 0.9939 - val_loss: 0.0521 - val_accuracy: 0.9856\n",
      "Epoch 13/120\n",
      "168/168 [==============================] - 18s 106ms/step - loss: 0.0158 - accuracy: 0.9950 - val_loss: 0.0447 - val_accuracy: 0.9868\n",
      "Epoch 14/120\n",
      "168/168 [==============================] - 18s 105ms/step - loss: 0.0124 - accuracy: 0.9959 - val_loss: 0.0476 - val_accuracy: 0.9859\n",
      "Epoch 15/120\n",
      "168/168 [==============================] - 17s 102ms/step - loss: 0.0121 - accuracy: 0.9960 - val_loss: 0.0417 - val_accuracy: 0.9889\n",
      "Epoch 16/120\n",
      "168/168 [==============================] - 18s 109ms/step - loss: 0.0093 - accuracy: 0.9972 - val_loss: 0.0494 - val_accuracy: 0.9866\n",
      "Epoch 17/120\n",
      "168/168 [==============================] - 19s 113ms/step - loss: 0.0091 - accuracy: 0.9973 - val_loss: 0.0459 - val_accuracy: 0.9876\n",
      "Epoch 18/120\n",
      "168/168 [==============================] - 19s 113ms/step - loss: 0.0057 - accuracy: 0.9982 - val_loss: 0.0661 - val_accuracy: 0.9845\n",
      "Epoch 19/120\n",
      "168/168 [==============================] - 18s 108ms/step - loss: 0.0082 - accuracy: 0.9972 - val_loss: 0.0507 - val_accuracy: 0.9876\n",
      "Epoch 20/120\n",
      "168/168 [==============================] - 18s 106ms/step - loss: 0.0047 - accuracy: 0.9985 - val_loss: 0.0514 - val_accuracy: 0.9879\n"
     ]
    },
    {
     "data": {
      "text/plain": [
       "<keras.callbacks.History at 0x7fecb7d6da50>"
      ]
     },
     "execution_count": 10,
     "metadata": {},
     "output_type": "execute_result"
    }
   ],
   "source": [
    "# Train the model\n",
    "early_stopping = tf.keras.callbacks.EarlyStopping(monitor='val_loss', patience=3)\n",
    "model.fit(\n",
    "    x_train, \n",
    "    y_train, \n",
    "    epochs=120,\n",
    "    use_multiprocessing=True,\n",
    "    batch_size=250,\n",
    "    validation_split=0.3,\n",
    "    callbacks=[early_stopping]\n",
    ")"
   ]
  },
  {
   "cell_type": "code",
   "execution_count": 12,
   "id": "3c4b00cb-d094-404b-a5e3-414e7f300f2e",
   "metadata": {},
   "outputs": [
    {
     "name": "stdout",
     "output_type": "stream",
     "text": [
      "313/313 - 6s - loss: 0.0446 - accuracy: 0.9885 - 6s/epoch - 19ms/step\n",
      "\n",
      "Test accuracy: 0.9884999990463257\n"
     ]
    }
   ],
   "source": [
    "# Evaluate the model\n",
    "test_loss, test_acc = model.evaluate(x_test, y_test, verbose=2)\n",
    "print('\\nTest accuracy:', test_acc)"
   ]
  }
 ],
 "metadata": {
  "kernelspec": {
   "display_name": "Python 3 (ipykernel)",
   "language": "python",
   "name": "python3"
  },
  "language_info": {
   "codemirror_mode": {
    "name": "ipython",
    "version": 3
   },
   "file_extension": ".py",
   "mimetype": "text/x-python",
   "name": "python",
   "nbconvert_exporter": "python",
   "pygments_lexer": "ipython3",
   "version": "3.10.9"
  }
 },
 "nbformat": 4,
 "nbformat_minor": 5
}
