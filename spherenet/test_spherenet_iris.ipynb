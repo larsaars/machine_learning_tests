{
 "cells": [
  {
   "cell_type": "code",
   "execution_count": 1,
   "id": "8f0edd77-92d0-4870-80ed-ec4074beffbc",
   "metadata": {},
   "outputs": [],
   "source": [
    "from spherenet import SphereNet, MultiSphereNet, metrics_available\n",
    "import numpy as np\n",
    "import pandas as pd\n",
    "from sklearn.model_selection import train_test_split\n",
    "from sklearn.preprocessing import LabelEncoder"
   ]
  },
  {
   "cell_type": "code",
   "execution_count": 2,
   "id": "97a346df-3dde-4a6e-b8c2-74475111ff25",
   "metadata": {},
   "outputs": [],
   "source": [
    "df = pd.read_csv('./datasets/IRIS.csv')"
   ]
  },
  {
   "cell_type": "code",
   "execution_count": 3,
   "id": "9cb686c5-2e43-4659-ae83-19facb69956b",
   "metadata": {},
   "outputs": [],
   "source": [
    "df = df.fillna(0).apply(LabelEncoder().fit_transform)"
   ]
  },
  {
   "cell_type": "code",
   "execution_count": 4,
   "id": "221e8cbe-9931-40db-b48f-3b6bea7bf92c",
   "metadata": {},
   "outputs": [],
   "source": [
    "X_train, X_test, y_train, y_test = train_test_split(df[['sepal.length', 'sepal.width', 'petal.length', 'petal.width']].values, df['variety'].values, test_size=0.3)"
   ]
  },
  {
   "cell_type": "code",
   "execution_count": 8,
   "id": "fb7a84c9-ba68-4a2a-b3d3-bd381ae878d1",
   "metadata": {},
   "outputs": [
    {
     "name": "stdout",
     "output_type": "stream",
     "text": [
      "Fitting SphereNet model for in_class 0\n",
      "X_IN.shape: (34, 4)\n",
      "X_OUT.shape: (71, 4)\n",
      "Calculating radii and centers...\n"
     ]
    },
    {
     "data": {
      "application/vnd.jupyter.widget-view+json": {
       "model_id": "d624014b214d457cb4028b9249d98407",
       "version_major": 2,
       "version_minor": 0
      },
      "text/plain": [
       "  0%|                                                                  | 0/34 [00:00<?, ?it/s]"
      ]
     },
     "metadata": {},
     "output_type": "display_data"
    },
    {
     "name": "stdout",
     "output_type": "stream",
     "text": [
      "Removing ambiguity...\n",
      "Repeating optimization: 0\n"
     ]
    },
    {
     "data": {
      "application/vnd.jupyter.widget-view+json": {
       "model_id": "d016f9b8b992434fb1b6be7f3cc8c736",
       "version_major": 2,
       "version_minor": 0
      },
      "text/plain": [
       "  0%|                                                                  | 0/34 [00:00<?, ?it/s]"
      ]
     },
     "metadata": {},
     "output_type": "display_data"
    },
    {
     "name": "stdout",
     "output_type": "stream",
     "text": [
      "N-Spheres produced for classification: 1\n",
      "Fitting SphereNet model for in_class 1\n",
      "X_IN.shape: (37, 4)\n",
      "X_OUT.shape: (68, 4)\n",
      "Calculating radii and centers...\n"
     ]
    },
    {
     "data": {
      "application/vnd.jupyter.widget-view+json": {
       "model_id": "545323c678bc46f7978ee9a33b325c2f",
       "version_major": 2,
       "version_minor": 0
      },
      "text/plain": [
       "  0%|                                                                  | 0/37 [00:00<?, ?it/s]"
      ]
     },
     "metadata": {},
     "output_type": "display_data"
    },
    {
     "name": "stdout",
     "output_type": "stream",
     "text": [
      "Removing ambiguity...\n",
      "Repeating optimization: 0\n"
     ]
    },
    {
     "data": {
      "application/vnd.jupyter.widget-view+json": {
       "model_id": "060301573ed2474ea50dcb746e8a682d",
       "version_major": 2,
       "version_minor": 0
      },
      "text/plain": [
       "  0%|                                                                  | 0/31 [00:00<?, ?it/s]"
      ]
     },
     "metadata": {},
     "output_type": "display_data"
    },
    {
     "name": "stdout",
     "output_type": "stream",
     "text": [
      "N-Spheres produced for classification: 5\n",
      "Fitting SphereNet model for in_class 2\n",
      "X_IN.shape: (34, 4)\n",
      "X_OUT.shape: (71, 4)\n",
      "Calculating radii and centers...\n"
     ]
    },
    {
     "data": {
      "application/vnd.jupyter.widget-view+json": {
       "model_id": "dbe4e40f5f9b403886d4a6aeef374e44",
       "version_major": 2,
       "version_minor": 0
      },
      "text/plain": [
       "  0%|                                                                  | 0/34 [00:00<?, ?it/s]"
      ]
     },
     "metadata": {},
     "output_type": "display_data"
    },
    {
     "name": "stdout",
     "output_type": "stream",
     "text": [
      "Removing ambiguity...\n",
      "Repeating optimization: 0\n"
     ]
    },
    {
     "data": {
      "application/vnd.jupyter.widget-view+json": {
       "model_id": "4f260bfb61914e99968eee66490b8b16",
       "version_major": 2,
       "version_minor": 0
      },
      "text/plain": [
       "  0%|                                                                  | 0/30 [00:00<?, ?it/s]"
      ]
     },
     "metadata": {},
     "output_type": "display_data"
    },
    {
     "name": "stdout",
     "output_type": "stream",
     "text": [
      "N-Spheres produced for classification: 5\n"
     ]
    },
    {
     "data": {
      "application/vnd.jupyter.widget-view+json": {
       "model_id": "33f39ce16f6d435cadb9a87aa2ee2d3d",
       "version_major": 2,
       "version_minor": 0
      },
      "text/plain": [
       "  0%|                                                                  | 0/45 [00:00<?, ?it/s]"
      ]
     },
     "metadata": {},
     "output_type": "display_data"
    },
    {
     "data": {
      "application/vnd.jupyter.widget-view+json": {
       "model_id": "0633ae86d3f041948ea64e29fd02a0ee",
       "version_major": 2,
       "version_minor": 0
      },
      "text/plain": [
       "  0%|                                                                  | 0/45 [00:00<?, ?it/s]"
      ]
     },
     "metadata": {},
     "output_type": "display_data"
    },
    {
     "data": {
      "application/vnd.jupyter.widget-view+json": {
       "model_id": "648f2e3dd0954205b592cc76c5f8af4a",
       "version_major": 2,
       "version_minor": 0
      },
      "text/plain": [
       "  0%|                                                                  | 0/45 [00:00<?, ?it/s]"
      ]
     },
     "metadata": {},
     "output_type": "display_data"
    },
    {
     "name": "stdout",
     "output_type": "stream",
     "text": [
      "0.9777777777777777\n"
     ]
    }
   ],
   "source": [
    "net = MultiSphereNet( \n",
    "    min_dist_scaler=1.0, \n",
    "    min_radius_threshold=0.01, \n",
    "    optimization_tolerance=0, \n",
    "    optimization_repetitions=1, \n",
    "    optimization_parallel=False, \n",
    "    min_num_classified=2, \n",
    "    max_spheres_used=-1, \n",
    "    metric='canberra',\n",
    "    p=2, \n",
    "    standard_scaling=False, \n",
    "    normalization=False, \n",
    "    remove_training_outliers=False, \n",
    "    verbosity=2,\n",
    "    pred_mode='force'\n",
    ")\n",
    "\n",
    "\n",
    "net.fit(X_train, y_train) \n",
    "\n",
    "print(net.score(X_test, y_test))"
   ]
  },
  {
   "cell_type": "code",
   "execution_count": null,
   "id": "a026f459-98f9-4515-b633-8700c59fbecf",
   "metadata": {},
   "outputs": [],
   "source": []
  }
 ],
 "metadata": {
  "kernelspec": {
   "display_name": "Python 3 (ipykernel)",
   "language": "python",
   "name": "python3"
  },
  "language_info": {
   "codemirror_mode": {
    "name": "ipython",
    "version": 3
   },
   "file_extension": ".py",
   "mimetype": "text/x-python",
   "name": "python",
   "nbconvert_exporter": "python",
   "pygments_lexer": "ipython3",
   "version": "3.9.12"
  },
  "widgets": {
   "application/vnd.jupyter.widget-state+json": {
    "state": {
     "005bde7c09b04b0492c0216aa16a5291": {
      "model_module": "@jupyter-widgets/controls",
      "model_module_version": "1.5.0",
      "model_name": "HTMLModel",
      "state": {
       "layout": "IPY_MODEL_e1d1019f130a4f0791079879819739e8",
       "style": "IPY_MODEL_30c466f4c7cb44faa1dd52ed5e69e302",
       "value": " 34.0/34 [00:00&lt;00:00, 727.19it/s]"
      }
     },
     "0064be6a9d144355a03032fb471ca870": {
      "model_module": "@jupyter-widgets/base",
      "model_module_version": "1.2.0",
      "model_name": "LayoutModel",
      "state": {
       "flex": "2"
      }
     },
     "019499b55ce04d458434af47b076fb2b": {
      "model_module": "@jupyter-widgets/controls",
      "model_module_version": "1.5.0",
      "model_name": "HTMLModel",
      "state": {
       "layout": "IPY_MODEL_db1d3a07193543f5909e80b8060e902a",
       "style": "IPY_MODEL_0980b92826c14ff98ad2c8427ae67b7d",
       "value": "100%"
      }
     },
     "01b5dba784b646b7876ce334af7bb739": {
      "model_module": "@jupyter-widgets/base",
      "model_module_version": "1.2.0",
      "model_name": "LayoutModel",
      "state": {
       "display": "inline-flex",
       "flex_flow": "row wrap",
       "width": "100%"
      }
     },
     "027bd8d533d14239aeefd8c4c213e9be": {
      "model_module": "@jupyter-widgets/base",
      "model_module_version": "1.2.0",
      "model_name": "LayoutModel",
      "state": {}
     },
     "0401d4c97e7d4ad9ad59d8601706847e": {
      "model_module": "@jupyter-widgets/controls",
      "model_module_version": "1.5.0",
      "model_name": "HBoxModel",
      "state": {
       "children": [
        "IPY_MODEL_2fc55cec68474ea5af59f3cafeee8d52",
        "IPY_MODEL_41a4c73b1623409eb24f4392aabf6d8d",
        "IPY_MODEL_e8358c7f555a446aa749498452551c12"
       ],
       "layout": "IPY_MODEL_82ea36f9bc104d3b93188a4325d31ce7"
      }
     },
     "04915bfb62854f93a8d14b89deffa691": {
      "model_module": "@jupyter-widgets/controls",
      "model_module_version": "1.5.0",
      "model_name": "FloatProgressModel",
      "state": {
       "bar_style": "success",
       "layout": "IPY_MODEL_d76b51b767d646b1b954b288d64cc75b",
       "max": 34,
       "style": "IPY_MODEL_8982dea7985f4373a26b5234452f9626",
       "value": 34
      }
     },
     "04937b99d22641a8b3ab5f4ff6719d34": {
      "model_module": "@jupyter-widgets/base",
      "model_module_version": "1.2.0",
      "model_name": "LayoutModel",
      "state": {
       "flex": "2"
      }
     },
     "057bbeedcbca49cabcacc81e56ae21f5": {
      "model_module": "@jupyter-widgets/base",
      "model_module_version": "1.2.0",
      "model_name": "LayoutModel",
      "state": {
       "display": "inline-flex",
       "flex_flow": "row wrap",
       "width": "100%"
      }
     },
     "058f0ca33ef34b96825b0cf5021f0701": {
      "model_module": "@jupyter-widgets/base",
      "model_module_version": "1.2.0",
      "model_name": "LayoutModel",
      "state": {}
     },
     "060301573ed2474ea50dcb746e8a682d": {
      "model_module": "@jupyter-widgets/controls",
      "model_module_version": "1.5.0",
      "model_name": "HBoxModel",
      "state": {
       "children": [
        "IPY_MODEL_019499b55ce04d458434af47b076fb2b",
        "IPY_MODEL_4e9ee9f1ca7a4b0ea9c18518f96ff0a1",
        "IPY_MODEL_73780dd628a24135b8f0948fb52e523c"
       ],
       "layout": "IPY_MODEL_9996dea7de3241388679879bdf637989"
      }
     },
     "0633ae86d3f041948ea64e29fd02a0ee": {
      "model_module": "@jupyter-widgets/controls",
      "model_module_version": "1.5.0",
      "model_name": "HBoxModel",
      "state": {
       "children": [
        "IPY_MODEL_2ac55fe449b148ebae9693b4e483b963",
        "IPY_MODEL_67d7b3b5d35e4c91a77c4a7f05aaee71",
        "IPY_MODEL_9cc96b5bc6424cee87792baaedce2f4e"
       ],
       "layout": "IPY_MODEL_088e7c08efba4522b8a552094afc1589"
      }
     },
     "0685373a812c4006be30f138d0466895": {
      "model_module": "@jupyter-widgets/controls",
      "model_module_version": "1.5.0",
      "model_name": "DescriptionStyleModel",
      "state": {
       "description_width": ""
      }
     },
     "088e7c08efba4522b8a552094afc1589": {
      "model_module": "@jupyter-widgets/base",
      "model_module_version": "1.2.0",
      "model_name": "LayoutModel",
      "state": {
       "display": "inline-flex",
       "flex_flow": "row wrap",
       "width": "100%"
      }
     },
     "08e962d0d0aa466caca60b89bda2e52d": {
      "model_module": "@jupyter-widgets/controls",
      "model_module_version": "1.5.0",
      "model_name": "FloatProgressModel",
      "state": {
       "bar_style": "success",
       "layout": "IPY_MODEL_e5f37e51c1fe451d8396d9b1e733212f",
       "max": 45,
       "style": "IPY_MODEL_c04a05df7d7b405fad60fb5bf95e09db",
       "value": 45
      }
     },
     "0980b92826c14ff98ad2c8427ae67b7d": {
      "model_module": "@jupyter-widgets/controls",
      "model_module_version": "1.5.0",
      "model_name": "DescriptionStyleModel",
      "state": {
       "description_width": ""
      }
     },
     "09c0f5ce5b6a4127bacd487fd84521d3": {
      "model_module": "@jupyter-widgets/controls",
      "model_module_version": "1.5.0",
      "model_name": "ProgressStyleModel",
      "state": {
       "description_width": ""
      }
     },
     "0a10be2566b04186bad93dba036aacf4": {
      "model_module": "@jupyter-widgets/base",
      "model_module_version": "1.2.0",
      "model_name": "LayoutModel",
      "state": {
       "display": "inline-flex",
       "flex_flow": "row wrap",
       "width": "100%"
      }
     },
     "0b5aaf26b3424e64b1aef21b7a5fd25f": {
      "model_module": "@jupyter-widgets/controls",
      "model_module_version": "1.5.0",
      "model_name": "DescriptionStyleModel",
      "state": {
       "description_width": ""
      }
     },
     "0bdc74511ac041d596d560ccfd0ed4f4": {
      "model_module": "@jupyter-widgets/controls",
      "model_module_version": "1.5.0",
      "model_name": "ProgressStyleModel",
      "state": {
       "description_width": ""
      }
     },
     "0bdc85c32d604daf9cb3de8ea8da85ba": {
      "model_module": "@jupyter-widgets/base",
      "model_module_version": "1.2.0",
      "model_name": "LayoutModel",
      "state": {
       "flex": "2"
      }
     },
     "0d83aaca1aad4545b214fec5a76b002c": {
      "model_module": "@jupyter-widgets/base",
      "model_module_version": "1.2.0",
      "model_name": "LayoutModel",
      "state": {}
     },
     "0e28d9cd3f2440a6b4d26f9e1a3ab50b": {
      "model_module": "@jupyter-widgets/base",
      "model_module_version": "1.2.0",
      "model_name": "LayoutModel",
      "state": {}
     },
     "0f5624d4d9ba48299ce2ac4ce2eb4316": {
      "model_module": "@jupyter-widgets/controls",
      "model_module_version": "1.5.0",
      "model_name": "ProgressStyleModel",
      "state": {
       "description_width": ""
      }
     },
     "104ee5eb515240a0a0c30c171d3904a8": {
      "model_module": "@jupyter-widgets/controls",
      "model_module_version": "1.5.0",
      "model_name": "HTMLModel",
      "state": {
       "layout": "IPY_MODEL_ec952650fb8847b58f65a742f5ef5c0e",
       "style": "IPY_MODEL_9807b720bed347a6a24aeddb9fd0644f",
       "value": " 45.0/45 [00:00&lt;00:00, 938.76it/s]"
      }
     },
     "115566baeaeb412f8001a6b71c673212": {
      "model_module": "@jupyter-widgets/base",
      "model_module_version": "1.2.0",
      "model_name": "LayoutModel",
      "state": {
       "display": "inline-flex",
       "flex_flow": "row wrap",
       "width": "100%"
      }
     },
     "1195ca2b04bb418aa8fe835445703fb9": {
      "model_module": "@jupyter-widgets/base",
      "model_module_version": "1.2.0",
      "model_name": "LayoutModel",
      "state": {}
     },
     "119e2a171614404b8a20bca13b6c1cdb": {
      "model_module": "@jupyter-widgets/base",
      "model_module_version": "1.2.0",
      "model_name": "LayoutModel",
      "state": {
       "display": "inline-flex",
       "flex_flow": "row wrap",
       "width": "100%"
      }
     },
     "12501f46d2104119ac462caa9b328d9c": {
      "model_module": "@jupyter-widgets/controls",
      "model_module_version": "1.5.0",
      "model_name": "DescriptionStyleModel",
      "state": {
       "description_width": ""
      }
     },
     "12b82587d1304745be008077a50165f9": {
      "model_module": "@jupyter-widgets/controls",
      "model_module_version": "1.5.0",
      "model_name": "HTMLModel",
      "state": {
       "layout": "IPY_MODEL_b775a6a4a8244bae850e859cfbb79f8f",
       "style": "IPY_MODEL_8fead39fe2854d298d6338a9068b389a",
       "value": " 30.0/30 [00:00&lt;00:00, 43.55it/s]"
      }
     },
     "13b19d3fee4a4c88b8951f96c97453fd": {
      "model_module": "@jupyter-widgets/controls",
      "model_module_version": "1.5.0",
      "model_name": "HTMLModel",
      "state": {
       "layout": "IPY_MODEL_76dee5ef7c5840b6b923e6cc6c43ce50",
       "style": "IPY_MODEL_2342903c27af46a4839264528720e7a5",
       "value": " 37.0/37 [00:00&lt;00:00, 749.05it/s]"
      }
     },
     "1455b619a7814eac8917bf1e44b00029": {
      "model_module": "@jupyter-widgets/base",
      "model_module_version": "1.2.0",
      "model_name": "LayoutModel",
      "state": {
       "flex": "2"
      }
     },
     "150298b7304d4dc68269bdaf63c34b66": {
      "model_module": "@jupyter-widgets/base",
      "model_module_version": "1.2.0",
      "model_name": "LayoutModel",
      "state": {}
     },
     "15f917964c5d44a982a1b5d18405f696": {
      "model_module": "@jupyter-widgets/controls",
      "model_module_version": "1.5.0",
      "model_name": "HTMLModel",
      "state": {
       "layout": "IPY_MODEL_19f4c935a79f472fa18009ae2d35daf6",
       "style": "IPY_MODEL_b134b56d53814f3f82f067dbaa08739c",
       "value": "  0%"
      }
     },
     "16cc4caffd0040128c639d08a5df8fc3": {
      "model_module": "@jupyter-widgets/base",
      "model_module_version": "1.2.0",
      "model_name": "LayoutModel",
      "state": {
       "flex": "2"
      }
     },
     "1760a131d9a64abba5f99eba1e40adb3": {
      "model_module": "@jupyter-widgets/base",
      "model_module_version": "1.2.0",
      "model_name": "LayoutModel",
      "state": {
       "display": "inline-flex",
       "flex_flow": "row wrap",
       "width": "100%"
      }
     },
     "17866796f06b43e8b083378767101bab": {
      "model_module": "@jupyter-widgets/base",
      "model_module_version": "1.2.0",
      "model_name": "LayoutModel",
      "state": {}
     },
     "17ab586f9253465690802ee3d2724b60": {
      "model_module": "@jupyter-widgets/base",
      "model_module_version": "1.2.0",
      "model_name": "LayoutModel",
      "state": {}
     },
     "17bc8fbd0b984d9f8965c260ff1c74ee": {
      "model_module": "@jupyter-widgets/base",
      "model_module_version": "1.2.0",
      "model_name": "LayoutModel",
      "state": {}
     },
     "17e5a0538b0a418b9a4fed15bbe5d734": {
      "model_module": "@jupyter-widgets/base",
      "model_module_version": "1.2.0",
      "model_name": "LayoutModel",
      "state": {}
     },
     "1859f8f119db4214afeeeaca78fd9253": {
      "model_module": "@jupyter-widgets/controls",
      "model_module_version": "1.5.0",
      "model_name": "HBoxModel",
      "state": {
       "children": [
        "IPY_MODEL_fcaad061ea434c1e8a4cac2ac4085427",
        "IPY_MODEL_f8c45515cec447b18b8f476db9b79f4f",
        "IPY_MODEL_c69edf868ed647c88d26f72e7aa1e90b"
       ],
       "layout": "IPY_MODEL_057bbeedcbca49cabcacc81e56ae21f5"
      }
     },
     "1882c2b8334a4f779b3b7b7006b2041b": {
      "model_module": "@jupyter-widgets/base",
      "model_module_version": "1.2.0",
      "model_name": "LayoutModel",
      "state": {}
     },
     "18afdeac3bf54d5f9a163b10c3812705": {
      "model_module": "@jupyter-widgets/base",
      "model_module_version": "1.2.0",
      "model_name": "LayoutModel",
      "state": {
       "display": "inline-flex",
       "flex_flow": "row wrap",
       "width": "100%"
      }
     },
     "19a4e394569f448695923d17e3efe0f1": {
      "model_module": "@jupyter-widgets/base",
      "model_module_version": "1.2.0",
      "model_name": "LayoutModel",
      "state": {}
     },
     "19f4c935a79f472fa18009ae2d35daf6": {
      "model_module": "@jupyter-widgets/base",
      "model_module_version": "1.2.0",
      "model_name": "LayoutModel",
      "state": {}
     },
     "1ab2691981fd4423b72a0c4da4b23ac3": {
      "model_module": "@jupyter-widgets/base",
      "model_module_version": "1.2.0",
      "model_name": "LayoutModel",
      "state": {
       "flex": "2"
      }
     },
     "1ac6598032bb433b8ff53c570c0ccfe8": {
      "model_module": "@jupyter-widgets/base",
      "model_module_version": "1.2.0",
      "model_name": "LayoutModel",
      "state": {
       "flex": "2"
      }
     },
     "1b8bbe065d954650844c0e05a42351fe": {
      "model_module": "@jupyter-widgets/controls",
      "model_module_version": "1.5.0",
      "model_name": "ProgressStyleModel",
      "state": {
       "description_width": ""
      }
     },
     "1bac495f0b9a45659966969cd951af71": {
      "model_module": "@jupyter-widgets/controls",
      "model_module_version": "1.5.0",
      "model_name": "ProgressStyleModel",
      "state": {
       "description_width": ""
      }
     },
     "1bd4095bd33c4be19f4f23c98e98b77d": {
      "model_module": "@jupyter-widgets/controls",
      "model_module_version": "1.5.0",
      "model_name": "DescriptionStyleModel",
      "state": {
       "description_width": ""
      }
     },
     "1bed0ac1ceea4780ad434442c652e591": {
      "model_module": "@jupyter-widgets/controls",
      "model_module_version": "1.5.0",
      "model_name": "ProgressStyleModel",
      "state": {
       "description_width": ""
      }
     },
     "1c2b76fddd1f4069b9bbc7084f437d48": {
      "model_module": "@jupyter-widgets/controls",
      "model_module_version": "1.5.0",
      "model_name": "HBoxModel",
      "state": {
       "children": [
        "IPY_MODEL_c205f1e7bb404ec695cf9faa5aa44290",
        "IPY_MODEL_fff78a31bca84c278acea36265d5f492",
        "IPY_MODEL_d1705a7979834d5d9fa75cd65f24b224"
       ],
       "layout": "IPY_MODEL_73cfb470c93f40a28cdec599505fee8e"
      }
     },
     "1c6fe3ca67bc43239fd0fb2667d1988c": {
      "model_module": "@jupyter-widgets/controls",
      "model_module_version": "1.5.0",
      "model_name": "DescriptionStyleModel",
      "state": {
       "description_width": ""
      }
     },
     "210d424291d34d2f9619841025699b72": {
      "model_module": "@jupyter-widgets/base",
      "model_module_version": "1.2.0",
      "model_name": "LayoutModel",
      "state": {}
     },
     "21c7f008477d441d85c03f92bb0131ab": {
      "model_module": "@jupyter-widgets/base",
      "model_module_version": "1.2.0",
      "model_name": "LayoutModel",
      "state": {
       "flex": "2"
      }
     },
     "21d847321c0746289adfd030decbb94b": {
      "model_module": "@jupyter-widgets/controls",
      "model_module_version": "1.5.0",
      "model_name": "DescriptionStyleModel",
      "state": {
       "description_width": ""
      }
     },
     "2290fca0de08473dbdfabb95e7340dee": {
      "model_module": "@jupyter-widgets/controls",
      "model_module_version": "1.5.0",
      "model_name": "ProgressStyleModel",
      "state": {
       "description_width": ""
      }
     },
     "22b7325a38054b748c6fb942785d08d1": {
      "model_module": "@jupyter-widgets/controls",
      "model_module_version": "1.5.0",
      "model_name": "DescriptionStyleModel",
      "state": {
       "description_width": ""
      }
     },
     "2342903c27af46a4839264528720e7a5": {
      "model_module": "@jupyter-widgets/controls",
      "model_module_version": "1.5.0",
      "model_name": "DescriptionStyleModel",
      "state": {
       "description_width": ""
      }
     },
     "234ecd74250e45c4948d002ac86d9601": {
      "model_module": "@jupyter-widgets/base",
      "model_module_version": "1.2.0",
      "model_name": "LayoutModel",
      "state": {}
     },
     "24f403f80cbb4f489333964dedcdb3f0": {
      "model_module": "@jupyter-widgets/base",
      "model_module_version": "1.2.0",
      "model_name": "LayoutModel",
      "state": {}
     },
     "256c706578ba4cb5916e777cdfbc79a9": {
      "model_module": "@jupyter-widgets/controls",
      "model_module_version": "1.5.0",
      "model_name": "HBoxModel",
      "state": {
       "children": [
        "IPY_MODEL_f3ec75c12ace40a4bcd2a7e3406d99c1",
        "IPY_MODEL_a044af04e32a4fb9809630f8684e7626",
        "IPY_MODEL_78603b96f6644b8083bda621c26a91ed"
       ],
       "layout": "IPY_MODEL_e1fa2376b47f4ada8057e105bbeaf64e"
      }
     },
     "258ff3818ba94e65811e4320cf80ef3e": {
      "model_module": "@jupyter-widgets/base",
      "model_module_version": "1.2.0",
      "model_name": "LayoutModel",
      "state": {}
     },
     "25b3031c759344ce92a8040b6c569aee": {
      "model_module": "@jupyter-widgets/base",
      "model_module_version": "1.2.0",
      "model_name": "LayoutModel",
      "state": {}
     },
     "25c14afee8f34648a8769180141e0357": {
      "model_module": "@jupyter-widgets/base",
      "model_module_version": "1.2.0",
      "model_name": "LayoutModel",
      "state": {
       "flex": "2"
      }
     },
     "2650c99911ea4bc59b0c3a97b0af6d43": {
      "model_module": "@jupyter-widgets/controls",
      "model_module_version": "1.5.0",
      "model_name": "DescriptionStyleModel",
      "state": {
       "description_width": ""
      }
     },
     "27e1cde895034938b121aeebba3c2be5": {
      "model_module": "@jupyter-widgets/controls",
      "model_module_version": "1.5.0",
      "model_name": "HTMLModel",
      "state": {
       "layout": "IPY_MODEL_e9947deedbc24482970c255eea17eb20",
       "style": "IPY_MODEL_1bd4095bd33c4be19f4f23c98e98b77d",
       "value": " 30.0/30 [00:00&lt;00:00, 43.90it/s]"
      }
     },
     "2a96d16b75f74dabb0c44c9d5aa01892": {
      "model_module": "@jupyter-widgets/controls",
      "model_module_version": "1.5.0",
      "model_name": "DescriptionStyleModel",
      "state": {
       "description_width": ""
      }
     },
     "2ac55fe449b148ebae9693b4e483b963": {
      "model_module": "@jupyter-widgets/controls",
      "model_module_version": "1.5.0",
      "model_name": "HTMLModel",
      "state": {
       "layout": "IPY_MODEL_a397720f64d64123b31eb371e8cdb52f",
       "style": "IPY_MODEL_e2885e4f636547998556818ef52350a1",
       "value": "100%"
      }
     },
     "2bab7030dcf24a2bb08fc0bc0993d34c": {
      "model_module": "@jupyter-widgets/controls",
      "model_module_version": "1.5.0",
      "model_name": "DescriptionStyleModel",
      "state": {
       "description_width": ""
      }
     },
     "2bec31dd27304ca584d3977a62ae60f3": {
      "model_module": "@jupyter-widgets/controls",
      "model_module_version": "1.5.0",
      "model_name": "DescriptionStyleModel",
      "state": {
       "description_width": ""
      }
     },
     "2cdc074079ed4f458ab9e68161656665": {
      "model_module": "@jupyter-widgets/base",
      "model_module_version": "1.2.0",
      "model_name": "LayoutModel",
      "state": {
       "display": "inline-flex",
       "flex_flow": "row wrap",
       "width": "100%"
      }
     },
     "2e0f77080e7941d7a1fba769a5d99f1e": {
      "model_module": "@jupyter-widgets/controls",
      "model_module_version": "1.5.0",
      "model_name": "HTMLModel",
      "state": {
       "layout": "IPY_MODEL_ca433c9c70884e0d818fa10bf9f4d573",
       "style": "IPY_MODEL_6c8a19b27d8e44aa90860ae82d5d51cb",
       "value": " 45.0/45 [00:00&lt;00:00, 1081.19it/s]"
      }
     },
     "2e27a0c56f854f0fad996d77ea16c7c0": {
      "model_module": "@jupyter-widgets/base",
      "model_module_version": "1.2.0",
      "model_name": "LayoutModel",
      "state": {
       "flex": "2"
      }
     },
     "2eaefa57d1134269b7b8ec7f3243b699": {
      "model_module": "@jupyter-widgets/base",
      "model_module_version": "1.2.0",
      "model_name": "LayoutModel",
      "state": {
       "flex": "2"
      }
     },
     "2eea1e9c26eb4737ba2ed8ce0d8d369a": {
      "model_module": "@jupyter-widgets/base",
      "model_module_version": "1.2.0",
      "model_name": "LayoutModel",
      "state": {}
     },
     "2fc55cec68474ea5af59f3cafeee8d52": {
      "model_module": "@jupyter-widgets/controls",
      "model_module_version": "1.5.0",
      "model_name": "HTMLModel",
      "state": {
       "layout": "IPY_MODEL_906711dce0644889b21ab8842b4dbb47",
       "style": "IPY_MODEL_3fbbba79778b42da841f8cf4c571142b",
       "value": "100%"
      }
     },
     "2fc5bc59a5fb4de2b3a9666eba2d8c30": {
      "model_module": "@jupyter-widgets/controls",
      "model_module_version": "1.5.0",
      "model_name": "HTMLModel",
      "state": {
       "layout": "IPY_MODEL_74665848ae2d49448fdf6e4fb67084e8",
       "style": "IPY_MODEL_ec744a0eee144ce2ae2b93b95746af32",
       "value": "100%"
      }
     },
     "30c1cbd2baef4eb4b553b58bcecb47c8": {
      "model_module": "@jupyter-widgets/base",
      "model_module_version": "1.2.0",
      "model_name": "LayoutModel",
      "state": {}
     },
     "30c466f4c7cb44faa1dd52ed5e69e302": {
      "model_module": "@jupyter-widgets/controls",
      "model_module_version": "1.5.0",
      "model_name": "DescriptionStyleModel",
      "state": {
       "description_width": ""
      }
     },
     "323f6de3e50446208bbeb28a4065381d": {
      "model_module": "@jupyter-widgets/base",
      "model_module_version": "1.2.0",
      "model_name": "LayoutModel",
      "state": {}
     },
     "3323b9b670cc447d8c9cf20e9111c6bd": {
      "model_module": "@jupyter-widgets/controls",
      "model_module_version": "1.5.0",
      "model_name": "HTMLModel",
      "state": {
       "layout": "IPY_MODEL_027bd8d533d14239aeefd8c4c213e9be",
       "style": "IPY_MODEL_d52b0a4cc88044229dfa052ceb7c86e0",
       "value": "100%"
      }
     },
     "33f39ce16f6d435cadb9a87aa2ee2d3d": {
      "model_module": "@jupyter-widgets/controls",
      "model_module_version": "1.5.0",
      "model_name": "HBoxModel",
      "state": {
       "children": [
        "IPY_MODEL_9b923e7214344b68a66810bcd1fdcdc4",
        "IPY_MODEL_63a0a351c1894a27855fb3f377b1ce2b",
        "IPY_MODEL_6c2b0496ae1e4ff38f0360adda224a01"
       ],
       "layout": "IPY_MODEL_1760a131d9a64abba5f99eba1e40adb3"
      }
     },
     "33f4aa44f6824a429e43a0d89a7a58cd": {
      "model_module": "@jupyter-widgets/controls",
      "model_module_version": "1.5.0",
      "model_name": "FloatProgressModel",
      "state": {
       "bar_style": "danger",
       "layout": "IPY_MODEL_43573df7e238448385421a8400850cea",
       "max": 45,
       "style": "IPY_MODEL_2290fca0de08473dbdfabb95e7340dee"
      }
     },
     "3476c5fb69d94654a85803e1472be937": {
      "model_module": "@jupyter-widgets/controls",
      "model_module_version": "1.5.0",
      "model_name": "ProgressStyleModel",
      "state": {
       "description_width": ""
      }
     },
     "35d36f4f49264f489e99394c460d0129": {
      "model_module": "@jupyter-widgets/controls",
      "model_module_version": "1.5.0",
      "model_name": "HBoxModel",
      "state": {
       "children": [
        "IPY_MODEL_794495f488334ebf9ad50742ff94ee71",
        "IPY_MODEL_7edbc6e3b18949ef819c31c07c6dab10",
        "IPY_MODEL_12b82587d1304745be008077a50165f9"
       ],
       "layout": "IPY_MODEL_846db5ee539d446291eae40e7a271fad"
      }
     },
     "35e038cf16a84118a7afd66c58938321": {
      "model_module": "@jupyter-widgets/controls",
      "model_module_version": "1.5.0",
      "model_name": "FloatProgressModel",
      "state": {
       "bar_style": "success",
       "layout": "IPY_MODEL_1455b619a7814eac8917bf1e44b00029",
       "max": 34,
       "style": "IPY_MODEL_8ed0696f15c044f181ebe8eb27fcb962",
       "value": 34
      }
     },
     "364ba3126e6040b7b3b65e16790057c5": {
      "model_module": "@jupyter-widgets/controls",
      "model_module_version": "1.5.0",
      "model_name": "HTMLModel",
      "state": {
       "layout": "IPY_MODEL_ef9ffd9009284ce3b30264cea008885f",
       "style": "IPY_MODEL_caa4db23127f4873bdbe1979b9933be1",
       "value": "100%"
      }
     },
     "37d12f714a5c4296a22b0b7f698bb234": {
      "model_module": "@jupyter-widgets/controls",
      "model_module_version": "1.5.0",
      "model_name": "HTMLModel",
      "state": {
       "layout": "IPY_MODEL_bb06ac8405394bcb9623b3b1d0fd1187",
       "style": "IPY_MODEL_bee848e388d14ae5955a39b552e01c3a",
       "value": " 30.0/30 [00:00&lt;00:00, 46.09it/s]"
      }
     },
     "388958fa3f524747af294237a9cf5cfc": {
      "model_module": "@jupyter-widgets/base",
      "model_module_version": "1.2.0",
      "model_name": "LayoutModel",
      "state": {
       "display": "inline-flex",
       "flex_flow": "row wrap",
       "width": "100%"
      }
     },
     "391006f3bb1346e2965495c9743c774d": {
      "model_module": "@jupyter-widgets/controls",
      "model_module_version": "1.5.0",
      "model_name": "HBoxModel",
      "state": {
       "children": [
        "IPY_MODEL_e92acb9282064a35b309a64254de7a8d",
        "IPY_MODEL_f3375972c92b43438b64f0006a2e9e0b",
        "IPY_MODEL_a06c9721e95143feb1496958ae9b9870"
       ],
       "layout": "IPY_MODEL_388958fa3f524747af294237a9cf5cfc"
      }
     },
     "3addb3af78c24a4fb46098ecb5719611": {
      "model_module": "@jupyter-widgets/base",
      "model_module_version": "1.2.0",
      "model_name": "LayoutModel",
      "state": {}
     },
     "3cbb360224b6475e8dfe5756057e426c": {
      "model_module": "@jupyter-widgets/controls",
      "model_module_version": "1.5.0",
      "model_name": "HBoxModel",
      "state": {
       "children": [
        "IPY_MODEL_15f917964c5d44a982a1b5d18405f696",
        "IPY_MODEL_33f4aa44f6824a429e43a0d89a7a58cd",
        "IPY_MODEL_3fc6d0897dda4943876d5875d85f8a26"
       ],
       "layout": "IPY_MODEL_01b5dba784b646b7876ce334af7bb739"
      }
     },
     "3d04b1660b6b45d59aacbe421f7e1ad6": {
      "model_module": "@jupyter-widgets/base",
      "model_module_version": "1.2.0",
      "model_name": "LayoutModel",
      "state": {}
     },
     "3d6ec26eb06e4fd6b4a9b70c176988e8": {
      "model_module": "@jupyter-widgets/controls",
      "model_module_version": "1.5.0",
      "model_name": "HBoxModel",
      "state": {
       "children": [
        "IPY_MODEL_b8f0309e605b44febc7435dc6e3fda41",
        "IPY_MODEL_5168a65e4389477d883cd570b357a615",
        "IPY_MODEL_37d12f714a5c4296a22b0b7f698bb234"
       ],
       "layout": "IPY_MODEL_4370165cb5344dddb9c5cb11c7eab220"
      }
     },
     "3e4b9ab5ddc4430a837a964fcc070c60": {
      "model_module": "@jupyter-widgets/base",
      "model_module_version": "1.2.0",
      "model_name": "LayoutModel",
      "state": {
       "display": "inline-flex",
       "flex_flow": "row wrap",
       "width": "100%"
      }
     },
     "3f6c90d2efb9490da11ab0411c06ec4e": {
      "model_module": "@jupyter-widgets/controls",
      "model_module_version": "1.5.0",
      "model_name": "DescriptionStyleModel",
      "state": {
       "description_width": ""
      }
     },
     "3fbbba79778b42da841f8cf4c571142b": {
      "model_module": "@jupyter-widgets/controls",
      "model_module_version": "1.5.0",
      "model_name": "DescriptionStyleModel",
      "state": {
       "description_width": ""
      }
     },
     "3fc6d0897dda4943876d5875d85f8a26": {
      "model_module": "@jupyter-widgets/controls",
      "model_module_version": "1.5.0",
      "model_name": "HTMLModel",
      "state": {
       "layout": "IPY_MODEL_17bc8fbd0b984d9f8965c260ff1c74ee",
       "style": "IPY_MODEL_0b5aaf26b3424e64b1aef21b7a5fd25f",
       "value": " 0.0/45 [00:02&lt;?, ?it/s]"
      }
     },
     "3fcb519d283142fb932285f1ff4535c9": {
      "model_module": "@jupyter-widgets/controls",
      "model_module_version": "1.5.0",
      "model_name": "HTMLModel",
      "state": {
       "layout": "IPY_MODEL_a0fad576ce724c04b65c591e75c04cda",
       "style": "IPY_MODEL_4c28068a77cf45cdb5a5a81fd71c6e80",
       "value": "100%"
      }
     },
     "41a4c73b1623409eb24f4392aabf6d8d": {
      "model_module": "@jupyter-widgets/controls",
      "model_module_version": "1.5.0",
      "model_name": "FloatProgressModel",
      "state": {
       "bar_style": "success",
       "layout": "IPY_MODEL_bb953836437f4466a2a521d738692df5",
       "max": 34,
       "style": "IPY_MODEL_09c0f5ce5b6a4127bacd487fd84521d3",
       "value": 34
      }
     },
     "43573df7e238448385421a8400850cea": {
      "model_module": "@jupyter-widgets/base",
      "model_module_version": "1.2.0",
      "model_name": "LayoutModel",
      "state": {
       "flex": "2"
      }
     },
     "4370165cb5344dddb9c5cb11c7eab220": {
      "model_module": "@jupyter-widgets/base",
      "model_module_version": "1.2.0",
      "model_name": "LayoutModel",
      "state": {
       "display": "inline-flex",
       "flex_flow": "row wrap",
       "width": "100%"
      }
     },
     "439250df35ab49908e4e99d042a4bb14": {
      "model_module": "@jupyter-widgets/controls",
      "model_module_version": "1.5.0",
      "model_name": "HTMLModel",
      "state": {
       "layout": "IPY_MODEL_a283c55535bd484ca9edcb9c1e50bf70",
       "style": "IPY_MODEL_1c6fe3ca67bc43239fd0fb2667d1988c",
       "value": "100%"
      }
     },
     "45eda221ed4d4240a63efa42d6e84689": {
      "model_module": "@jupyter-widgets/controls",
      "model_module_version": "1.5.0",
      "model_name": "DescriptionStyleModel",
      "state": {
       "description_width": ""
      }
     },
     "45ef214f39bf491cacae490f86469fbe": {
      "model_module": "@jupyter-widgets/base",
      "model_module_version": "1.2.0",
      "model_name": "LayoutModel",
      "state": {
       "flex": "2"
      }
     },
     "46925b96ea8648bf9ecd8458cb8e9218": {
      "model_module": "@jupyter-widgets/controls",
      "model_module_version": "1.5.0",
      "model_name": "ProgressStyleModel",
      "state": {
       "description_width": ""
      }
     },
     "4712907adda9437cb5161ddaada5457f": {
      "model_module": "@jupyter-widgets/base",
      "model_module_version": "1.2.0",
      "model_name": "LayoutModel",
      "state": {
       "flex": "2"
      }
     },
     "47499097cb5c480285a0338f4d825442": {
      "model_module": "@jupyter-widgets/controls",
      "model_module_version": "1.5.0",
      "model_name": "ProgressStyleModel",
      "state": {
       "description_width": ""
      }
     },
     "47e56e3332b24e2a9e14a31a8d3b097d": {
      "model_module": "@jupyter-widgets/controls",
      "model_module_version": "1.5.0",
      "model_name": "HBoxModel",
      "state": {
       "children": [
        "IPY_MODEL_d1c059fc583b493eb107374ff9bbb99c",
        "IPY_MODEL_af127d30f46e40a6a4a132f92d8a1193",
        "IPY_MODEL_8a3b35e210c44c6681ea3dbc65ef0cd4"
       ],
       "layout": "IPY_MODEL_115566baeaeb412f8001a6b71c673212"
      }
     },
     "4825456730d0468f8c99b07b455d3573": {
      "model_module": "@jupyter-widgets/controls",
      "model_module_version": "1.5.0",
      "model_name": "ProgressStyleModel",
      "state": {
       "description_width": ""
      }
     },
     "493933c0f287439aa472d4c61cb80da1": {
      "model_module": "@jupyter-widgets/controls",
      "model_module_version": "1.5.0",
      "model_name": "HTMLModel",
      "state": {
       "layout": "IPY_MODEL_24f403f80cbb4f489333964dedcdb3f0",
       "style": "IPY_MODEL_4d87c1a09b88468389726d8f5ed05f7d",
       "value": " 34.0/34 [00:00&lt;00:00, 50.17it/s]"
      }
     },
     "49a5764e2eee45fbaf92c0be7debe7e4": {
      "model_module": "@jupyter-widgets/base",
      "model_module_version": "1.2.0",
      "model_name": "LayoutModel",
      "state": {
       "flex": "2"
      }
     },
     "4a7ee0c4642849e7a43ea2ab3e12a3dd": {
      "model_module": "@jupyter-widgets/controls",
      "model_module_version": "1.5.0",
      "model_name": "HTMLModel",
      "state": {
       "layout": "IPY_MODEL_9385ad91edd44d1db113f675857b9440",
       "style": "IPY_MODEL_0685373a812c4006be30f138d0466895",
       "value": "100%"
      }
     },
     "4c28068a77cf45cdb5a5a81fd71c6e80": {
      "model_module": "@jupyter-widgets/controls",
      "model_module_version": "1.5.0",
      "model_name": "DescriptionStyleModel",
      "state": {
       "description_width": ""
      }
     },
     "4d87c1a09b88468389726d8f5ed05f7d": {
      "model_module": "@jupyter-widgets/controls",
      "model_module_version": "1.5.0",
      "model_name": "DescriptionStyleModel",
      "state": {
       "description_width": ""
      }
     },
     "4dcdcacdf40d493cb7460701002fa0e1": {
      "model_module": "@jupyter-widgets/base",
      "model_module_version": "1.2.0",
      "model_name": "LayoutModel",
      "state": {}
     },
     "4e7d7c0117ab4d2eb62de3003c0b0736": {
      "model_module": "@jupyter-widgets/controls",
      "model_module_version": "1.5.0",
      "model_name": "HBoxModel",
      "state": {
       "children": [
        "IPY_MODEL_b5c73a76d3174c65ad2336dfc0f064d1",
        "IPY_MODEL_710a8a2afed445e297dce916bcd359d2",
        "IPY_MODEL_104ee5eb515240a0a0c30c171d3904a8"
       ],
       "layout": "IPY_MODEL_3e4b9ab5ddc4430a837a964fcc070c60"
      }
     },
     "4e9ee9f1ca7a4b0ea9c18518f96ff0a1": {
      "model_module": "@jupyter-widgets/controls",
      "model_module_version": "1.5.0",
      "model_name": "FloatProgressModel",
      "state": {
       "bar_style": "success",
       "layout": "IPY_MODEL_1ac6598032bb433b8ff53c570c0ccfe8",
       "max": 31,
       "style": "IPY_MODEL_cbe41614103b474e92597cb798494736",
       "value": 31
      }
     },
     "4f260bfb61914e99968eee66490b8b16": {
      "model_module": "@jupyter-widgets/controls",
      "model_module_version": "1.5.0",
      "model_name": "HBoxModel",
      "state": {
       "children": [
        "IPY_MODEL_90e24a8ef8d64c7f95ba8d39f71ecdde",
        "IPY_MODEL_afc146da1a6647e0a1fbb94893cd4830",
        "IPY_MODEL_27e1cde895034938b121aeebba3c2be5"
       ],
       "layout": "IPY_MODEL_e56b37967100496bb29c4dd8c08b312b"
      }
     },
     "4fa47766babf49bd892d0cb9be22a7f2": {
      "model_module": "@jupyter-widgets/controls",
      "model_module_version": "1.5.0",
      "model_name": "HTMLModel",
      "state": {
       "layout": "IPY_MODEL_19a4e394569f448695923d17e3efe0f1",
       "style": "IPY_MODEL_5c52d209f58d4f3cb794455da9441f5b",
       "value": " 45.0/45 [00:26&lt;00:00,  1.69it/s]"
      }
     },
     "502e2996921343599b3d8ef06521f47f": {
      "model_module": "@jupyter-widgets/base",
      "model_module_version": "1.2.0",
      "model_name": "LayoutModel",
      "state": {}
     },
     "5168a65e4389477d883cd570b357a615": {
      "model_module": "@jupyter-widgets/controls",
      "model_module_version": "1.5.0",
      "model_name": "FloatProgressModel",
      "state": {
       "bar_style": "success",
       "layout": "IPY_MODEL_4712907adda9437cb5161ddaada5457f",
       "max": 30,
       "style": "IPY_MODEL_47499097cb5c480285a0338f4d825442",
       "value": 30
      }
     },
     "5222bd6a5c2c472396b1ecec260fd4fd": {
      "model_module": "@jupyter-widgets/controls",
      "model_module_version": "1.5.0",
      "model_name": "HTMLModel",
      "state": {
       "layout": "IPY_MODEL_e3f27a8c8a9a4c15a15965edbf7dde0d",
       "style": "IPY_MODEL_b2ee218409eb496aab1a1e4f6f22534f",
       "value": " 31.0/31 [00:00&lt;00:00, 44.42it/s]"
      }
     },
     "545323c678bc46f7978ee9a33b325c2f": {
      "model_module": "@jupyter-widgets/controls",
      "model_module_version": "1.5.0",
      "model_name": "HBoxModel",
      "state": {
       "children": [
        "IPY_MODEL_7be41f2264c4460a953206a81f816b3b",
        "IPY_MODEL_e51632d8efce4d389a26db78bdc2c0e2",
        "IPY_MODEL_e9e48353f5544f22a3671aee431102ad"
       ],
       "layout": "IPY_MODEL_d10aaf9106474863966e58e2e0a92837"
      }
     },
     "59948a847d9a436280d19d7c54f1fa52": {
      "model_module": "@jupyter-widgets/controls",
      "model_module_version": "1.5.0",
      "model_name": "FloatProgressModel",
      "state": {
       "bar_style": "success",
       "layout": "IPY_MODEL_d97dbb5bd83641f0a3d968f40d3cb87a",
       "max": 34,
       "style": "IPY_MODEL_46925b96ea8648bf9ecd8458cb8e9218",
       "value": 34
      }
     },
     "59c17490d83c4467a0a80ab934fac5fc": {
      "model_module": "@jupyter-widgets/controls",
      "model_module_version": "1.5.0",
      "model_name": "HBoxModel",
      "state": {
       "children": [
        "IPY_MODEL_6cc3e51efefa4c2b8ee25c3352d6749d",
        "IPY_MODEL_04915bfb62854f93a8d14b89deffa691",
        "IPY_MODEL_e9662aedca6c4b8aa7353cd19aa21313"
       ],
       "layout": "IPY_MODEL_71629758289845ad8ca39b36a08add7e"
      }
     },
     "5bf0d18b23e44cf4aea19371a5abe0a6": {
      "model_module": "@jupyter-widgets/controls",
      "model_module_version": "1.5.0",
      "model_name": "HTMLModel",
      "state": {
       "layout": "IPY_MODEL_17e5a0538b0a418b9a4fed15bbe5d734",
       "style": "IPY_MODEL_3f6c90d2efb9490da11ab0411c06ec4e",
       "value": " 45.0/45 [00:00&lt;00:00, 883.15it/s]"
      }
     },
     "5c4fd27287374acd88102740f458d3cc": {
      "model_module": "@jupyter-widgets/controls",
      "model_module_version": "1.5.0",
      "model_name": "FloatProgressModel",
      "state": {
       "bar_style": "success",
       "layout": "IPY_MODEL_d8ce8d5579d04f32b5a809a345765229",
       "max": 34,
       "style": "IPY_MODEL_1bac495f0b9a45659966969cd951af71",
       "value": 34
      }
     },
     "5c52d209f58d4f3cb794455da9441f5b": {
      "model_module": "@jupyter-widgets/controls",
      "model_module_version": "1.5.0",
      "model_name": "DescriptionStyleModel",
      "state": {
       "description_width": ""
      }
     },
     "5c55a0d1eb3f4de4bb68a7724d260707": {
      "model_module": "@jupyter-widgets/controls",
      "model_module_version": "1.5.0",
      "model_name": "DescriptionStyleModel",
      "state": {
       "description_width": ""
      }
     },
     "5d0308f7d27d4cc0a5522b6128e4e85b": {
      "model_module": "@jupyter-widgets/base",
      "model_module_version": "1.2.0",
      "model_name": "LayoutModel",
      "state": {
       "display": "inline-flex",
       "flex_flow": "row wrap",
       "width": "100%"
      }
     },
     "5e63d06a614a4100b43c26c7883dbd79": {
      "model_module": "@jupyter-widgets/base",
      "model_module_version": "1.2.0",
      "model_name": "LayoutModel",
      "state": {
       "flex": "2"
      }
     },
     "5f1f0bde7a9544cda75a5104205a5a82": {
      "model_module": "@jupyter-widgets/controls",
      "model_module_version": "1.5.0",
      "model_name": "ProgressStyleModel",
      "state": {
       "description_width": ""
      }
     },
     "5f96820a4a93440ca48b41a1c021d357": {
      "model_module": "@jupyter-widgets/controls",
      "model_module_version": "1.5.0",
      "model_name": "ProgressStyleModel",
      "state": {
       "description_width": ""
      }
     },
     "6047b0b70a454666a7327a33b9d3e9ea": {
      "model_module": "@jupyter-widgets/controls",
      "model_module_version": "1.5.0",
      "model_name": "HBoxModel",
      "state": {
       "children": [
        "IPY_MODEL_3fcb519d283142fb932285f1ff4535c9",
        "IPY_MODEL_59948a847d9a436280d19d7c54f1fa52",
        "IPY_MODEL_cd8bf35858df4df1aafbe5bf80545e82"
       ],
       "layout": "IPY_MODEL_c8a8d9bf4ee24b6eb7cc5268a7c6f82f"
      }
     },
     "604dc9cf05c34701ad0d3960b474c12d": {
      "model_module": "@jupyter-widgets/controls",
      "model_module_version": "1.5.0",
      "model_name": "HBoxModel",
      "state": {
       "children": [
        "IPY_MODEL_8b221f7805df45e1b3369b4b59cfe270",
        "IPY_MODEL_a08caa06c7b34a25b61a106d37c98e8d",
        "IPY_MODEL_2e0f77080e7941d7a1fba769a5d99f1e"
       ],
       "layout": "IPY_MODEL_c4be5d10860f433d8d926b960e995295"
      }
     },
     "60a296a17ec44b2e906b59c1571ac49c": {
      "model_module": "@jupyter-widgets/controls",
      "model_module_version": "1.5.0",
      "model_name": "HBoxModel",
      "state": {
       "children": [
        "IPY_MODEL_78254efabda746f9b3f9551389d0432b",
        "IPY_MODEL_7f9ed9ee6e0f451d81e8b89cab677901",
        "IPY_MODEL_493933c0f287439aa472d4c61cb80da1"
       ],
       "layout": "IPY_MODEL_2cdc074079ed4f458ab9e68161656665"
      }
     },
     "6331570247934e8a9f8fc9567d2cac6c": {
      "model_module": "@jupyter-widgets/controls",
      "model_module_version": "1.5.0",
      "model_name": "HBoxModel",
      "state": {
       "children": [
        "IPY_MODEL_439250df35ab49908e4e99d042a4bb14",
        "IPY_MODEL_83a865ce34dd41369d2a4484dcfe5b8d",
        "IPY_MODEL_ae40c145810d48379bb9c9a51d2ec474"
       ],
       "layout": "IPY_MODEL_bf93319225f64507bf4fa02a76f1c74f"
      }
     },
     "63a0a351c1894a27855fb3f377b1ce2b": {
      "model_module": "@jupyter-widgets/controls",
      "model_module_version": "1.5.0",
      "model_name": "FloatProgressModel",
      "state": {
       "bar_style": "success",
       "layout": "IPY_MODEL_0bdc85c32d604daf9cb3de8ea8da85ba",
       "max": 45,
       "style": "IPY_MODEL_4825456730d0468f8c99b07b455d3573",
       "value": 45
      }
     },
     "63a2acc996ae408c8dcdfc678fa40973": {
      "model_module": "@jupyter-widgets/controls",
      "model_module_version": "1.5.0",
      "model_name": "HBoxModel",
      "state": {
       "children": [
        "IPY_MODEL_c6e5d14d922e456d84f26c6a2655aa40",
        "IPY_MODEL_b5f78c9e8734491ebdfc5415293e7e2f",
        "IPY_MODEL_66f5cba8f31e4c23b5fc049c2a4cdfa1"
       ],
       "layout": "IPY_MODEL_f42abb57e68e45d8bc5edfecc3ce11a6"
      }
     },
     "648f2e3dd0954205b592cc76c5f8af4a": {
      "model_module": "@jupyter-widgets/controls",
      "model_module_version": "1.5.0",
      "model_name": "HBoxModel",
      "state": {
       "children": [
        "IPY_MODEL_c5b04ef2a5b04e3a9f20b8d3f7ea5afd",
        "IPY_MODEL_a0e2a56d328e41c2abb88dac199158ee",
        "IPY_MODEL_8cc24099e21c42468fe454324bd39f42"
       ],
       "layout": "IPY_MODEL_d9d918516e4f4e45830980ac56a587b1"
      }
     },
     "64a40c94dfe849389374c800d3d1c09d": {
      "model_module": "@jupyter-widgets/controls",
      "model_module_version": "1.5.0",
      "model_name": "FloatProgressModel",
      "state": {
       "bar_style": "success",
       "layout": "IPY_MODEL_bbd6c75299444e4395ab0fb2cb82bbe0",
       "max": 34,
       "style": "IPY_MODEL_b5e88afed6fd49809e2c18df62899c9f",
       "value": 34
      }
     },
     "65339301e4244bf29f58f6375952449c": {
      "model_module": "@jupyter-widgets/controls",
      "model_module_version": "1.5.0",
      "model_name": "DescriptionStyleModel",
      "state": {
       "description_width": ""
      }
     },
     "661004de9ae8423e9fa1f42bad805369": {
      "model_module": "@jupyter-widgets/base",
      "model_module_version": "1.2.0",
      "model_name": "LayoutModel",
      "state": {}
     },
     "669b2cb8abc242f88339bf75c94378f9": {
      "model_module": "@jupyter-widgets/base",
      "model_module_version": "1.2.0",
      "model_name": "LayoutModel",
      "state": {}
     },
     "66f5cba8f31e4c23b5fc049c2a4cdfa1": {
      "model_module": "@jupyter-widgets/controls",
      "model_module_version": "1.5.0",
      "model_name": "HTMLModel",
      "state": {
       "layout": "IPY_MODEL_1195ca2b04bb418aa8fe835445703fb9",
       "style": "IPY_MODEL_6e472b839fa44b7d8041395e5326dc96",
       "value": " 45.0/45 [00:00&lt;00:00, 977.10it/s]"
      }
     },
     "67d7b3b5d35e4c91a77c4a7f05aaee71": {
      "model_module": "@jupyter-widgets/controls",
      "model_module_version": "1.5.0",
      "model_name": "FloatProgressModel",
      "state": {
       "bar_style": "success",
       "layout": "IPY_MODEL_5e63d06a614a4100b43c26c7883dbd79",
       "max": 45,
       "style": "IPY_MODEL_b662a14a3c7747fba9f3e7102f6b520d",
       "value": 45
      }
     },
     "68d745408bed488fbdd04deb7e87961f": {
      "model_module": "@jupyter-widgets/controls",
      "model_module_version": "1.5.0",
      "model_name": "DescriptionStyleModel",
      "state": {
       "description_width": ""
      }
     },
     "691cddc1e342425c9991bb100dd255b9": {
      "model_module": "@jupyter-widgets/controls",
      "model_module_version": "1.5.0",
      "model_name": "DescriptionStyleModel",
      "state": {
       "description_width": ""
      }
     },
     "6c2b0496ae1e4ff38f0360adda224a01": {
      "model_module": "@jupyter-widgets/controls",
      "model_module_version": "1.5.0",
      "model_name": "HTMLModel",
      "state": {
       "layout": "IPY_MODEL_d07dbc3886c54209aac140aba02c069b",
       "style": "IPY_MODEL_99f2a2749bf14a789cf6329a0b5f4e36",
       "value": " 45.0/45 [00:00&lt;00:00, 801.23it/s]"
      }
     },
     "6c8a19b27d8e44aa90860ae82d5d51cb": {
      "model_module": "@jupyter-widgets/controls",
      "model_module_version": "1.5.0",
      "model_name": "DescriptionStyleModel",
      "state": {
       "description_width": ""
      }
     },
     "6cc3e51efefa4c2b8ee25c3352d6749d": {
      "model_module": "@jupyter-widgets/controls",
      "model_module_version": "1.5.0",
      "model_name": "HTMLModel",
      "state": {
       "layout": "IPY_MODEL_ee0fcc0a28014c34bff1acf950021dbc",
       "style": "IPY_MODEL_90391098e86d414f99e22792264cfe65",
       "value": "100%"
      }
     },
     "6d5b8ba6c29440fdac7515cfa01c0fb2": {
      "model_module": "@jupyter-widgets/controls",
      "model_module_version": "1.5.0",
      "model_name": "HTMLModel",
      "state": {
       "layout": "IPY_MODEL_210d424291d34d2f9619841025699b72",
       "style": "IPY_MODEL_2a96d16b75f74dabb0c44c9d5aa01892",
       "value": " 34.0/34 [00:00&lt;00:00, 820.02it/s]"
      }
     },
     "6e472b839fa44b7d8041395e5326dc96": {
      "model_module": "@jupyter-widgets/controls",
      "model_module_version": "1.5.0",
      "model_name": "DescriptionStyleModel",
      "state": {
       "description_width": ""
      }
     },
     "6e56bd1f9c3d44289bfa821b6ceeb842": {
      "model_module": "@jupyter-widgets/controls",
      "model_module_version": "1.5.0",
      "model_name": "HBoxModel",
      "state": {
       "children": [
        "IPY_MODEL_71e8f3eee165443b8ff5c14ab296ebed",
        "IPY_MODEL_e89692e220934b42b4023ae9eba68357",
        "IPY_MODEL_13b19d3fee4a4c88b8951f96c97453fd"
       ],
       "layout": "IPY_MODEL_cae1b8e99f1e443187b80db563c61857"
      }
     },
     "6fdfbea5740d42f6a04a6b20aaf04e89": {
      "model_module": "@jupyter-widgets/controls",
      "model_module_version": "1.5.0",
      "model_name": "HBoxModel",
      "state": {
       "children": [
        "IPY_MODEL_364ba3126e6040b7b3b65e16790057c5",
        "IPY_MODEL_e22ee649284b4d93b89e3b3f040da726",
        "IPY_MODEL_5222bd6a5c2c472396b1ecec260fd4fd"
       ],
       "layout": "IPY_MODEL_fa89493644244938b592890cdc0f3f6f"
      }
     },
     "70224dc66fce4941947e090f81233721": {
      "model_module": "@jupyter-widgets/controls",
      "model_module_version": "1.5.0",
      "model_name": "DescriptionStyleModel",
      "state": {
       "description_width": ""
      }
     },
     "710a8a2afed445e297dce916bcd359d2": {
      "model_module": "@jupyter-widgets/controls",
      "model_module_version": "1.5.0",
      "model_name": "FloatProgressModel",
      "state": {
       "bar_style": "success",
       "layout": "IPY_MODEL_0064be6a9d144355a03032fb471ca870",
       "max": 45,
       "style": "IPY_MODEL_aad1c6e8e7134617aa7621a2fc361bbd",
       "value": 45
      }
     },
     "71629758289845ad8ca39b36a08add7e": {
      "model_module": "@jupyter-widgets/base",
      "model_module_version": "1.2.0",
      "model_name": "LayoutModel",
      "state": {
       "display": "inline-flex",
       "flex_flow": "row wrap",
       "width": "100%"
      }
     },
     "71e8f3eee165443b8ff5c14ab296ebed": {
      "model_module": "@jupyter-widgets/controls",
      "model_module_version": "1.5.0",
      "model_name": "HTMLModel",
      "state": {
       "layout": "IPY_MODEL_d33fd1ec841b45ca972933d3dd145fbd",
       "style": "IPY_MODEL_45eda221ed4d4240a63efa42d6e84689",
       "value": "100%"
      }
     },
     "73780dd628a24135b8f0948fb52e523c": {
      "model_module": "@jupyter-widgets/controls",
      "model_module_version": "1.5.0",
      "model_name": "HTMLModel",
      "state": {
       "layout": "IPY_MODEL_b317ad613564445ea86f90a58338f1c9",
       "style": "IPY_MODEL_d579e59f7dfe4630b39b8e3ea02d5e80",
       "value": " 31.0/31 [00:00&lt;00:00, 46.01it/s]"
      }
     },
     "73cfb470c93f40a28cdec599505fee8e": {
      "model_module": "@jupyter-widgets/base",
      "model_module_version": "1.2.0",
      "model_name": "LayoutModel",
      "state": {
       "display": "inline-flex",
       "flex_flow": "row wrap",
       "width": "100%"
      }
     },
     "7436c996ae084570a70042e3c3f859d4": {
      "model_module": "@jupyter-widgets/controls",
      "model_module_version": "1.5.0",
      "model_name": "ProgressStyleModel",
      "state": {
       "description_width": ""
      }
     },
     "74665848ae2d49448fdf6e4fb67084e8": {
      "model_module": "@jupyter-widgets/base",
      "model_module_version": "1.2.0",
      "model_name": "LayoutModel",
      "state": {}
     },
     "756d97ce259a4fbfa465e9baa6a0c8aa": {
      "model_module": "@jupyter-widgets/base",
      "model_module_version": "1.2.0",
      "model_name": "LayoutModel",
      "state": {}
     },
     "76dee5ef7c5840b6b923e6cc6c43ce50": {
      "model_module": "@jupyter-widgets/base",
      "model_module_version": "1.2.0",
      "model_name": "LayoutModel",
      "state": {}
     },
     "770b865f3c194e24b0f376e9bfae5170": {
      "model_module": "@jupyter-widgets/controls",
      "model_module_version": "1.5.0",
      "model_name": "FloatProgressModel",
      "state": {
       "bar_style": "success",
       "layout": "IPY_MODEL_2e27a0c56f854f0fad996d77ea16c7c0",
       "max": 34,
       "style": "IPY_MODEL_0bdc74511ac041d596d560ccfd0ed4f4",
       "value": 34
      }
     },
     "78254efabda746f9b3f9551389d0432b": {
      "model_module": "@jupyter-widgets/controls",
      "model_module_version": "1.5.0",
      "model_name": "HTMLModel",
      "state": {
       "layout": "IPY_MODEL_150298b7304d4dc68269bdaf63c34b66",
       "style": "IPY_MODEL_eff1b7e3f1794bea848630fc964603bf",
       "value": "100%"
      }
     },
     "785414f5af634ccc8f919be709e96ed6": {
      "model_module": "@jupyter-widgets/base",
      "model_module_version": "1.2.0",
      "model_name": "LayoutModel",
      "state": {}
     },
     "78603b96f6644b8083bda621c26a91ed": {
      "model_module": "@jupyter-widgets/controls",
      "model_module_version": "1.5.0",
      "model_name": "HTMLModel",
      "state": {
       "layout": "IPY_MODEL_8a99d39d344844f49d10c142cc983d2e",
       "style": "IPY_MODEL_a04a69d18d21419e9c3527d90c877f46",
       "value": " 34.0/34 [00:00&lt;00:00, 766.33it/s]"
      }
     },
     "794495f488334ebf9ad50742ff94ee71": {
      "model_module": "@jupyter-widgets/controls",
      "model_module_version": "1.5.0",
      "model_name": "HTMLModel",
      "state": {
       "layout": "IPY_MODEL_058f0ca33ef34b96825b0cf5021f0701",
       "style": "IPY_MODEL_f6dd2c5af8774039bd930d5de40f09a6",
       "value": "100%"
      }
     },
     "7be41f2264c4460a953206a81f816b3b": {
      "model_module": "@jupyter-widgets/controls",
      "model_module_version": "1.5.0",
      "model_name": "HTMLModel",
      "state": {
       "layout": "IPY_MODEL_258ff3818ba94e65811e4320cf80ef3e",
       "style": "IPY_MODEL_21d847321c0746289adfd030decbb94b",
       "value": "100%"
      }
     },
     "7d71bfd1cee14817a10fe58ae4d9db8e": {
      "model_module": "@jupyter-widgets/controls",
      "model_module_version": "1.5.0",
      "model_name": "HTMLModel",
      "state": {
       "layout": "IPY_MODEL_9ea629dadefd4a25871dc5f56479515f",
       "style": "IPY_MODEL_2bab7030dcf24a2bb08fc0bc0993d34c",
       "value": "100%"
      }
     },
     "7dd57672e2a14bbf8228c5ad5c8cef35": {
      "model_module": "@jupyter-widgets/controls",
      "model_module_version": "1.5.0",
      "model_name": "FloatProgressModel",
      "state": {
       "bar_style": "success",
       "layout": "IPY_MODEL_ba8eb014a13d4ecb9f508c511ca563b0",
       "max": 34,
       "style": "IPY_MODEL_e85f452ef54449139ccc1fe12e52abc4",
       "value": 34
      }
     },
     "7dff7815c0694aa89bc1e098958e2344": {
      "model_module": "@jupyter-widgets/base",
      "model_module_version": "1.2.0",
      "model_name": "LayoutModel",
      "state": {}
     },
     "7e06057ebd3f4090899dace4033899e3": {
      "model_module": "@jupyter-widgets/controls",
      "model_module_version": "1.5.0",
      "model_name": "HTMLModel",
      "state": {
       "layout": "IPY_MODEL_93dd463d10cd4b77adbf687295c6e633",
       "style": "IPY_MODEL_c0cc52019c674f9db7d0b9a0ff2388d9",
       "value": " 37.0/37 [00:00&lt;00:00, 927.08it/s]"
      }
     },
     "7edbc6e3b18949ef819c31c07c6dab10": {
      "model_module": "@jupyter-widgets/controls",
      "model_module_version": "1.5.0",
      "model_name": "FloatProgressModel",
      "state": {
       "bar_style": "success",
       "layout": "IPY_MODEL_b2341c95081340c4b794dcb1c25342bc",
       "max": 30,
       "style": "IPY_MODEL_b0a1b9dc12634ab58aa562abf6a47ee5",
       "value": 30
      }
     },
     "7f9ed9ee6e0f451d81e8b89cab677901": {
      "model_module": "@jupyter-widgets/controls",
      "model_module_version": "1.5.0",
      "model_name": "FloatProgressModel",
      "state": {
       "bar_style": "success",
       "layout": "IPY_MODEL_c10a62dd1b0943748d8e4040c33c1140",
       "max": 34,
       "style": "IPY_MODEL_bd3608398c7c4c679edafd1b9936fe07",
       "value": 34
      }
     },
     "82ea36f9bc104d3b93188a4325d31ce7": {
      "model_module": "@jupyter-widgets/base",
      "model_module_version": "1.2.0",
      "model_name": "LayoutModel",
      "state": {
       "display": "inline-flex",
       "flex_flow": "row wrap",
       "width": "100%"
      }
     },
     "83a865ce34dd41369d2a4484dcfe5b8d": {
      "model_module": "@jupyter-widgets/controls",
      "model_module_version": "1.5.0",
      "model_name": "FloatProgressModel",
      "state": {
       "bar_style": "success",
       "layout": "IPY_MODEL_f3911e8d26714ec0b7c7472ebdb72924",
       "max": 31,
       "style": "IPY_MODEL_848a2cf299a643b3aef1df2fdac5667c",
       "value": 31
      }
     },
     "83f117081da546dd859543f2f08417dd": {
      "model_module": "@jupyter-widgets/controls",
      "model_module_version": "1.5.0",
      "model_name": "DescriptionStyleModel",
      "state": {
       "description_width": ""
      }
     },
     "846db5ee539d446291eae40e7a271fad": {
      "model_module": "@jupyter-widgets/base",
      "model_module_version": "1.2.0",
      "model_name": "LayoutModel",
      "state": {
       "display": "inline-flex",
       "flex_flow": "row wrap",
       "width": "100%"
      }
     },
     "848a2cf299a643b3aef1df2fdac5667c": {
      "model_module": "@jupyter-widgets/controls",
      "model_module_version": "1.5.0",
      "model_name": "ProgressStyleModel",
      "state": {
       "description_width": ""
      }
     },
     "85a527dee8fc414fb94df44a792061ce": {
      "model_module": "@jupyter-widgets/base",
      "model_module_version": "1.2.0",
      "model_name": "LayoutModel",
      "state": {}
     },
     "87c79ee2716e4aa091c8d2af6923ded8": {
      "model_module": "@jupyter-widgets/controls",
      "model_module_version": "1.5.0",
      "model_name": "DescriptionStyleModel",
      "state": {
       "description_width": ""
      }
     },
     "8982dea7985f4373a26b5234452f9626": {
      "model_module": "@jupyter-widgets/controls",
      "model_module_version": "1.5.0",
      "model_name": "ProgressStyleModel",
      "state": {
       "description_width": ""
      }
     },
     "8a3b35e210c44c6681ea3dbc65ef0cd4": {
      "model_module": "@jupyter-widgets/controls",
      "model_module_version": "1.5.0",
      "model_name": "HTMLModel",
      "state": {
       "layout": "IPY_MODEL_c79b0a0f16184a24b7528f9238c13a39",
       "style": "IPY_MODEL_a581dc06f7ac445fb43260aec673083f",
       "value": " 37.0/37 [00:00&lt;00:00, 833.02it/s]"
      }
     },
     "8a99d39d344844f49d10c142cc983d2e": {
      "model_module": "@jupyter-widgets/base",
      "model_module_version": "1.2.0",
      "model_name": "LayoutModel",
      "state": {}
     },
     "8b221f7805df45e1b3369b4b59cfe270": {
      "model_module": "@jupyter-widgets/controls",
      "model_module_version": "1.5.0",
      "model_name": "HTMLModel",
      "state": {
       "layout": "IPY_MODEL_2eea1e9c26eb4737ba2ed8ce0d8d369a",
       "style": "IPY_MODEL_87c79ee2716e4aa091c8d2af6923ded8",
       "value": "100%"
      }
     },
     "8b89c14a5185483fa93f94f4834ff132": {
      "model_module": "@jupyter-widgets/base",
      "model_module_version": "1.2.0",
      "model_name": "LayoutModel",
      "state": {
       "flex": "2"
      }
     },
     "8cc24099e21c42468fe454324bd39f42": {
      "model_module": "@jupyter-widgets/controls",
      "model_module_version": "1.5.0",
      "model_name": "HTMLModel",
      "state": {
       "layout": "IPY_MODEL_30c1cbd2baef4eb4b553b58bcecb47c8",
       "style": "IPY_MODEL_c964809320014ca59965c06bddf7896d",
       "value": " 45.0/45 [00:00&lt;00:00, 1042.36it/s]"
      }
     },
     "8cf935ad6dc34e54a7677b9bd88da181": {
      "model_module": "@jupyter-widgets/base",
      "model_module_version": "1.2.0",
      "model_name": "LayoutModel",
      "state": {}
     },
     "8dd802a2498f4d01964589e97aa6c7ad": {
      "model_module": "@jupyter-widgets/controls",
      "model_module_version": "1.5.0",
      "model_name": "HTMLModel",
      "state": {
       "layout": "IPY_MODEL_ad5912bc3bdb46bb9b68aa52971f4a62",
       "style": "IPY_MODEL_f91061f34875442aba897d82983063ac",
       "value": " 34.0/34 [00:00&lt;00:00, 930.30it/s]"
      }
     },
     "8ed0696f15c044f181ebe8eb27fcb962": {
      "model_module": "@jupyter-widgets/controls",
      "model_module_version": "1.5.0",
      "model_name": "ProgressStyleModel",
      "state": {
       "description_width": ""
      }
     },
     "8f12f39d93f945efa57514f6a7b03e52": {
      "model_module": "@jupyter-widgets/base",
      "model_module_version": "1.2.0",
      "model_name": "LayoutModel",
      "state": {
       "display": "inline-flex",
       "flex_flow": "row wrap",
       "width": "100%"
      }
     },
     "8fead39fe2854d298d6338a9068b389a": {
      "model_module": "@jupyter-widgets/controls",
      "model_module_version": "1.5.0",
      "model_name": "DescriptionStyleModel",
      "state": {
       "description_width": ""
      }
     },
     "90391098e86d414f99e22792264cfe65": {
      "model_module": "@jupyter-widgets/controls",
      "model_module_version": "1.5.0",
      "model_name": "DescriptionStyleModel",
      "state": {
       "description_width": ""
      }
     },
     "906711dce0644889b21ab8842b4dbb47": {
      "model_module": "@jupyter-widgets/base",
      "model_module_version": "1.2.0",
      "model_name": "LayoutModel",
      "state": {}
     },
     "90e24a8ef8d64c7f95ba8d39f71ecdde": {
      "model_module": "@jupyter-widgets/controls",
      "model_module_version": "1.5.0",
      "model_name": "HTMLModel",
      "state": {
       "layout": "IPY_MODEL_502e2996921343599b3d8ef06521f47f",
       "style": "IPY_MODEL_b681ab20f0694f44bf20356150e5e2fd",
       "value": "100%"
      }
     },
     "92cddec304274f77a52d88ea2b16f1ea": {
      "model_module": "@jupyter-widgets/controls",
      "model_module_version": "1.5.0",
      "model_name": "HBoxModel",
      "state": {
       "children": [
        "IPY_MODEL_edd9ddb550a9439ab72e6bbf31294183",
        "IPY_MODEL_b751713d177246bfa3b684b98af58545",
        "IPY_MODEL_7e06057ebd3f4090899dace4033899e3"
       ],
       "layout": "IPY_MODEL_0a10be2566b04186bad93dba036aacf4"
      }
     },
     "9385ad91edd44d1db113f675857b9440": {
      "model_module": "@jupyter-widgets/base",
      "model_module_version": "1.2.0",
      "model_name": "LayoutModel",
      "state": {}
     },
     "93dd463d10cd4b77adbf687295c6e633": {
      "model_module": "@jupyter-widgets/base",
      "model_module_version": "1.2.0",
      "model_name": "LayoutModel",
      "state": {}
     },
     "9444ae71f42344bdbc39593b2aa48d07": {
      "model_module": "@jupyter-widgets/controls",
      "model_module_version": "1.5.0",
      "model_name": "HBoxModel",
      "state": {
       "children": [
        "IPY_MODEL_2fc5bc59a5fb4de2b3a9666eba2d8c30",
        "IPY_MODEL_dad9695e6d1e4a00a234d1beeead1a06",
        "IPY_MODEL_8dd802a2498f4d01964589e97aa6c7ad"
       ],
       "layout": "IPY_MODEL_18afdeac3bf54d5f9a163b10c3812705"
      }
     },
     "945408449d5849a5855567eaae193a91": {
      "model_module": "@jupyter-widgets/controls",
      "model_module_version": "1.5.0",
      "model_name": "ProgressStyleModel",
      "state": {
       "description_width": ""
      }
     },
     "97fc9919f06b494db280f20aecd1791d": {
      "model_module": "@jupyter-widgets/base",
      "model_module_version": "1.2.0",
      "model_name": "LayoutModel",
      "state": {}
     },
     "9807b720bed347a6a24aeddb9fd0644f": {
      "model_module": "@jupyter-widgets/controls",
      "model_module_version": "1.5.0",
      "model_name": "DescriptionStyleModel",
      "state": {
       "description_width": ""
      }
     },
     "981ddc8e63e94c61b296fe3927760ef4": {
      "model_module": "@jupyter-widgets/base",
      "model_module_version": "1.2.0",
      "model_name": "LayoutModel",
      "state": {
       "flex": "2"
      }
     },
     "984b45db750e41cda2969747abac1e26": {
      "model_module": "@jupyter-widgets/base",
      "model_module_version": "1.2.0",
      "model_name": "LayoutModel",
      "state": {
       "flex": "2"
      }
     },
     "9996dea7de3241388679879bdf637989": {
      "model_module": "@jupyter-widgets/base",
      "model_module_version": "1.2.0",
      "model_name": "LayoutModel",
      "state": {
       "display": "inline-flex",
       "flex_flow": "row wrap",
       "width": "100%"
      }
     },
     "99f2a2749bf14a789cf6329a0b5f4e36": {
      "model_module": "@jupyter-widgets/controls",
      "model_module_version": "1.5.0",
      "model_name": "DescriptionStyleModel",
      "state": {
       "description_width": ""
      }
     },
     "9b923e7214344b68a66810bcd1fdcdc4": {
      "model_module": "@jupyter-widgets/controls",
      "model_module_version": "1.5.0",
      "model_name": "HTMLModel",
      "state": {
       "layout": "IPY_MODEL_c318f6b8c0a54437a72b69d419742bda",
       "style": "IPY_MODEL_9c3e60c74fb841359a21b26884f6426e",
       "value": "100%"
      }
     },
     "9c3e60c74fb841359a21b26884f6426e": {
      "model_module": "@jupyter-widgets/controls",
      "model_module_version": "1.5.0",
      "model_name": "DescriptionStyleModel",
      "state": {
       "description_width": ""
      }
     },
     "9cc96b5bc6424cee87792baaedce2f4e": {
      "model_module": "@jupyter-widgets/controls",
      "model_module_version": "1.5.0",
      "model_name": "HTMLModel",
      "state": {
       "layout": "IPY_MODEL_234ecd74250e45c4948d002ac86d9601",
       "style": "IPY_MODEL_e6838be358644287a9e383cf07be6270",
       "value": " 45.0/45 [00:00&lt;00:00, 968.59it/s]"
      }
     },
     "9e61a4c08b964af6bf4c0e75c17619d6": {
      "model_module": "@jupyter-widgets/controls",
      "model_module_version": "1.5.0",
      "model_name": "HBoxModel",
      "state": {
       "children": [
        "IPY_MODEL_b56bdcd1bdda473c87e296b8ec8f8704",
        "IPY_MODEL_35e038cf16a84118a7afd66c58938321",
        "IPY_MODEL_005bde7c09b04b0492c0216aa16a5291"
       ],
       "layout": "IPY_MODEL_8f12f39d93f945efa57514f6a7b03e52"
      }
     },
     "9ea629dadefd4a25871dc5f56479515f": {
      "model_module": "@jupyter-widgets/base",
      "model_module_version": "1.2.0",
      "model_name": "LayoutModel",
      "state": {}
     },
     "9f69b05df72b4df3b1d57488da4f225a": {
      "model_module": "@jupyter-widgets/controls",
      "model_module_version": "1.5.0",
      "model_name": "HBoxModel",
      "state": {
       "children": [
        "IPY_MODEL_3323b9b670cc447d8c9cf20e9111c6bd",
        "IPY_MODEL_08e962d0d0aa466caca60b89bda2e52d",
        "IPY_MODEL_5bf0d18b23e44cf4aea19371a5abe0a6"
       ],
       "layout": "IPY_MODEL_ac0b2c0cdcaf45f2bdbae0cd132ab81d"
      }
     },
     "a044af04e32a4fb9809630f8684e7626": {
      "model_module": "@jupyter-widgets/controls",
      "model_module_version": "1.5.0",
      "model_name": "FloatProgressModel",
      "state": {
       "bar_style": "success",
       "layout": "IPY_MODEL_981ddc8e63e94c61b296fe3927760ef4",
       "max": 34,
       "style": "IPY_MODEL_5f96820a4a93440ca48b41a1c021d357",
       "value": 34
      }
     },
     "a04a69d18d21419e9c3527d90c877f46": {
      "model_module": "@jupyter-widgets/controls",
      "model_module_version": "1.5.0",
      "model_name": "DescriptionStyleModel",
      "state": {
       "description_width": ""
      }
     },
     "a06c9721e95143feb1496958ae9b9870": {
      "model_module": "@jupyter-widgets/controls",
      "model_module_version": "1.5.0",
      "model_name": "HTMLModel",
      "state": {
       "layout": "IPY_MODEL_669b2cb8abc242f88339bf75c94378f9",
       "style": "IPY_MODEL_691cddc1e342425c9991bb100dd255b9",
       "value": " 45.0/45 [00:00&lt;00:00, 821.68it/s]"
      }
     },
     "a08caa06c7b34a25b61a106d37c98e8d": {
      "model_module": "@jupyter-widgets/controls",
      "model_module_version": "1.5.0",
      "model_name": "FloatProgressModel",
      "state": {
       "bar_style": "success",
       "layout": "IPY_MODEL_d5facd1e50b04dc2925f44e820babd8d",
       "max": 45,
       "style": "IPY_MODEL_bd21ce467fdd496896fca5e9a02a69ac",
       "value": 45
      }
     },
     "a0a394190d5341fd99473eb06fe86b8b": {
      "model_module": "@jupyter-widgets/controls",
      "model_module_version": "1.5.0",
      "model_name": "HTMLModel",
      "state": {
       "layout": "IPY_MODEL_eb4a931d29654a8f8c75855cc18d5da6",
       "style": "IPY_MODEL_c75c060a61f2488eae547ccb6342435d",
       "value": "100%"
      }
     },
     "a0e2a56d328e41c2abb88dac199158ee": {
      "model_module": "@jupyter-widgets/controls",
      "model_module_version": "1.5.0",
      "model_name": "FloatProgressModel",
      "state": {
       "bar_style": "success",
       "layout": "IPY_MODEL_a78175de38c641b5ac051c232b96be61",
       "max": 45,
       "style": "IPY_MODEL_d95cf3ec680d46caa2ebf4a193e1591f",
       "value": 45
      }
     },
     "a0fad576ce724c04b65c591e75c04cda": {
      "model_module": "@jupyter-widgets/base",
      "model_module_version": "1.2.0",
      "model_name": "LayoutModel",
      "state": {}
     },
     "a1e96840b098426ca6ead7ea4240b3c0": {
      "model_module": "@jupyter-widgets/controls",
      "model_module_version": "1.5.0",
      "model_name": "ProgressStyleModel",
      "state": {
       "description_width": ""
      }
     },
     "a255c0d0d79e4ee490f8b0015a442aa9": {
      "model_module": "@jupyter-widgets/controls",
      "model_module_version": "1.5.0",
      "model_name": "DescriptionStyleModel",
      "state": {
       "description_width": ""
      }
     },
     "a283c55535bd484ca9edcb9c1e50bf70": {
      "model_module": "@jupyter-widgets/base",
      "model_module_version": "1.2.0",
      "model_name": "LayoutModel",
      "state": {}
     },
     "a35be4ffdb314329b7e861379ca39565": {
      "model_module": "@jupyter-widgets/controls",
      "model_module_version": "1.5.0",
      "model_name": "HBoxModel",
      "state": {
       "children": [
        "IPY_MODEL_fe710bf9e7724c1bb1c394e8e5b30997",
        "IPY_MODEL_5c4fd27287374acd88102740f458d3cc",
        "IPY_MODEL_e825e3e532cb4230ae87bed6baa96e14"
       ],
       "layout": "IPY_MODEL_a59f710ab7fd47c88b4a3d95c44b9ff9"
      }
     },
     "a397720f64d64123b31eb371e8cdb52f": {
      "model_module": "@jupyter-widgets/base",
      "model_module_version": "1.2.0",
      "model_name": "LayoutModel",
      "state": {}
     },
     "a581dc06f7ac445fb43260aec673083f": {
      "model_module": "@jupyter-widgets/controls",
      "model_module_version": "1.5.0",
      "model_name": "DescriptionStyleModel",
      "state": {
       "description_width": ""
      }
     },
     "a59f710ab7fd47c88b4a3d95c44b9ff9": {
      "model_module": "@jupyter-widgets/base",
      "model_module_version": "1.2.0",
      "model_name": "LayoutModel",
      "state": {
       "display": "inline-flex",
       "flex_flow": "row wrap",
       "width": "100%"
      }
     },
     "a60e4c7392c74d12bae8f4cdb2460ccb": {
      "model_module": "@jupyter-widgets/controls",
      "model_module_version": "1.5.0",
      "model_name": "DescriptionStyleModel",
      "state": {
       "description_width": ""
      }
     },
     "a6d50091727c4206b96408612ac65093": {
      "model_module": "@jupyter-widgets/controls",
      "model_module_version": "1.5.0",
      "model_name": "HTMLModel",
      "state": {
       "layout": "IPY_MODEL_d2a8a50ecbe54b64be5efa25331b2216",
       "style": "IPY_MODEL_d0b11bb2853d48389156f6e5735037ad",
       "value": "100%"
      }
     },
     "a78175de38c641b5ac051c232b96be61": {
      "model_module": "@jupyter-widgets/base",
      "model_module_version": "1.2.0",
      "model_name": "LayoutModel",
      "state": {
       "flex": "2"
      }
     },
     "a921f703d95547ba9b975a5eaf18cd26": {
      "model_module": "@jupyter-widgets/controls",
      "model_module_version": "1.5.0",
      "model_name": "DescriptionStyleModel",
      "state": {
       "description_width": ""
      }
     },
     "aad1c6e8e7134617aa7621a2fc361bbd": {
      "model_module": "@jupyter-widgets/controls",
      "model_module_version": "1.5.0",
      "model_name": "ProgressStyleModel",
      "state": {
       "description_width": ""
      }
     },
     "aaeccfa5eb0045808a86dcbf667f9f41": {
      "model_module": "@jupyter-widgets/controls",
      "model_module_version": "1.5.0",
      "model_name": "ProgressStyleModel",
      "state": {
       "description_width": ""
      }
     },
     "ac0b2c0cdcaf45f2bdbae0cd132ab81d": {
      "model_module": "@jupyter-widgets/base",
      "model_module_version": "1.2.0",
      "model_name": "LayoutModel",
      "state": {
       "display": "inline-flex",
       "flex_flow": "row wrap",
       "width": "100%"
      }
     },
     "ad5912bc3bdb46bb9b68aa52971f4a62": {
      "model_module": "@jupyter-widgets/base",
      "model_module_version": "1.2.0",
      "model_name": "LayoutModel",
      "state": {}
     },
     "ae40c145810d48379bb9c9a51d2ec474": {
      "model_module": "@jupyter-widgets/controls",
      "model_module_version": "1.5.0",
      "model_name": "HTMLModel",
      "state": {
       "layout": "IPY_MODEL_25b3031c759344ce92a8040b6c569aee",
       "style": "IPY_MODEL_f0573397b5574f738aa9c8ed6eeb4418",
       "value": " 31.0/31 [00:00&lt;00:00, 46.72it/s]"
      }
     },
     "af127d30f46e40a6a4a132f92d8a1193": {
      "model_module": "@jupyter-widgets/controls",
      "model_module_version": "1.5.0",
      "model_name": "FloatProgressModel",
      "state": {
       "bar_style": "success",
       "layout": "IPY_MODEL_2eaefa57d1134269b7b8ec7f3243b699",
       "max": 37,
       "style": "IPY_MODEL_3476c5fb69d94654a85803e1472be937",
       "value": 37
      }
     },
     "afc146da1a6647e0a1fbb94893cd4830": {
      "model_module": "@jupyter-widgets/controls",
      "model_module_version": "1.5.0",
      "model_name": "FloatProgressModel",
      "state": {
       "bar_style": "success",
       "layout": "IPY_MODEL_984b45db750e41cda2969747abac1e26",
       "max": 30,
       "style": "IPY_MODEL_1b8bbe065d954650844c0e05a42351fe",
       "value": 30
      }
     },
     "b0a1b9dc12634ab58aa562abf6a47ee5": {
      "model_module": "@jupyter-widgets/controls",
      "model_module_version": "1.5.0",
      "model_name": "ProgressStyleModel",
      "state": {
       "description_width": ""
      }
     },
     "b1169065a15c4755b246e16b0b516bc9": {
      "model_module": "@jupyter-widgets/controls",
      "model_module_version": "1.5.0",
      "model_name": "DescriptionStyleModel",
      "state": {
       "description_width": ""
      }
     },
     "b134b56d53814f3f82f067dbaa08739c": {
      "model_module": "@jupyter-widgets/controls",
      "model_module_version": "1.5.0",
      "model_name": "DescriptionStyleModel",
      "state": {
       "description_width": ""
      }
     },
     "b1d0dc81b89a4c0e9c7af6fc2d80e197": {
      "model_module": "@jupyter-widgets/base",
      "model_module_version": "1.2.0",
      "model_name": "LayoutModel",
      "state": {
       "flex": "2"
      }
     },
     "b219964881e94004b0332d8a0c82d99d": {
      "model_module": "@jupyter-widgets/base",
      "model_module_version": "1.2.0",
      "model_name": "LayoutModel",
      "state": {}
     },
     "b2341c95081340c4b794dcb1c25342bc": {
      "model_module": "@jupyter-widgets/base",
      "model_module_version": "1.2.0",
      "model_name": "LayoutModel",
      "state": {
       "flex": "2"
      }
     },
     "b2ee218409eb496aab1a1e4f6f22534f": {
      "model_module": "@jupyter-widgets/controls",
      "model_module_version": "1.5.0",
      "model_name": "DescriptionStyleModel",
      "state": {
       "description_width": ""
      }
     },
     "b317ad613564445ea86f90a58338f1c9": {
      "model_module": "@jupyter-widgets/base",
      "model_module_version": "1.2.0",
      "model_name": "LayoutModel",
      "state": {}
     },
     "b56bdcd1bdda473c87e296b8ec8f8704": {
      "model_module": "@jupyter-widgets/controls",
      "model_module_version": "1.5.0",
      "model_name": "HTMLModel",
      "state": {
       "layout": "IPY_MODEL_bee1686f47d4415eab43a3c79ee43e8a",
       "style": "IPY_MODEL_a921f703d95547ba9b975a5eaf18cd26",
       "value": "100%"
      }
     },
     "b5c73a76d3174c65ad2336dfc0f064d1": {
      "model_module": "@jupyter-widgets/controls",
      "model_module_version": "1.5.0",
      "model_name": "HTMLModel",
      "state": {
       "layout": "IPY_MODEL_17ab586f9253465690802ee3d2724b60",
       "style": "IPY_MODEL_2bec31dd27304ca584d3977a62ae60f3",
       "value": "100%"
      }
     },
     "b5e88afed6fd49809e2c18df62899c9f": {
      "model_module": "@jupyter-widgets/controls",
      "model_module_version": "1.5.0",
      "model_name": "ProgressStyleModel",
      "state": {
       "description_width": ""
      }
     },
     "b5f78c9e8734491ebdfc5415293e7e2f": {
      "model_module": "@jupyter-widgets/controls",
      "model_module_version": "1.5.0",
      "model_name": "FloatProgressModel",
      "state": {
       "bar_style": "success",
       "layout": "IPY_MODEL_16cc4caffd0040128c639d08a5df8fc3",
       "max": 45,
       "style": "IPY_MODEL_c40b754443bd45e9a354e49e32430d2e",
       "value": 45
      }
     },
     "b662a14a3c7747fba9f3e7102f6b520d": {
      "model_module": "@jupyter-widgets/controls",
      "model_module_version": "1.5.0",
      "model_name": "ProgressStyleModel",
      "state": {
       "description_width": ""
      }
     },
     "b681ab20f0694f44bf20356150e5e2fd": {
      "model_module": "@jupyter-widgets/controls",
      "model_module_version": "1.5.0",
      "model_name": "DescriptionStyleModel",
      "state": {
       "description_width": ""
      }
     },
     "b751713d177246bfa3b684b98af58545": {
      "model_module": "@jupyter-widgets/controls",
      "model_module_version": "1.5.0",
      "model_name": "FloatProgressModel",
      "state": {
       "bar_style": "success",
       "layout": "IPY_MODEL_49a5764e2eee45fbaf92c0be7debe7e4",
       "max": 37,
       "style": "IPY_MODEL_1bed0ac1ceea4780ad434442c652e591",
       "value": 37
      }
     },
     "b775a6a4a8244bae850e859cfbb79f8f": {
      "model_module": "@jupyter-widgets/base",
      "model_module_version": "1.2.0",
      "model_name": "LayoutModel",
      "state": {}
     },
     "b7818c18d4954492b5570379a198836d": {
      "model_module": "@jupyter-widgets/controls",
      "model_module_version": "1.5.0",
      "model_name": "HTMLModel",
      "state": {
       "layout": "IPY_MODEL_17866796f06b43e8b083378767101bab",
       "style": "IPY_MODEL_e35523f43da64fb4a17c2be9909b9b36",
       "value": "100%"
      }
     },
     "b82169b4a7ca42fd82b0c7d0c70673a7": {
      "model_module": "@jupyter-widgets/base",
      "model_module_version": "1.2.0",
      "model_name": "LayoutModel",
      "state": {}
     },
     "b8f0309e605b44febc7435dc6e3fda41": {
      "model_module": "@jupyter-widgets/controls",
      "model_module_version": "1.5.0",
      "model_name": "HTMLModel",
      "state": {
       "layout": "IPY_MODEL_c0c56500983c4f4b8b71a0233497911a",
       "style": "IPY_MODEL_d48f70b064934af29214f3868dd5d0cb",
       "value": "100%"
      }
     },
     "ba8eb014a13d4ecb9f508c511ca563b0": {
      "model_module": "@jupyter-widgets/base",
      "model_module_version": "1.2.0",
      "model_name": "LayoutModel",
      "state": {
       "flex": "2"
      }
     },
     "bb06ac8405394bcb9623b3b1d0fd1187": {
      "model_module": "@jupyter-widgets/base",
      "model_module_version": "1.2.0",
      "model_name": "LayoutModel",
      "state": {}
     },
     "bb953836437f4466a2a521d738692df5": {
      "model_module": "@jupyter-widgets/base",
      "model_module_version": "1.2.0",
      "model_name": "LayoutModel",
      "state": {
       "flex": "2"
      }
     },
     "bbd6c75299444e4395ab0fb2cb82bbe0": {
      "model_module": "@jupyter-widgets/base",
      "model_module_version": "1.2.0",
      "model_name": "LayoutModel",
      "state": {
       "flex": "2"
      }
     },
     "bbe1330522be493ab77e92b1c2dcda23": {
      "model_module": "@jupyter-widgets/base",
      "model_module_version": "1.2.0",
      "model_name": "LayoutModel",
      "state": {
       "flex": "2"
      }
     },
     "bd21ce467fdd496896fca5e9a02a69ac": {
      "model_module": "@jupyter-widgets/controls",
      "model_module_version": "1.5.0",
      "model_name": "ProgressStyleModel",
      "state": {
       "description_width": ""
      }
     },
     "bd3608398c7c4c679edafd1b9936fe07": {
      "model_module": "@jupyter-widgets/controls",
      "model_module_version": "1.5.0",
      "model_name": "ProgressStyleModel",
      "state": {
       "description_width": ""
      }
     },
     "bec2bc82557d4231b5af313ebc31f16d": {
      "model_module": "@jupyter-widgets/base",
      "model_module_version": "1.2.0",
      "model_name": "LayoutModel",
      "state": {
       "display": "inline-flex",
       "flex_flow": "row wrap",
       "width": "100%"
      }
     },
     "bee1686f47d4415eab43a3c79ee43e8a": {
      "model_module": "@jupyter-widgets/base",
      "model_module_version": "1.2.0",
      "model_name": "LayoutModel",
      "state": {}
     },
     "bee848e388d14ae5955a39b552e01c3a": {
      "model_module": "@jupyter-widgets/controls",
      "model_module_version": "1.5.0",
      "model_name": "DescriptionStyleModel",
      "state": {
       "description_width": ""
      }
     },
     "bf93319225f64507bf4fa02a76f1c74f": {
      "model_module": "@jupyter-widgets/base",
      "model_module_version": "1.2.0",
      "model_name": "LayoutModel",
      "state": {
       "display": "inline-flex",
       "flex_flow": "row wrap",
       "width": "100%"
      }
     },
     "c04a05df7d7b405fad60fb5bf95e09db": {
      "model_module": "@jupyter-widgets/controls",
      "model_module_version": "1.5.0",
      "model_name": "ProgressStyleModel",
      "state": {
       "description_width": ""
      }
     },
     "c04b601084b94b03a4037276c5eb6b7b": {
      "model_module": "@jupyter-widgets/controls",
      "model_module_version": "1.5.0",
      "model_name": "FloatProgressModel",
      "state": {
       "bar_style": "success",
       "layout": "IPY_MODEL_bbe1330522be493ab77e92b1c2dcda23",
       "max": 45,
       "style": "IPY_MODEL_0f5624d4d9ba48299ce2ac4ce2eb4316",
       "value": 45
      }
     },
     "c0c56500983c4f4b8b71a0233497911a": {
      "model_module": "@jupyter-widgets/base",
      "model_module_version": "1.2.0",
      "model_name": "LayoutModel",
      "state": {}
     },
     "c0cc52019c674f9db7d0b9a0ff2388d9": {
      "model_module": "@jupyter-widgets/controls",
      "model_module_version": "1.5.0",
      "model_name": "DescriptionStyleModel",
      "state": {
       "description_width": ""
      }
     },
     "c0e5e094007c47dd809774555d951ef9": {
      "model_module": "@jupyter-widgets/controls",
      "model_module_version": "1.5.0",
      "model_name": "DescriptionStyleModel",
      "state": {
       "description_width": ""
      }
     },
     "c10a62dd1b0943748d8e4040c33c1140": {
      "model_module": "@jupyter-widgets/base",
      "model_module_version": "1.2.0",
      "model_name": "LayoutModel",
      "state": {
       "flex": "2"
      }
     },
     "c205f1e7bb404ec695cf9faa5aa44290": {
      "model_module": "@jupyter-widgets/controls",
      "model_module_version": "1.5.0",
      "model_name": "HTMLModel",
      "state": {
       "layout": "IPY_MODEL_756d97ce259a4fbfa465e9baa6a0c8aa",
       "style": "IPY_MODEL_b1169065a15c4755b246e16b0b516bc9",
       "value": "100%"
      }
     },
     "c318f6b8c0a54437a72b69d419742bda": {
      "model_module": "@jupyter-widgets/base",
      "model_module_version": "1.2.0",
      "model_name": "LayoutModel",
      "state": {}
     },
     "c40b754443bd45e9a354e49e32430d2e": {
      "model_module": "@jupyter-widgets/controls",
      "model_module_version": "1.5.0",
      "model_name": "ProgressStyleModel",
      "state": {
       "description_width": ""
      }
     },
     "c4be5d10860f433d8d926b960e995295": {
      "model_module": "@jupyter-widgets/base",
      "model_module_version": "1.2.0",
      "model_name": "LayoutModel",
      "state": {
       "display": "inline-flex",
       "flex_flow": "row wrap",
       "width": "100%"
      }
     },
     "c50b89a590cf4b2ca40c42f83456d008": {
      "model_module": "@jupyter-widgets/controls",
      "model_module_version": "1.5.0",
      "model_name": "HBoxModel",
      "state": {
       "children": [
        "IPY_MODEL_a6d50091727c4206b96408612ac65093",
        "IPY_MODEL_c04b601084b94b03a4037276c5eb6b7b",
        "IPY_MODEL_4fa47766babf49bd892d0cb9be22a7f2"
       ],
       "layout": "IPY_MODEL_f062854f0e1344659eea010d43e3483a"
      }
     },
     "c5b04ef2a5b04e3a9f20b8d3f7ea5afd": {
      "model_module": "@jupyter-widgets/controls",
      "model_module_version": "1.5.0",
      "model_name": "HTMLModel",
      "state": {
       "layout": "IPY_MODEL_b219964881e94004b0332d8a0c82d99d",
       "style": "IPY_MODEL_2650c99911ea4bc59b0c3a97b0af6d43",
       "value": "100%"
      }
     },
     "c69edf868ed647c88d26f72e7aa1e90b": {
      "model_module": "@jupyter-widgets/controls",
      "model_module_version": "1.5.0",
      "model_name": "HTMLModel",
      "state": {
       "layout": "IPY_MODEL_d074659554404cd5806bea5e1f56ebe9",
       "style": "IPY_MODEL_22b7325a38054b748c6fb942785d08d1",
       "value": " 24.0/24 [00:00&lt;00:00, 35.16it/s]"
      }
     },
     "c6e5d14d922e456d84f26c6a2655aa40": {
      "model_module": "@jupyter-widgets/controls",
      "model_module_version": "1.5.0",
      "model_name": "HTMLModel",
      "state": {
       "layout": "IPY_MODEL_e69ccd5190044c04bbc0051908deb845",
       "style": "IPY_MODEL_ef27404aad984e33a4c44705019c85fc",
       "value": "100%"
      }
     },
     "c75c060a61f2488eae547ccb6342435d": {
      "model_module": "@jupyter-widgets/controls",
      "model_module_version": "1.5.0",
      "model_name": "DescriptionStyleModel",
      "state": {
       "description_width": ""
      }
     },
     "c79b0a0f16184a24b7528f9238c13a39": {
      "model_module": "@jupyter-widgets/base",
      "model_module_version": "1.2.0",
      "model_name": "LayoutModel",
      "state": {}
     },
     "c8a8d9bf4ee24b6eb7cc5268a7c6f82f": {
      "model_module": "@jupyter-widgets/base",
      "model_module_version": "1.2.0",
      "model_name": "LayoutModel",
      "state": {
       "display": "inline-flex",
       "flex_flow": "row wrap",
       "width": "100%"
      }
     },
     "c964809320014ca59965c06bddf7896d": {
      "model_module": "@jupyter-widgets/controls",
      "model_module_version": "1.5.0",
      "model_name": "DescriptionStyleModel",
      "state": {
       "description_width": ""
      }
     },
     "ca433c9c70884e0d818fa10bf9f4d573": {
      "model_module": "@jupyter-widgets/base",
      "model_module_version": "1.2.0",
      "model_name": "LayoutModel",
      "state": {}
     },
     "caa4db23127f4873bdbe1979b9933be1": {
      "model_module": "@jupyter-widgets/controls",
      "model_module_version": "1.5.0",
      "model_name": "DescriptionStyleModel",
      "state": {
       "description_width": ""
      }
     },
     "cae1b8e99f1e443187b80db563c61857": {
      "model_module": "@jupyter-widgets/base",
      "model_module_version": "1.2.0",
      "model_name": "LayoutModel",
      "state": {
       "display": "inline-flex",
       "flex_flow": "row wrap",
       "width": "100%"
      }
     },
     "cbe41614103b474e92597cb798494736": {
      "model_module": "@jupyter-widgets/controls",
      "model_module_version": "1.5.0",
      "model_name": "ProgressStyleModel",
      "state": {
       "description_width": ""
      }
     },
     "cccce3387f5a4c81bd934b059812d2f2": {
      "model_module": "@jupyter-widgets/controls",
      "model_module_version": "1.5.0",
      "model_name": "DescriptionStyleModel",
      "state": {
       "description_width": ""
      }
     },
     "cd8bf35858df4df1aafbe5bf80545e82": {
      "model_module": "@jupyter-widgets/controls",
      "model_module_version": "1.5.0",
      "model_name": "HTMLModel",
      "state": {
       "layout": "IPY_MODEL_3addb3af78c24a4fb46098ecb5719611",
       "style": "IPY_MODEL_68d745408bed488fbdd04deb7e87961f",
       "value": " 34.0/34 [00:00&lt;00:00, 856.98it/s]"
      }
     },
     "d0120bb1e8a246dd8f8430a8611b2850": {
      "model_module": "@jupyter-widgets/controls",
      "model_module_version": "1.5.0",
      "model_name": "DescriptionStyleModel",
      "state": {
       "description_width": ""
      }
     },
     "d016f9b8b992434fb1b6be7f3cc8c736": {
      "model_module": "@jupyter-widgets/controls",
      "model_module_version": "1.5.0",
      "model_name": "HBoxModel",
      "state": {
       "children": [
        "IPY_MODEL_7d71bfd1cee14817a10fe58ae4d9db8e",
        "IPY_MODEL_64a40c94dfe849389374c800d3d1c09d",
        "IPY_MODEL_e249681f081b48ea8b8475afba6c9100"
       ],
       "layout": "IPY_MODEL_dba3f6c532404466a745ee951e341a3a"
      }
     },
     "d074659554404cd5806bea5e1f56ebe9": {
      "model_module": "@jupyter-widgets/base",
      "model_module_version": "1.2.0",
      "model_name": "LayoutModel",
      "state": {}
     },
     "d07dbc3886c54209aac140aba02c069b": {
      "model_module": "@jupyter-widgets/base",
      "model_module_version": "1.2.0",
      "model_name": "LayoutModel",
      "state": {}
     },
     "d0b11bb2853d48389156f6e5735037ad": {
      "model_module": "@jupyter-widgets/controls",
      "model_module_version": "1.5.0",
      "model_name": "DescriptionStyleModel",
      "state": {
       "description_width": ""
      }
     },
     "d10aaf9106474863966e58e2e0a92837": {
      "model_module": "@jupyter-widgets/base",
      "model_module_version": "1.2.0",
      "model_name": "LayoutModel",
      "state": {
       "display": "inline-flex",
       "flex_flow": "row wrap",
       "width": "100%"
      }
     },
     "d1705a7979834d5d9fa75cd65f24b224": {
      "model_module": "@jupyter-widgets/controls",
      "model_module_version": "1.5.0",
      "model_name": "HTMLModel",
      "state": {
       "layout": "IPY_MODEL_3d04b1660b6b45d59aacbe421f7e1ad6",
       "style": "IPY_MODEL_70224dc66fce4941947e090f81233721",
       "value": " 34.0/34 [00:00&lt;00:00, 47.49it/s]"
      }
     },
     "d1c059fc583b493eb107374ff9bbb99c": {
      "model_module": "@jupyter-widgets/controls",
      "model_module_version": "1.5.0",
      "model_name": "HTMLModel",
      "state": {
       "layout": "IPY_MODEL_0d83aaca1aad4545b214fec5a76b002c",
       "style": "IPY_MODEL_a60e4c7392c74d12bae8f4cdb2460ccb",
       "value": "100%"
      }
     },
     "d2a8a50ecbe54b64be5efa25331b2216": {
      "model_module": "@jupyter-widgets/base",
      "model_module_version": "1.2.0",
      "model_name": "LayoutModel",
      "state": {}
     },
     "d33fd1ec841b45ca972933d3dd145fbd": {
      "model_module": "@jupyter-widgets/base",
      "model_module_version": "1.2.0",
      "model_name": "LayoutModel",
      "state": {}
     },
     "d48f70b064934af29214f3868dd5d0cb": {
      "model_module": "@jupyter-widgets/controls",
      "model_module_version": "1.5.0",
      "model_name": "DescriptionStyleModel",
      "state": {
       "description_width": ""
      }
     },
     "d52b0a4cc88044229dfa052ceb7c86e0": {
      "model_module": "@jupyter-widgets/controls",
      "model_module_version": "1.5.0",
      "model_name": "DescriptionStyleModel",
      "state": {
       "description_width": ""
      }
     },
     "d579e59f7dfe4630b39b8e3ea02d5e80": {
      "model_module": "@jupyter-widgets/controls",
      "model_module_version": "1.5.0",
      "model_name": "DescriptionStyleModel",
      "state": {
       "description_width": ""
      }
     },
     "d5facd1e50b04dc2925f44e820babd8d": {
      "model_module": "@jupyter-widgets/base",
      "model_module_version": "1.2.0",
      "model_name": "LayoutModel",
      "state": {
       "flex": "2"
      }
     },
     "d624014b214d457cb4028b9249d98407": {
      "model_module": "@jupyter-widgets/controls",
      "model_module_version": "1.5.0",
      "model_name": "HBoxModel",
      "state": {
       "children": [
        "IPY_MODEL_a0a394190d5341fd99473eb06fe86b8b",
        "IPY_MODEL_7dd57672e2a14bbf8228c5ad5c8cef35",
        "IPY_MODEL_6d5b8ba6c29440fdac7515cfa01c0fb2"
       ],
       "layout": "IPY_MODEL_bec2bc82557d4231b5af313ebc31f16d"
      }
     },
     "d76b51b767d646b1b954b288d64cc75b": {
      "model_module": "@jupyter-widgets/base",
      "model_module_version": "1.2.0",
      "model_name": "LayoutModel",
      "state": {
       "flex": "2"
      }
     },
     "d809c39230c74b93a7d2759f743a935f": {
      "model_module": "@jupyter-widgets/controls",
      "model_module_version": "1.5.0",
      "model_name": "HTMLModel",
      "state": {
       "layout": "IPY_MODEL_661004de9ae8423e9fa1f42bad805369",
       "style": "IPY_MODEL_83f117081da546dd859543f2f08417dd",
       "value": " 29.0/29 [00:00&lt;00:00, 32.72it/s]"
      }
     },
     "d8ce8d5579d04f32b5a809a345765229": {
      "model_module": "@jupyter-widgets/base",
      "model_module_version": "1.2.0",
      "model_name": "LayoutModel",
      "state": {
       "flex": "2"
      }
     },
     "d8f21719265745169a9dd80f9bebcd16": {
      "model_module": "@jupyter-widgets/controls",
      "model_module_version": "1.5.0",
      "model_name": "HTMLModel",
      "state": {
       "layout": "IPY_MODEL_1882c2b8334a4f779b3b7b7006b2041b",
       "style": "IPY_MODEL_ecfc8efe37f14bcca5e5772046d805ca",
       "value": " 34.0/34 [00:00&lt;00:00, 718.95it/s]"
      }
     },
     "d95cf3ec680d46caa2ebf4a193e1591f": {
      "model_module": "@jupyter-widgets/controls",
      "model_module_version": "1.5.0",
      "model_name": "ProgressStyleModel",
      "state": {
       "description_width": ""
      }
     },
     "d97dbb5bd83641f0a3d968f40d3cb87a": {
      "model_module": "@jupyter-widgets/base",
      "model_module_version": "1.2.0",
      "model_name": "LayoutModel",
      "state": {
       "flex": "2"
      }
     },
     "d9d918516e4f4e45830980ac56a587b1": {
      "model_module": "@jupyter-widgets/base",
      "model_module_version": "1.2.0",
      "model_name": "LayoutModel",
      "state": {
       "display": "inline-flex",
       "flex_flow": "row wrap",
       "width": "100%"
      }
     },
     "dad9695e6d1e4a00a234d1beeead1a06": {
      "model_module": "@jupyter-widgets/controls",
      "model_module_version": "1.5.0",
      "model_name": "FloatProgressModel",
      "state": {
       "bar_style": "success",
       "layout": "IPY_MODEL_ff5e4b3024cd42309f905d99073b5bad",
       "max": 34,
       "style": "IPY_MODEL_eef555ef0a6d46158b226955bc505cc0",
       "value": 34
      }
     },
     "db1d3a07193543f5909e80b8060e902a": {
      "model_module": "@jupyter-widgets/base",
      "model_module_version": "1.2.0",
      "model_name": "LayoutModel",
      "state": {}
     },
     "dba3f6c532404466a745ee951e341a3a": {
      "model_module": "@jupyter-widgets/base",
      "model_module_version": "1.2.0",
      "model_name": "LayoutModel",
      "state": {
       "display": "inline-flex",
       "flex_flow": "row wrap",
       "width": "100%"
      }
     },
     "dbe4e40f5f9b403886d4a6aeef374e44": {
      "model_module": "@jupyter-widgets/controls",
      "model_module_version": "1.5.0",
      "model_name": "HBoxModel",
      "state": {
       "children": [
        "IPY_MODEL_b7818c18d4954492b5570379a198836d",
        "IPY_MODEL_770b865f3c194e24b0f376e9bfae5170",
        "IPY_MODEL_d8f21719265745169a9dd80f9bebcd16"
       ],
       "layout": "IPY_MODEL_5d0308f7d27d4cc0a5522b6128e4e85b"
      }
     },
     "df1559d7a0dd4059885107ae87d444a7": {
      "model_module": "@jupyter-widgets/controls",
      "model_module_version": "1.5.0",
      "model_name": "FloatProgressModel",
      "state": {
       "bar_style": "success",
       "layout": "IPY_MODEL_b1d0dc81b89a4c0e9c7af6fc2d80e197",
       "max": 29,
       "style": "IPY_MODEL_7436c996ae084570a70042e3c3f859d4",
       "value": 29
      }
     },
     "e1d1019f130a4f0791079879819739e8": {
      "model_module": "@jupyter-widgets/base",
      "model_module_version": "1.2.0",
      "model_name": "LayoutModel",
      "state": {}
     },
     "e1fa2376b47f4ada8057e105bbeaf64e": {
      "model_module": "@jupyter-widgets/base",
      "model_module_version": "1.2.0",
      "model_name": "LayoutModel",
      "state": {
       "display": "inline-flex",
       "flex_flow": "row wrap",
       "width": "100%"
      }
     },
     "e22ee649284b4d93b89e3b3f040da726": {
      "model_module": "@jupyter-widgets/controls",
      "model_module_version": "1.5.0",
      "model_name": "FloatProgressModel",
      "state": {
       "bar_style": "success",
       "layout": "IPY_MODEL_8b89c14a5185483fa93f94f4834ff132",
       "max": 31,
       "style": "IPY_MODEL_e2a14ac3e24f43239c9c520cb577e060",
       "value": 31
      }
     },
     "e249681f081b48ea8b8475afba6c9100": {
      "model_module": "@jupyter-widgets/controls",
      "model_module_version": "1.5.0",
      "model_name": "HTMLModel",
      "state": {
       "layout": "IPY_MODEL_4dcdcacdf40d493cb7460701002fa0e1",
       "style": "IPY_MODEL_f3183e4db31d4a0cb613e4e2e3ef3d24",
       "value": " 34.0/34 [00:00&lt;00:00, 45.19it/s]"
      }
     },
     "e2885e4f636547998556818ef52350a1": {
      "model_module": "@jupyter-widgets/controls",
      "model_module_version": "1.5.0",
      "model_name": "DescriptionStyleModel",
      "state": {
       "description_width": ""
      }
     },
     "e2a14ac3e24f43239c9c520cb577e060": {
      "model_module": "@jupyter-widgets/controls",
      "model_module_version": "1.5.0",
      "model_name": "ProgressStyleModel",
      "state": {
       "description_width": ""
      }
     },
     "e35523f43da64fb4a17c2be9909b9b36": {
      "model_module": "@jupyter-widgets/controls",
      "model_module_version": "1.5.0",
      "model_name": "DescriptionStyleModel",
      "state": {
       "description_width": ""
      }
     },
     "e3f27a8c8a9a4c15a15965edbf7dde0d": {
      "model_module": "@jupyter-widgets/base",
      "model_module_version": "1.2.0",
      "model_name": "LayoutModel",
      "state": {}
     },
     "e51632d8efce4d389a26db78bdc2c0e2": {
      "model_module": "@jupyter-widgets/controls",
      "model_module_version": "1.5.0",
      "model_name": "FloatProgressModel",
      "state": {
       "bar_style": "success",
       "layout": "IPY_MODEL_45ef214f39bf491cacae490f86469fbe",
       "max": 37,
       "style": "IPY_MODEL_aaeccfa5eb0045808a86dcbf667f9f41",
       "value": 37
      }
     },
     "e56b37967100496bb29c4dd8c08b312b": {
      "model_module": "@jupyter-widgets/base",
      "model_module_version": "1.2.0",
      "model_name": "LayoutModel",
      "state": {
       "display": "inline-flex",
       "flex_flow": "row wrap",
       "width": "100%"
      }
     },
     "e5f37e51c1fe451d8396d9b1e733212f": {
      "model_module": "@jupyter-widgets/base",
      "model_module_version": "1.2.0",
      "model_name": "LayoutModel",
      "state": {
       "flex": "2"
      }
     },
     "e6838be358644287a9e383cf07be6270": {
      "model_module": "@jupyter-widgets/controls",
      "model_module_version": "1.5.0",
      "model_name": "DescriptionStyleModel",
      "state": {
       "description_width": ""
      }
     },
     "e69ccd5190044c04bbc0051908deb845": {
      "model_module": "@jupyter-widgets/base",
      "model_module_version": "1.2.0",
      "model_name": "LayoutModel",
      "state": {}
     },
     "e6b1a7d4be3c493b95204984378d8b9d": {
      "model_module": "@jupyter-widgets/controls",
      "model_module_version": "1.5.0",
      "model_name": "ProgressStyleModel",
      "state": {
       "description_width": ""
      }
     },
     "e825e3e532cb4230ae87bed6baa96e14": {
      "model_module": "@jupyter-widgets/controls",
      "model_module_version": "1.5.0",
      "model_name": "HTMLModel",
      "state": {
       "layout": "IPY_MODEL_323f6de3e50446208bbeb28a4065381d",
       "style": "IPY_MODEL_fd0aa59697f74de1be18e0ad98a9ed3f",
       "value": " 34.0/34 [00:35&lt;00:00,  1.06s/it]"
      }
     },
     "e8358c7f555a446aa749498452551c12": {
      "model_module": "@jupyter-widgets/controls",
      "model_module_version": "1.5.0",
      "model_name": "HTMLModel",
      "state": {
       "layout": "IPY_MODEL_97fc9919f06b494db280f20aecd1791d",
       "style": "IPY_MODEL_d0120bb1e8a246dd8f8430a8611b2850",
       "value": " 34.0/34 [00:01&lt;00:00, 20.13it/s]"
      }
     },
     "e85f452ef54449139ccc1fe12e52abc4": {
      "model_module": "@jupyter-widgets/controls",
      "model_module_version": "1.5.0",
      "model_name": "ProgressStyleModel",
      "state": {
       "description_width": ""
      }
     },
     "e89692e220934b42b4023ae9eba68357": {
      "model_module": "@jupyter-widgets/controls",
      "model_module_version": "1.5.0",
      "model_name": "FloatProgressModel",
      "state": {
       "bar_style": "success",
       "layout": "IPY_MODEL_04937b99d22641a8b3ab5f4ff6719d34",
       "max": 37,
       "style": "IPY_MODEL_a1e96840b098426ca6ead7ea4240b3c0",
       "value": 37
      }
     },
     "e92acb9282064a35b309a64254de7a8d": {
      "model_module": "@jupyter-widgets/controls",
      "model_module_version": "1.5.0",
      "model_name": "HTMLModel",
      "state": {
       "layout": "IPY_MODEL_7dff7815c0694aa89bc1e098958e2344",
       "style": "IPY_MODEL_a255c0d0d79e4ee490f8b0015a442aa9",
       "value": "100%"
      }
     },
     "e9662aedca6c4b8aa7353cd19aa21313": {
      "model_module": "@jupyter-widgets/controls",
      "model_module_version": "1.5.0",
      "model_name": "HTMLModel",
      "state": {
       "layout": "IPY_MODEL_0e28d9cd3f2440a6b4d26f9e1a3ab50b",
       "style": "IPY_MODEL_65339301e4244bf29f58f6375952449c",
       "value": " 34.0/34 [00:00&lt;00:00, 742.54it/s]"
      }
     },
     "e9947deedbc24482970c255eea17eb20": {
      "model_module": "@jupyter-widgets/base",
      "model_module_version": "1.2.0",
      "model_name": "LayoutModel",
      "state": {}
     },
     "e9e48353f5544f22a3671aee431102ad": {
      "model_module": "@jupyter-widgets/controls",
      "model_module_version": "1.5.0",
      "model_name": "HTMLModel",
      "state": {
       "layout": "IPY_MODEL_b82169b4a7ca42fd82b0c7d0c70673a7",
       "style": "IPY_MODEL_ffb9b4ff73ab479b8467b54fb512a4f0",
       "value": " 37.0/37 [00:00&lt;00:00, 945.96it/s]"
      }
     },
     "eb4a931d29654a8f8c75855cc18d5da6": {
      "model_module": "@jupyter-widgets/base",
      "model_module_version": "1.2.0",
      "model_name": "LayoutModel",
      "state": {}
     },
     "ec744a0eee144ce2ae2b93b95746af32": {
      "model_module": "@jupyter-widgets/controls",
      "model_module_version": "1.5.0",
      "model_name": "DescriptionStyleModel",
      "state": {
       "description_width": ""
      }
     },
     "ec952650fb8847b58f65a742f5ef5c0e": {
      "model_module": "@jupyter-widgets/base",
      "model_module_version": "1.2.0",
      "model_name": "LayoutModel",
      "state": {}
     },
     "ecfc8efe37f14bcca5e5772046d805ca": {
      "model_module": "@jupyter-widgets/controls",
      "model_module_version": "1.5.0",
      "model_name": "DescriptionStyleModel",
      "state": {
       "description_width": ""
      }
     },
     "edd9ddb550a9439ab72e6bbf31294183": {
      "model_module": "@jupyter-widgets/controls",
      "model_module_version": "1.5.0",
      "model_name": "HTMLModel",
      "state": {
       "layout": "IPY_MODEL_8cf935ad6dc34e54a7677b9bd88da181",
       "style": "IPY_MODEL_cccce3387f5a4c81bd934b059812d2f2",
       "value": "100%"
      }
     },
     "ee0fcc0a28014c34bff1acf950021dbc": {
      "model_module": "@jupyter-widgets/base",
      "model_module_version": "1.2.0",
      "model_name": "LayoutModel",
      "state": {}
     },
     "eef555ef0a6d46158b226955bc505cc0": {
      "model_module": "@jupyter-widgets/controls",
      "model_module_version": "1.5.0",
      "model_name": "ProgressStyleModel",
      "state": {
       "description_width": ""
      }
     },
     "ef27404aad984e33a4c44705019c85fc": {
      "model_module": "@jupyter-widgets/controls",
      "model_module_version": "1.5.0",
      "model_name": "DescriptionStyleModel",
      "state": {
       "description_width": ""
      }
     },
     "ef9ffd9009284ce3b30264cea008885f": {
      "model_module": "@jupyter-widgets/base",
      "model_module_version": "1.2.0",
      "model_name": "LayoutModel",
      "state": {}
     },
     "eff1b7e3f1794bea848630fc964603bf": {
      "model_module": "@jupyter-widgets/controls",
      "model_module_version": "1.5.0",
      "model_name": "DescriptionStyleModel",
      "state": {
       "description_width": ""
      }
     },
     "f0573397b5574f738aa9c8ed6eeb4418": {
      "model_module": "@jupyter-widgets/controls",
      "model_module_version": "1.5.0",
      "model_name": "DescriptionStyleModel",
      "state": {
       "description_width": ""
      }
     },
     "f062854f0e1344659eea010d43e3483a": {
      "model_module": "@jupyter-widgets/base",
      "model_module_version": "1.2.0",
      "model_name": "LayoutModel",
      "state": {
       "display": "inline-flex",
       "flex_flow": "row wrap",
       "width": "100%"
      }
     },
     "f3183e4db31d4a0cb613e4e2e3ef3d24": {
      "model_module": "@jupyter-widgets/controls",
      "model_module_version": "1.5.0",
      "model_name": "DescriptionStyleModel",
      "state": {
       "description_width": ""
      }
     },
     "f3375972c92b43438b64f0006a2e9e0b": {
      "model_module": "@jupyter-widgets/controls",
      "model_module_version": "1.5.0",
      "model_name": "FloatProgressModel",
      "state": {
       "bar_style": "success",
       "layout": "IPY_MODEL_25c14afee8f34648a8769180141e0357",
       "max": 45,
       "style": "IPY_MODEL_e6b1a7d4be3c493b95204984378d8b9d",
       "value": 45
      }
     },
     "f3911e8d26714ec0b7c7472ebdb72924": {
      "model_module": "@jupyter-widgets/base",
      "model_module_version": "1.2.0",
      "model_name": "LayoutModel",
      "state": {
       "flex": "2"
      }
     },
     "f3ec75c12ace40a4bcd2a7e3406d99c1": {
      "model_module": "@jupyter-widgets/controls",
      "model_module_version": "1.5.0",
      "model_name": "HTMLModel",
      "state": {
       "layout": "IPY_MODEL_785414f5af634ccc8f919be709e96ed6",
       "style": "IPY_MODEL_5c55a0d1eb3f4de4bb68a7724d260707",
       "value": "100%"
      }
     },
     "f42abb57e68e45d8bc5edfecc3ce11a6": {
      "model_module": "@jupyter-widgets/base",
      "model_module_version": "1.2.0",
      "model_name": "LayoutModel",
      "state": {
       "display": "inline-flex",
       "flex_flow": "row wrap",
       "width": "100%"
      }
     },
     "f6dd2c5af8774039bd930d5de40f09a6": {
      "model_module": "@jupyter-widgets/controls",
      "model_module_version": "1.5.0",
      "model_name": "DescriptionStyleModel",
      "state": {
       "description_width": ""
      }
     },
     "f8c45515cec447b18b8f476db9b79f4f": {
      "model_module": "@jupyter-widgets/controls",
      "model_module_version": "1.5.0",
      "model_name": "FloatProgressModel",
      "state": {
       "bar_style": "success",
       "layout": "IPY_MODEL_21c7f008477d441d85c03f92bb0131ab",
       "max": 24,
       "style": "IPY_MODEL_5f1f0bde7a9544cda75a5104205a5a82",
       "value": 24
      }
     },
     "f91061f34875442aba897d82983063ac": {
      "model_module": "@jupyter-widgets/controls",
      "model_module_version": "1.5.0",
      "model_name": "DescriptionStyleModel",
      "state": {
       "description_width": ""
      }
     },
     "fa89493644244938b592890cdc0f3f6f": {
      "model_module": "@jupyter-widgets/base",
      "model_module_version": "1.2.0",
      "model_name": "LayoutModel",
      "state": {
       "display": "inline-flex",
       "flex_flow": "row wrap",
       "width": "100%"
      }
     },
     "fbad8406a94c47d2aeb9f6e36ed62cab": {
      "model_module": "@jupyter-widgets/controls",
      "model_module_version": "1.5.0",
      "model_name": "HBoxModel",
      "state": {
       "children": [
        "IPY_MODEL_4a7ee0c4642849e7a43ea2ab3e12a3dd",
        "IPY_MODEL_df1559d7a0dd4059885107ae87d444a7",
        "IPY_MODEL_d809c39230c74b93a7d2759f743a935f"
       ],
       "layout": "IPY_MODEL_119e2a171614404b8a20bca13b6c1cdb"
      }
     },
     "fcaad061ea434c1e8a4cac2ac4085427": {
      "model_module": "@jupyter-widgets/controls",
      "model_module_version": "1.5.0",
      "model_name": "HTMLModel",
      "state": {
       "layout": "IPY_MODEL_85a527dee8fc414fb94df44a792061ce",
       "style": "IPY_MODEL_12501f46d2104119ac462caa9b328d9c",
       "value": "100%"
      }
     },
     "fd0aa59697f74de1be18e0ad98a9ed3f": {
      "model_module": "@jupyter-widgets/controls",
      "model_module_version": "1.5.0",
      "model_name": "DescriptionStyleModel",
      "state": {
       "description_width": ""
      }
     },
     "fdd1bfb95c914636a8849cd23047e492": {
      "model_module": "@jupyter-widgets/base",
      "model_module_version": "1.2.0",
      "model_name": "LayoutModel",
      "state": {}
     },
     "fe710bf9e7724c1bb1c394e8e5b30997": {
      "model_module": "@jupyter-widgets/controls",
      "model_module_version": "1.5.0",
      "model_name": "HTMLModel",
      "state": {
       "layout": "IPY_MODEL_fdd1bfb95c914636a8849cd23047e492",
       "style": "IPY_MODEL_c0e5e094007c47dd809774555d951ef9",
       "value": "100%"
      }
     },
     "ff5e4b3024cd42309f905d99073b5bad": {
      "model_module": "@jupyter-widgets/base",
      "model_module_version": "1.2.0",
      "model_name": "LayoutModel",
      "state": {
       "flex": "2"
      }
     },
     "ffb9b4ff73ab479b8467b54fb512a4f0": {
      "model_module": "@jupyter-widgets/controls",
      "model_module_version": "1.5.0",
      "model_name": "DescriptionStyleModel",
      "state": {
       "description_width": ""
      }
     },
     "fff78a31bca84c278acea36265d5f492": {
      "model_module": "@jupyter-widgets/controls",
      "model_module_version": "1.5.0",
      "model_name": "FloatProgressModel",
      "state": {
       "bar_style": "success",
       "layout": "IPY_MODEL_1ab2691981fd4423b72a0c4da4b23ac3",
       "max": 34,
       "style": "IPY_MODEL_945408449d5849a5855567eaae193a91",
       "value": 34
      }
     }
    },
    "version_major": 2,
    "version_minor": 0
   }
  }
 },
 "nbformat": 4,
 "nbformat_minor": 5
}
