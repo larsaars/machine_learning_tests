{
 "cells": [
  {
   "cell_type": "code",
   "execution_count": 1,
   "id": "b2945ce5-8a82-439c-841f-d6371f773549",
   "metadata": {},
   "outputs": [],
   "source": [
    "from spherenet import SphereNet, MultiSphereNet, metrics_available\n",
    "import numpy as np\n",
    "import pandas as pd\n",
    "import matplotlib.pyplot as plt"
   ]
  },
  {
   "cell_type": "code",
   "execution_count": 2,
   "id": "f9acf25f-eae4-4cf5-8c5e-16163902eb96",
   "metadata": {},
   "outputs": [],
   "source": [
    "df_train, df_test = pd.read_csv('./datasets/mnist_train.csv'), pd.read_csv('./datasets/mnist_test.csv')"
   ]
  },
  {
   "cell_type": "code",
   "execution_count": 3,
   "id": "cbb0abca-654d-4a94-9bb8-95754aee1412",
   "metadata": {},
   "outputs": [],
   "source": [
    "X_train, y_train =  df_train.iloc[:, 1:].values, df_train['label'].values\n",
    "X_test, y_test =  df_test.iloc[:, 1:].values, df_test['label'].values"
   ]
  },
  {
   "cell_type": "code",
   "execution_count": 4,
   "id": "13cf9f10-d794-47b9-b1b5-0c2750eb61cb",
   "metadata": {},
   "outputs": [
    {
     "data": {
      "text/plain": [
       "((10000, 784), (60000, 784))"
      ]
     },
     "execution_count": 4,
     "metadata": {},
     "output_type": "execute_result"
    }
   ],
   "source": [
    "X_test.shape, X_train.shape"
   ]
  },
  {
   "cell_type": "code",
   "execution_count": null,
   "id": "c026dd1d-5315-4941-8614-d65ef7395f2e",
   "metadata": {},
   "outputs": [
    {
     "name": "stdout",
     "output_type": "stream",
     "text": [
      "Fitting SphereNet model for in_class 0\n",
      "X_IN.shape: (5923, 784)\n",
      "X_OUT.shape: (54077, 784)\n",
      "Calculating radii and centers...\n"
     ]
    },
    {
     "data": {
      "application/json": {
       "ascii": false,
       "bar_format": null,
       "colour": null,
       "elapsed": 0.012502908706665039,
       "initial": 0,
       "n": 0,
       "ncols": null,
       "nrows": null,
       "postfix": null,
       "prefix": "",
       "rate": null,
       "total": 5923,
       "unit": "it",
       "unit_divisor": 1000,
       "unit_scale": false
      },
      "application/vnd.jupyter.widget-view+json": {
       "model_id": "88d9761674264ea6925edd0280014c87",
       "version_major": 2,
       "version_minor": 0
      },
      "text/plain": [
       "  0%|          | 0/5923 [00:00<?, ?it/s]"
      ]
     },
     "metadata": {},
     "output_type": "display_data"
    }
   ],
   "source": [
    "net = MultiSphereNet(standard_scaling=False, normalization=False, verbosity=2, metric='euclid', p=2, min_dist_scaler=1, min_radius_threshold=-1)\n",
    "net.fit(X_train, y_train) "
   ]
  },
  {
   "cell_type": "code",
   "execution_count": null,
   "id": "a45ab9fb-2eb3-4ebe-90e4-dc7baf3ede72",
   "metadata": {},
   "outputs": [],
   "source": [
    "net.score(X_test, y_test)"
   ]
  },
  {
   "cell_type": "code",
   "execution_count": null,
   "id": "939d9493-1d59-4344-b3e7-703fda827b91",
   "metadata": {},
   "outputs": [],
   "source": [
    "pred = net.predict(X_test)"
   ]
  },
  {
   "cell_type": "code",
   "execution_count": null,
   "id": "58658070-daeb-46bb-9cef-f42aa3423382",
   "metadata": {},
   "outputs": [],
   "source": [
    "# not_clf = X_test[pred == -1].reshape(-1, 28, 28)"
   ]
  },
  {
   "cell_type": "code",
   "execution_count": null,
   "id": "83499272-b364-4c0e-a981-d34e95e0052a",
   "metadata": {},
   "outputs": [],
   "source": []
  }
 ],
 "metadata": {
  "kernelspec": {
   "display_name": "Python 3",
   "language": "python",
   "name": "python3"
  },
  "language_info": {
   "codemirror_mode": {
    "name": "ipython",
    "version": 3
   },
   "file_extension": ".py",
   "mimetype": "text/x-python",
   "name": "python",
   "nbconvert_exporter": "python",
   "pygments_lexer": "ipython3",
   "version": "3.9.12"
  }
 },
 "nbformat": 4,
 "nbformat_minor": 5
}
