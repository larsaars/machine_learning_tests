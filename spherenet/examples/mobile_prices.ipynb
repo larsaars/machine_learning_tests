{
 "cells": [
  {
   "cell_type": "code",
   "execution_count": 1,
   "id": "8f0edd77-92d0-4870-80ed-ec4074beffbc",
   "metadata": {},
   "outputs": [],
   "source": [
    "from spherenet import SphereNet, MultiSphereNet, metrics_available\n",
    "import numpy as np\n",
    "import pandas as pd\n",
    "from sklearn.model_selection import train_test_split\n",
    "from sklearn.preprocessing import LabelEncoder"
   ]
  },
  {
   "cell_type": "code",
   "execution_count": 2,
   "id": "97a346df-3dde-4a6e-b8c2-74475111ff25",
   "metadata": {},
   "outputs": [],
   "source": [
    "df = pd.read_csv('./datasets/mobile_prices.csv').fillna(0)"
   ]
  },
  {
   "cell_type": "code",
   "execution_count": 3,
   "id": "1ec2a88a-3029-4bac-9f48-ebf3daaa53d2",
   "metadata": {},
   "outputs": [],
   "source": [
    "ft_cols = list(df.columns)\n",
    "ft_cols.remove('price_range')"
   ]
  },
  {
   "cell_type": "code",
   "execution_count": 29,
   "id": "221e8cbe-9931-40db-b48f-3b6bea7bf92c",
   "metadata": {},
   "outputs": [],
   "source": [
    "X_train, X_test, y_train, y_test = train_test_split(df[ft_cols].values, df['price_range'].values, test_size=0.2)"
   ]
  },
  {
   "cell_type": "code",
   "execution_count": 51,
   "id": "fb7a84c9-ba68-4a2a-b3d3-bd381ae878d1",
   "metadata": {},
   "outputs": [
    {
     "name": "stdout",
     "output_type": "stream",
     "text": [
      "0.9625\n",
      "0.96\n",
      "0.9625\n",
      "0.93\n",
      "0.955\n",
      "0.565\n",
      "0.935\n",
      "0.9375\n",
      "0.4175\n",
      "0.9375\n",
      "0.56\n",
      "0.2575\n",
      "0.5575\n",
      "0.93\n",
      "0.96\n",
      "0.33\n"
     ]
    }
   ],
   "source": [
    "for metric in metrics_available:\n",
    "    net = MultiSphereNet( \n",
    "        min_dist_scaler=1.1, \n",
    "        min_radius_threshold=-1, \n",
    "        optimization_tolerance=0, \n",
    "        optimization_repetitions=1, \n",
    "        optimization_parallel=False, \n",
    "        min_num_classified=2, \n",
    "        max_spheres_used=-1, \n",
    "        metric=metric,\n",
    "        p=4, \n",
    "        standard_scaling=False, \n",
    "        normalization=False, \n",
    "        remove_training_outliers=True, \n",
    "        verbosity=0,\n",
    "        pred_mode='force'\n",
    "    ).fit(X_train, y_train)  \n",
    "\n",
    "    print(net.score(X_test, y_test))"
   ]
  }
 ],
 "metadata": {
  "kernelspec": {
   "display_name": "Python 3 (ipykernel)",
   "language": "python",
   "name": "python3"
  },
  "language_info": {
   "codemirror_mode": {
    "name": "ipython",
    "version": 3
   },
   "file_extension": ".py",
   "mimetype": "text/x-python",
   "name": "python",
   "nbconvert_exporter": "python",
   "pygments_lexer": "ipython3",
   "version": "3.9.12"
  },
  "widgets": {
   "application/vnd.jupyter.widget-state+json": {
    "state": {},
    "version_major": 2,
    "version_minor": 0
   }
  }
 },
 "nbformat": 4,
 "nbformat_minor": 5
}
