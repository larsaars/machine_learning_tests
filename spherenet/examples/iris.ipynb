{
 "cells": [
  {
   "cell_type": "code",
   "execution_count": 1,
   "id": "8f0edd77-92d0-4870-80ed-ec4074beffbc",
   "metadata": {},
   "outputs": [],
   "source": [
    "from spherenet import SphereNet, MultiSphereNet, metrics_available\n",
    "import numpy as np\n",
    "import pandas as pd\n",
    "from sklearn.model_selection import train_test_split\n",
    "from sklearn.preprocessing import LabelEncoder"
   ]
  },
  {
   "cell_type": "code",
   "execution_count": 2,
   "id": "97a346df-3dde-4a6e-b8c2-74475111ff25",
   "metadata": {},
   "outputs": [],
   "source": [
    "df = pd.read_csv('./datasets/IRIS.csv')"
   ]
  },
  {
   "cell_type": "code",
   "execution_count": 3,
   "id": "9cb686c5-2e43-4659-ae83-19facb69956b",
   "metadata": {},
   "outputs": [],
   "source": [
    "df = df.fillna(0).apply(LabelEncoder().fit_transform)"
   ]
  },
  {
   "cell_type": "code",
   "execution_count": 4,
   "id": "221e8cbe-9931-40db-b48f-3b6bea7bf92c",
   "metadata": {},
   "outputs": [],
   "source": [
    "X_train, X_test, y_train, y_test = train_test_split(df[['sepal.length', 'sepal.width', 'petal.length', 'petal.width']].values, df['variety'].values, test_size=0.3)"
   ]
  },
  {
   "cell_type": "code",
   "execution_count": 8,
   "id": "fb7a84c9-ba68-4a2a-b3d3-bd381ae878d1",
   "metadata": {},
   "outputs": [
    {
     "name": "stdout",
     "output_type": "stream",
     "text": [
      "Fitting SphereNet model for in_class 0\n",
      "X_IN.shape: (34, 4)\n",
      "X_OUT.shape: (71, 4)\n",
      "Calculating radii and centers...\n"
     ]
    },
    {
     "data": {
      "application/vnd.jupyter.widget-view+json": {
       "model_id": "d624014b214d457cb4028b9249d98407",
       "version_major": 2,
       "version_minor": 0
      },
      "text/plain": [
       "  0%|                                                                  | 0/34 [00:00<?, ?it/s]"
      ]
     },
     "metadata": {},
     "output_type": "display_data"
    },
    {
     "name": "stdout",
     "output_type": "stream",
     "text": [
      "Removing ambiguity...\n",
      "Repeating optimization: 0\n"
     ]
    },
    {
     "data": {
      "application/vnd.jupyter.widget-view+json": {
       "model_id": "d016f9b8b992434fb1b6be7f3cc8c736",
       "version_major": 2,
       "version_minor": 0
      },
      "text/plain": [
       "  0%|                                                                  | 0/34 [00:00<?, ?it/s]"
      ]
     },
     "metadata": {},
     "output_type": "display_data"
    },
    {
     "name": "stdout",
     "output_type": "stream",
     "text": [
      "N-Spheres produced for classification: 1\n",
      "Fitting SphereNet model for in_class 1\n",
      "X_IN.shape: (37, 4)\n",
      "X_OUT.shape: (68, 4)\n",
      "Calculating radii and centers...\n"
     ]
    },
    {
     "data": {
      "application/vnd.jupyter.widget-view+json": {
       "model_id": "545323c678bc46f7978ee9a33b325c2f",
       "version_major": 2,
       "version_minor": 0
      },
      "text/plain": [
       "  0%|                                                                  | 0/37 [00:00<?, ?it/s]"
      ]
     },
     "metadata": {},
     "output_type": "display_data"
    },
    {
     "name": "stdout",
     "output_type": "stream",
     "text": [
      "Removing ambiguity...\n",
      "Repeating optimization: 0\n"
     ]
    },
    {
     "data": {
      "application/vnd.jupyter.widget-view+json": {
       "model_id": "060301573ed2474ea50dcb746e8a682d",
       "version_major": 2,
       "version_minor": 0
      },
      "text/plain": [
       "  0%|                                                                  | 0/31 [00:00<?, ?it/s]"
      ]
     },
     "metadata": {},
     "output_type": "display_data"
    },
    {
     "name": "stdout",
     "output_type": "stream",
     "text": [
      "N-Spheres produced for classification: 5\n",
      "Fitting SphereNet model for in_class 2\n",
      "X_IN.shape: (34, 4)\n",
      "X_OUT.shape: (71, 4)\n",
      "Calculating radii and centers...\n"
     ]
    },
    {
     "data": {
      "application/vnd.jupyter.widget-view+json": {
       "model_id": "dbe4e40f5f9b403886d4a6aeef374e44",
       "version_major": 2,
       "version_minor": 0
      },
      "text/plain": [
       "  0%|                                                                  | 0/34 [00:00<?, ?it/s]"
      ]
     },
     "metadata": {},
     "output_type": "display_data"
    },
    {
     "name": "stdout",
     "output_type": "stream",
     "text": [
      "Removing ambiguity...\n",
      "Repeating optimization: 0\n"
     ]
    },
    {
     "data": {
      "application/vnd.jupyter.widget-view+json": {
       "model_id": "4f260bfb61914e99968eee66490b8b16",
       "version_major": 2,
       "version_minor": 0
      },
      "text/plain": [
       "  0%|                                                                  | 0/30 [00:00<?, ?it/s]"
      ]
     },
     "metadata": {},
     "output_type": "display_data"
    },
    {
     "name": "stdout",
     "output_type": "stream",
     "text": [
      "N-Spheres produced for classification: 5\n"
     ]
    },
    {
     "data": {
      "application/vnd.jupyter.widget-view+json": {
       "model_id": "33f39ce16f6d435cadb9a87aa2ee2d3d",
       "version_major": 2,
       "version_minor": 0
      },
      "text/plain": [
       "  0%|                                                                  | 0/45 [00:00<?, ?it/s]"
      ]
     },
     "metadata": {},
     "output_type": "display_data"
    },
    {
     "data": {
      "application/vnd.jupyter.widget-view+json": {
       "model_id": "0633ae86d3f041948ea64e29fd02a0ee",
       "version_major": 2,
       "version_minor": 0
      },
      "text/plain": [
       "  0%|                                                                  | 0/45 [00:00<?, ?it/s]"
      ]
     },
     "metadata": {},
     "output_type": "display_data"
    },
    {
     "data": {
      "application/vnd.jupyter.widget-view+json": {
       "model_id": "648f2e3dd0954205b592cc76c5f8af4a",
       "version_major": 2,
       "version_minor": 0
      },
      "text/plain": [
       "  0%|                                                                  | 0/45 [00:00<?, ?it/s]"
      ]
     },
     "metadata": {},
     "output_type": "display_data"
    },
    {
     "name": "stdout",
     "output_type": "stream",
     "text": [
      "0.9777777777777777\n"
     ]
    }
   ],
   "source": [
    "net = MultiSphereNet( \n",
    "    min_dist_scaler=1.0, \n",
    "    min_radius_threshold=0.01, \n",
    "    optimization_tolerance=0, \n",
    "    optimization_repetitions=1, \n",
    "    optimization_parallel=False, \n",
    "    min_num_classified=2, \n",
    "    max_spheres_used=-1, \n",
    "    metric='canberra',\n",
    "    p=2, \n",
    "    standard_scaling=False, \n",
    "    normalization=False, \n",
    "    remove_training_outliers=False, \n",
    "    verbosity=2,\n",
    "    pred_mode='force'\n",
    ")\n",
    "\n",
    "\n",
    "net.fit(X_train, y_train) \n",
    "\n",
    "print(net.score(X_test, y_test))"
   ]
  },
  {
   "cell_type": "code",
   "execution_count": null,
   "id": "a026f459-98f9-4515-b633-8700c59fbecf",
   "metadata": {},
   "outputs": [],
   "source": []
  }
 ],
 "metadata": {
  "kernelspec": {
   "display_name": "Python 3 (ipykernel)",
   "language": "python",
   "name": "python3"
  },
  "language_info": {
   "codemirror_mode": {
    "name": "ipython",
    "version": 3
   },
   "file_extension": ".py",
   "mimetype": "text/x-python",
   "name": "python",
   "nbconvert_exporter": "python",
   "pygments_lexer": "ipython3",
   "version": "3.9.12"
  },
  "widgets": {
   "application/vnd.jupyter.widget-state+json": {
    "state": {},
    "version_major": 2,
    "version_minor": 0
   }
  }
 },
 "nbformat": 4,
 "nbformat_minor": 5
}
