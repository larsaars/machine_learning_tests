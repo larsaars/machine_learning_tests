{
 "cells": [
  {
   "cell_type": "code",
   "execution_count": 1,
   "id": "8f0edd77-92d0-4870-80ed-ec4074beffbc",
   "metadata": {},
   "outputs": [],
   "source": [
    "from spherenet import SphereNet, MultiSphereNet, metrics_available\n",
    "import numpy as np\n",
    "import pandas as pd\n",
    "from sklearn.model_selection import train_test_split\n",
    "from sklearn.preprocessing import LabelEncoder"
   ]
  },
  {
   "cell_type": "code",
   "execution_count": 2,
   "id": "97a346df-3dde-4a6e-b8c2-74475111ff25",
   "metadata": {},
   "outputs": [],
   "source": [
    "df = pd.read_csv('IRIS.csv')"
   ]
  },
  {
   "cell_type": "code",
   "execution_count": 3,
   "id": "9cb686c5-2e43-4659-ae83-19facb69956b",
   "metadata": {},
   "outputs": [],
   "source": [
    "df = df.fillna(0).apply(LabelEncoder().fit_transform)"
   ]
  },
  {
   "cell_type": "code",
   "execution_count": 4,
   "id": "221e8cbe-9931-40db-b48f-3b6bea7bf92c",
   "metadata": {},
   "outputs": [],
   "source": [
    "X_train, X_test, y_train, y_test = train_test_split(df[['sepal_length', 'sepal_width', 'petal_length', 'petal_width']].values, df['species'].values, test_size=0.3)"
   ]
  },
  {
   "cell_type": "code",
   "execution_count": 5,
   "id": "fb7a84c9-ba68-4a2a-b3d3-bd381ae878d1",
   "metadata": {},
   "outputs": [
    {
     "name": "stdout",
     "output_type": "stream",
     "text": [
      "std\n",
      "0.9333333333333333\n",
      "minkowski\n",
      "0.9333333333333333\n",
      "euclid\n",
      "0.9555555555555556\n",
      "hamming\n",
      "0.9111111111111111\n",
      "max\n",
      "0.9111111111111111\n",
      "cosine\n",
      "0.7333333333333333\n",
      "jaccard\n",
      "0.9777777777777777\n",
      "dice\n",
      "0.9333333333333333\n",
      "canberra\n",
      "0.8888888888888888\n",
      "braycurtis\n",
      "0.9555555555555556\n",
      "correlation\n",
      "0.7777777777777778\n",
      "yule\n",
      "0.022222222222222223\n",
      "havensine\n",
      "0.7333333333333333\n",
      "sum\n",
      "0.9333333333333333\n"
     ]
    }
   ],
   "source": [
    "for metric in metrics_available: \n",
    "    print(metric)\n",
    "    net = MultiSphereNet(verbosity=0, metric=metric, p=4, min_dist_scaler=0.9, min_radius_threshold=-1, standard_scaling=False, normalization=False)\n",
    "    net.fit(X_train, y_train) \n",
    "    print(net.score(X_test, y_test))"
   ]
  },
  {
   "cell_type": "code",
   "execution_count": null,
   "id": "a026f459-98f9-4515-b633-8700c59fbecf",
   "metadata": {},
   "outputs": [],
   "source": []
  }
 ],
 "metadata": {
  "kernelspec": {
   "display_name": "Python 3",
   "language": "python",
   "name": "python3"
  },
  "language_info": {
   "codemirror_mode": {
    "name": "ipython",
    "version": 3
   },
   "file_extension": ".py",
   "mimetype": "text/x-python",
   "name": "python",
   "nbconvert_exporter": "python",
   "pygments_lexer": "ipython3",
   "version": "3.9.12"
  }
 },
 "nbformat": 4,
 "nbformat_minor": 5
}
