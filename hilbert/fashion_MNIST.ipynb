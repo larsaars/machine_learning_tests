{
 "cells": [
  {
   "cell_type": "markdown",
   "metadata": {
    "id": "DWQcKRvnovqo"
   },
   "source": [
    "# Fashion MNIST"
   ]
  },
  {
   "cell_type": "code",
   "execution_count": 2,
   "metadata": {
    "id": "YG0lDUgCn7UE"
   },
   "outputs": [],
   "source": [
    "%matplotlib inline\n",
    "import numpy as np\n",
    "import torch\n",
    "import matplotlib.pyplot as plt"
   ]
  },
  {
   "cell_type": "code",
   "execution_count": 3,
   "metadata": {
    "id": "7O9BjMv_hK7N"
   },
   "outputs": [],
   "source": [
    "class EarlyStopping:\n",
    "    def __init__(self, patience=5, path='model.pt'):\n",
    "        '''\n",
    "        Parameters:\n",
    "        patience (int): maximum number of epochs without improvement of the validation loss\n",
    "            Default: 5\n",
    "        path (str): path of the model to be saved to. \n",
    "            Default: 'model.pt'\n",
    "        '''\n",
    "        self.path = path\n",
    "        self.patience = patience\n",
    "        self.counter = 0\n",
    "        self.min_loss = np.Inf\n",
    "        self.early_stop = False\n",
    "\n",
    "    def __call__(self, val_loss, model):\n",
    "        if self.patience is None: return\n",
    "        if val_loss < self.min_loss: \n",
    "            self.save_model(val_loss, model)\n",
    "            self.min_loss = val_loss\n",
    "            self.counter = 0\n",
    "        else:\n",
    "            self.counter += 1\n",
    "            self.early_stop = self.patience < self.counter\n",
    "      \n",
    "    def save_model(self, val_loss, model):\n",
    "        if self.patience is None: return\n",
    "        torch.save(model.state_dict(), self.path)\n",
    "        print(f'\\t Validation loss decreased: {self.min_loss:>.6f} to {val_loss:>.6f}. Model saved')\n",
    "\n",
    "    def get_model(self, model):\n",
    "        if self.patience is None: return model\n",
    "        model.load_state_dict(torch.load(self.path))\n",
    "        return model"
   ]
  },
  {
   "cell_type": "markdown",
   "metadata": {
    "id": "bLhYBSF8phC4"
   },
   "source": [
    "## Load Dataset"
   ]
  },
  {
   "cell_type": "code",
   "execution_count": 4,
   "metadata": {
    "id": "VdkHUmkUozy_"
   },
   "outputs": [],
   "source": [
    "from torch.utils.data import DataLoader, random_split\n",
    "from torchvision import datasets, transforms\n",
    "from torchvision.transforms import ToTensor\n",
    "\n",
    "def load_data(batch_size=64, val_size=0.1):\n",
    "    # Download training data from open datasets\n",
    "    train_data = datasets.FashionMNIST(\n",
    "    root=\"data\",\n",
    "    train=True,\n",
    "    download=True,\n",
    "    transform=transforms.Compose([\n",
    "        transforms.ToTensor(), \n",
    "        transforms.Normalize((0.5,), (0.5,))])\n",
    "    )\n",
    "\n",
    "    # Download test data from open datasets.\n",
    "    test_data = datasets.FashionMNIST(\n",
    "        root=\"data\",\n",
    "        train=False,\n",
    "        download=True,\n",
    "        transform=transforms.Compose([\n",
    "            transforms.ToTensor(), \n",
    "            transforms.Normalize((0.5,), (0.5,))])\n",
    "    )\n",
    "\n",
    "    # split training set into train and validation set\n",
    "    num_train = len(train_data)\n",
    "    num_val = int(val_size*num_train)\n",
    "    num_train -= num_val\n",
    "    train_set, val_set = random_split(train_data, [num_train, num_val], generator=torch.Generator().manual_seed(42))\n",
    "\n",
    "    # load data sets in batches\n",
    "    train_ldr = DataLoader(train_set, batch_size=batch_size)\n",
    "    val_ldr = DataLoader(val_set, batch_size=batch_size)\n",
    "    test_ldr = DataLoader(test_data, batch_size=batch_size)\n",
    "    \n",
    "    return train_ldr, val_ldr, test_ldr"
   ]
  },
  {
   "cell_type": "markdown",
   "metadata": {
    "id": "iYDM8Uy7B0ap"
   },
   "source": [
    "## CNN"
   ]
  },
  {
   "cell_type": "code",
   "execution_count": 6,
   "metadata": {
    "id": "c3lvWyTtq0gs"
   },
   "outputs": [
    {
     "name": "stdout",
     "output_type": "stream",
     "text": [
      "-----------------------------------------------------------------------\n",
      "      Layer (type)        Output Shape         Param #     Tr. Param #\n",
      "=======================================================================\n",
      "          Conv2d-1     [1, 32, 28, 28]             320             320\n",
      "     BatchNorm2d-2     [1, 32, 28, 28]              64              64\n",
      "            ReLU-3     [1, 32, 28, 28]               0               0\n",
      "       MaxPool2d-4     [1, 32, 14, 14]               0               0\n",
      "          Conv2d-5     [1, 64, 12, 12]          18,496          18,496\n",
      "     BatchNorm2d-6     [1, 64, 12, 12]             128             128\n",
      "            ReLU-7     [1, 64, 12, 12]               0               0\n",
      "       MaxPool2d-8       [1, 64, 6, 6]               0               0\n",
      "          Linear-9            [1, 600]       1,383,000       1,383,000\n",
      "      Dropout2d-10            [1, 600]               0               0\n",
      "         Linear-11            [1, 120]          72,120          72,120\n",
      "         Linear-12             [1, 10]           1,210           1,210\n",
      "=======================================================================\n",
      "Total params: 1,475,338\n",
      "Trainable params: 1,475,338\n",
      "Non-trainable params: 0\n",
      "-----------------------------------------------------------------------\n"
     ]
    }
   ],
   "source": [
    "from torch import nn\n",
    "from pytorch_model_summary import summary\n",
    "from hilbert_flatten import HilbertFlatten\n",
    "\n",
    "class NeuralNetwork(nn.Module):\n",
    "    def __init__(self):\n",
    "        super(NeuralNetwork, self).__init__()\n",
    "        \n",
    "        self.flatten = HilbertFlatten()\n",
    "        \n",
    "        self.layer1 = nn.Sequential(\n",
    "            nn.Conv1d(in_channels=1, out_channels=32, kernel_size=3, padding=1),\n",
    "            nn.BatchNorm2d(32),\n",
    "            nn.ReLU(),\n",
    "            nn.MaxPool2d(kernel_size=2, stride=2)\n",
    "        )\n",
    "        self.layer2 = nn.Sequential(\n",
    "            nn.Conv2d(in_channels=32, out_channels=64, kernel_size=3),\n",
    "            nn.BatchNorm2d(64),\n",
    "            nn.ReLU(),\n",
    "            nn.MaxPool2d(2)\n",
    "        )\n",
    "        self.fc1 = nn.Linear(in_features=64*6*6, out_features=600)\n",
    "        self.drop = nn.Dropout2d(0.25)\n",
    "        self.fc2 = nn.Linear(in_features=600, out_features=120)\n",
    "        self.fc3 = nn.Linear(in_features=120, out_features=10)\n",
    "        \n",
    "    def forward(self, x):\n",
    "        out = self.layer1(x)\n",
    "        out = self.layer2(out)\n",
    "        out = out.view(out.size(0), -1)\n",
    "        out = self.fc1(out)\n",
    "        out = self.drop(out)\n",
    "        out = self.fc2(out)\n",
    "        out = self.fc3(out)\n",
    "        \n",
    "        return out\n",
    "    \n",
    "model = NeuralNetwork()\n",
    "print(summary(model, torch.zeros((1, 1, 28, 28))))"
   ]
  },
  {
   "cell_type": "markdown",
   "metadata": {
    "id": "XYMPxYsevYAt"
   },
   "source": [
    "## Network Functions"
   ]
  },
  {
   "cell_type": "code",
   "execution_count": 5,
   "metadata": {
    "id": "VPQZGAIOvigM"
   },
   "outputs": [],
   "source": [
    "def train(dataloader, model, loss_fn, optimizer):\n",
    "    size = len(dataloader.dataset)\n",
    "    train_loss, correct = 0, 0\n",
    "    model.train()\n",
    "    for batch, (X, y) in enumerate(dataloader):\n",
    "        X, y = X.to(device), y.to(device)\n",
    "        \n",
    "        # Compute prediction error\n",
    "        pred = model(X)\n",
    "        loss = loss_fn(pred, y)\n",
    "        \n",
    "        # Backpropagation\n",
    "        optimizer.zero_grad()\n",
    "        loss.backward()\n",
    "        optimizer.step()\n",
    "\n",
    "        # accumulate loss and accuracy\n",
    "        train_loss += loss.item()*len(y)\n",
    "        correct += (pred.argmax(1) == y).type(torch.float).sum().item()\n",
    "    \n",
    "    train_loss /= size\n",
    "    correct /= size\n",
    "    return train_loss, correct"
   ]
  },
  {
   "cell_type": "code",
   "execution_count": 6,
   "metadata": {
    "id": "qTgN81bGwO_m"
   },
   "outputs": [],
   "source": [
    "def test(dataloader, model):\n",
    "    size = len(dataloader.dataset)\n",
    "    test_loss, correct = 0, 0\n",
    "    model.eval()\n",
    "    with torch.no_grad():\n",
    "        for X, y in dataloader:\n",
    "            X, y = X.to(device), y.to(device)\n",
    "            pred = model(X)\n",
    "            test_loss += loss_fn(pred, y).item()*len(y)\n",
    "            correct += (pred.argmax(1) == y).type(torch.float).sum().item()\n",
    "    test_loss /= size\n",
    "    correct /= size\n",
    "    return test_loss, correct"
   ]
  },
  {
   "cell_type": "code",
   "execution_count": 16,
   "metadata": {
    "id": "jCrFMO2rwmrR"
   },
   "outputs": [],
   "source": [
    "def fit(train_ldr, val_ldr, model, loss_fn, optimizer, patience, n_epochs):\n",
    "    train_losses = []\n",
    "    val_losses = []\n",
    "\n",
    "    # initialize early stoppping\n",
    "    early_stopping = EarlyStopping(patience=patience)\n",
    "\n",
    "    for t in range(1, n_epochs+1):\n",
    "        train_loss, train_acc = train(train_ldr, model, loss_fn, optimizer)\n",
    "        val_loss, val_acc = test(val_ldr, model)\n",
    "        train_losses.append(train_loss)\n",
    "        val_losses.append(val_loss)\n",
    "\n",
    "        info(t, n_epochs, train_loss, val_loss, train_acc, val_acc)\n",
    "\n",
    "        early_stopping(val_loss, model)\n",
    "        if early_stopping.early_stop:\n",
    "            print('Terminate by early stopping.')\n",
    "            break\n",
    "\n",
    "    model = early_stopping.get_model(model)\n",
    "    return model, train_losses, val_losses\n",
    "\n",
    "# prints info about progress\n",
    "def info(t, n_epochs, train_loss, val_loss, train_acc, val_acc):\n",
    "    digits = len(str(n_epochs))\n",
    "    msg = (f'[{t:>{digits}}/{n_epochs:>{digits}}] ' +\n",
    "         f'train loss: {train_loss:.5f}     ' +\n",
    "         f'val loss: {val_loss:.5f}      ' +\n",
    "         f'train acc: {train_acc:.5f}     ' +\n",
    "         f'val acc: {val_acc:.5f}')\n",
    "    print(msg)"
   ]
  },
  {
   "cell_type": "markdown",
   "metadata": {
    "id": "2dVyPzeZH5Ho"
   },
   "source": [
    "## Experiments"
   ]
  },
  {
   "cell_type": "markdown",
   "metadata": {
    "id": "JoQh_NfCGOs1"
   },
   "source": [
    "#### Parameter Setting"
   ]
  },
  {
   "cell_type": "code",
   "execution_count": 17,
   "metadata": {
    "id": "0LaROy5SIJRP"
   },
   "outputs": [],
   "source": [
    "# number of epochs\n",
    "epochs = 1000\n",
    "\n",
    "# learning rate \n",
    "lr = 0.001\n",
    "\n",
    "# l2 regularization\n",
    "wd = 0.0\n",
    "\n",
    "# patience: maximum epochs without improvement of validation loss\n",
    "patience = 15\n",
    "\n",
    "# batch size\n",
    "batch_size = 64"
   ]
  },
  {
   "cell_type": "markdown",
   "metadata": {
    "id": "hNsv0V_mGSHh"
   },
   "source": [
    "#### Load Data"
   ]
  },
  {
   "cell_type": "code",
   "execution_count": 18,
   "metadata": {
    "id": "BUi0pY-4F98o"
   },
   "outputs": [
    {
     "name": "stdout",
     "output_type": "stream",
     "text": [
      "Using cpu device\n"
     ]
    }
   ],
   "source": [
    "# load data\n",
    "train_ldr, val_ldr, test_ldr = load_data(batch_size=batch_size)\n",
    "\n",
    "# Get cpu or gpu device for training\n",
    "device = \"cuda\" if torch.cuda.is_available() else \"cpu\"\n",
    "print(\"Using {} device\".format(device))"
   ]
  },
  {
   "cell_type": "markdown",
   "metadata": {
    "id": "4Ah_7TPmGUU6"
   },
   "source": [
    "#### Fit and Evaluate"
   ]
  },
  {
   "cell_type": "code",
   "execution_count": 19,
   "metadata": {
    "id": "pLuabb5sRfQ3"
   },
   "outputs": [
    {
     "name": "stdout",
     "output_type": "stream",
     "text": [
      "[   1/1000] train loss: 0.44544     val loss: 0.32189      train acc: 0.84352     val acc: 0.88450\n",
      "\t Validation loss decreased: inf to 0.321888. Model saved\n",
      "[   2/1000] train loss: 0.30276     val loss: 0.30219      train acc: 0.89185     val acc: 0.89250\n",
      "\t Validation loss decreased: 0.321888 to 0.302191. Model saved\n",
      "[   3/1000] train loss: 0.26304     val loss: 0.28348      train acc: 0.90563     val acc: 0.89783\n",
      "\t Validation loss decreased: 0.302191 to 0.283482. Model saved\n",
      "[   4/1000] train loss: 0.23493     val loss: 0.29218      train acc: 0.91648     val acc: 0.89450\n",
      "[   5/1000] train loss: 0.21370     val loss: 0.28054      train acc: 0.92313     val acc: 0.90133\n",
      "\t Validation loss decreased: 0.283482 to 0.280543. Model saved\n",
      "[   6/1000] train loss: 0.19604     val loss: 0.33776      train acc: 0.92946     val acc: 0.88817\n",
      "[   7/1000] train loss: 0.18058     val loss: 0.33012      train acc: 0.93491     val acc: 0.89300\n",
      "[   8/1000] train loss: 0.16557     val loss: 0.34219      train acc: 0.94065     val acc: 0.89217\n",
      "[   9/1000] train loss: 0.15371     val loss: 0.37832      train acc: 0.94561     val acc: 0.88617\n",
      "[  10/1000] train loss: 0.14358     val loss: 0.37004      train acc: 0.94900     val acc: 0.88517\n",
      "[  11/1000] train loss: 0.13159     val loss: 0.36587      train acc: 0.95307     val acc: 0.89517\n",
      "[  12/1000] train loss: 0.12185     val loss: 0.39678      train acc: 0.95676     val acc: 0.89500\n",
      "[  13/1000] train loss: 0.11548     val loss: 0.35982      train acc: 0.95891     val acc: 0.90050\n",
      "[  14/1000] train loss: 0.11091     val loss: 0.34881      train acc: 0.96069     val acc: 0.91017\n",
      "[  15/1000] train loss: 0.10093     val loss: 0.40759      train acc: 0.96400     val acc: 0.89750\n",
      "[  16/1000] train loss: 0.09528     val loss: 0.39441      train acc: 0.96600     val acc: 0.89900\n",
      "[  17/1000] train loss: 0.09359     val loss: 0.41812      train acc: 0.96533     val acc: 0.90267\n",
      "[  18/1000] train loss: 0.08983     val loss: 0.47413      train acc: 0.96659     val acc: 0.89700\n",
      "[  19/1000] train loss: 0.08302     val loss: 0.45873      train acc: 0.97033     val acc: 0.90033\n",
      "[  20/1000] train loss: 0.07292     val loss: 0.46029      train acc: 0.97315     val acc: 0.90833\n",
      "[  21/1000] train loss: 0.07576     val loss: 0.47500      train acc: 0.97176     val acc: 0.90367\n",
      "Terminate by early stopping.\n",
      "Test error: \n",
      " accuracy: 89.8%, avg loss: 0.294466 \n",
      "\n"
     ]
    },
    {
     "data": {
      "image/png": "[encoded data removed]",
      "text/plain": [
       "<Figure size 720x432 with 1 Axes>"
      ]
     },
     "metadata": {
      "needs_background": "light"
     },
     "output_type": "display_data"
    }
   ],
   "source": [
    "model = NeuralNetwork().to(device)\n",
    "loss_fn = nn.CrossEntropyLoss()\n",
    "optimizer = torch.optim.Adam(model.parameters(), lr=lr, weight_decay=wd)\n",
    "\n",
    "model, train_losses, val_losses = fit(train_ldr, val_ldr, model, loss_fn, optimizer, patience, epochs)\n",
    "test_loss, accuracy = test(test_ldr, model)\n",
    "print(f\"Test error: \\n accuracy: {(100*accuracy):>0.1f}%, avg loss: {test_loss:>8f} \\n\")\n",
    "\n",
    "\n",
    "# plot train and test error\n",
    "fig = plt.figure(figsize=(10, 6))\n",
    "t = range(1,len(train_losses)+1)\n",
    "plt.plot(t, train_losses, label='train loss')\n",
    "plt.plot(t, val_losses, label='val loss')\n",
    "\n",
    "# early stopping checkpoint\n",
    "minpos_val = np.argmin(val_losses)+1 \n",
    "plt.axvline(minpos_val, linestyle='-.', color='r',label='early stopping')\n",
    "\n",
    "plt.legend()\n",
    "plt.show()"
   ]
  },
  {
   "cell_type": "code",
   "execution_count": null,
   "metadata": {
    "id": "3p6U1Pp3D3mc"
   },
   "outputs": [],
   "source": []
  }
 ],
 "metadata": {
  "accelerator": "GPU",
  "colab": {
   "authorship_tag": "ABX9TyMMxweSFmlfmWGer3slPq2N",
   "collapsed_sections": [],
   "name": "ue09_MNISTFashion.ipynb",
   "private_outputs": true,
   "provenance": []
  },
  "kernelspec": {
   "display_name": "Python 3",
   "language": "python",
   "name": "python3"
  },
  "language_info": {
   "codemirror_mode": {
    "name": "ipython",
    "version": 3
   },
   "file_extension": ".py",
   "mimetype": "text/x-python",
   "name": "python",
   "nbconvert_exporter": "python",
   "pygments_lexer": "ipython3",
   "version": "3.9.5"
  }
 },
 "nbformat": 4,
 "nbformat_minor": 4
}
